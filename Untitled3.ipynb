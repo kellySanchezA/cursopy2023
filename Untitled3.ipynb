{
  "nbformat": 4,
  "nbformat_minor": 0,
  "metadata": {
    "colab": {
      "provenance": [],
      "authorship_tag": "ABX9TyPAjHaa4KvImzO14QA7eS6O",
      "include_colab_link": true
    },
    "kernelspec": {
      "name": "python3",
      "display_name": "Python 3"
    },
    "language_info": {
      "name": "python"
    }
  },
  "cells": [
    {
      "cell_type": "markdown",
      "metadata": {
        "id": "view-in-github",
        "colab_type": "text"
      },
      "source": [
        "<a href=\"https://colab.research.google.com/github/kellySanchezA/cursopy2023/blob/main/Untitled3.ipynb\" target=\"_parent\"><img src=\"https://colab.research.google.com/assets/colab-badge.svg\" alt=\"Open In Colab\"/></a>"
      ]
    },
    {
      "cell_type": "code",
      "execution_count": 2,
      "metadata": {
        "colab": {
          "base_uri": "https://localhost:8080/"
        },
        "id": "J0swVbUoCYhh",
        "outputId": "501b5ee1-8289-4f4c-f9a5-3b7997f04b50"
      },
      "outputs": [
        {
          "output_type": "stream",
          "name": "stdout",
          "text": [
            "Ingresa un Dia de la semana:miercoles\n",
            "Se casa la patrona\n"
          ]
        }
      ],
      "source": [
        "dia = (input (\"Ingresa un Dia de la semana:\"))\n",
        "if dia == 'lunes':\n",
        "  print(\"No voa tabajá!\")\n",
        "elif dia=='martes':\n",
        "  print(\"Ni te cases ni te embarques Pa que voy a arriesgarme No voy a trabajar!\")\n",
        "elif dia=='miercoles':\n",
        "  print(\"Se casa la patrona\")\n",
        "elif dia=='jueves':\n",
        "  print(\"Estoy muy desvelado\")\n",
        "elif dia== 'viernes':\n",
        "  print(\"Que muere jesucristo!Donde se ha visto?\")\n",
        "elif dia == 'sabado':\n",
        "  print(\"Trabajo medio día\")\n",
        "elif dia == 'domingo':\n",
        "  print(\"Día de descanso\")\n",
        "else :\n",
        "  print(\"SOLO SE PUEDE LOS DIAS DE LA SEMANA!!!\")\n"
      ]
    }
  ]
}