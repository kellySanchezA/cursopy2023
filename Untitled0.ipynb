{
  "nbformat": 4,
  "nbformat_minor": 0,
  "metadata": {
    "colab": {
      "provenance": [],
      "authorship_tag": "ABX9TyMIsSoZ0oN7sVc8AU/erOqq",
      "include_colab_link": true
    },
    "kernelspec": {
      "name": "python3",
      "display_name": "Python 3"
    },
    "language_info": {
      "name": "python"
    }
  },
  "cells": [
    {
      "cell_type": "markdown",
      "metadata": {
        "id": "view-in-github",
        "colab_type": "text"
      },
      "source": [
        "<a href=\"https://colab.research.google.com/github/kellySanchezA/cursopy2023/blob/main/Untitled0.ipynb\" target=\"_parent\"><img src=\"https://colab.research.google.com/assets/colab-badge.svg\" alt=\"Open In Colab\"/></a>"
      ]
    },
    {
      "cell_type": "markdown",
      "source": [
        "#MI primer código de python\n",
        ""
      ],
      "metadata": {
        "id": "NXx7qWfXt6FZ"
      }
    },
    {
      "cell_type": "code",
      "execution_count": 2,
      "metadata": {
        "colab": {
          "base_uri": "https://localhost:8080/"
        },
        "id": "Jgl4iE4bjMSM",
        "outputId": "388d0150-3d95-4451-995d-ebff73facfa4"
      },
      "outputs": [
        {
          "output_type": "stream",
          "name": "stdout",
          "text": [
            "Hello, World\n"
          ]
        }
      ],
      "source": [
        "#En python podemos usar comillas dobles o\n",
        "# para crear un string (cadena de caracteres o texto)\n",
        "print(\"Hello, World!\")"
      ]
    },
    {
      "cell_type": "code",
      "source": [
        "# Pero también podemos usar comillas sencillas\n",
        "print('Hello, World!')"
      ],
      "metadata": {
        "colab": {
          "base_uri": "https://localhost:8080/"
        },
        "id": "gutZu1C2tDCZ",
        "outputId": "17d52548-8f3e-42f0-9ca0-a87bd4aab7cd"
      },
      "execution_count": 3,
      "outputs": [
        {
          "output_type": "stream",
          "name": "stdout",
          "text": [
            "Hello, World!\n"
          ]
        }
      ]
    },
    {
      "cell_type": "code",
      "source": [
        "#Aunque no es necesario usar el print en colab\n",
        "#para mostrar un resultado\n",
        "\"Hello, World!\"\n",
        "#Útil cuando desarrollamos o requerimos ver un resultado\n",
        "#Pero como buena"
      ],
      "metadata": {
        "id": "FDEOCufbuORp"
      },
      "execution_count": null,
      "outputs": []
    }
  ]
}