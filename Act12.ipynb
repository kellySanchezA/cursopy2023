{
  "nbformat": 4,
  "nbformat_minor": 0,
  "metadata": {
    "colab": {
      "provenance": [],
      "authorship_tag": "ABX9TyOd/767mMpnqgQhA2tIISRA",
      "include_colab_link": true
    },
    "kernelspec": {
      "name": "python3",
      "display_name": "Python 3"
    },
    "language_info": {
      "name": "python"
    }
  },
  "cells": [
    {
      "cell_type": "markdown",
      "metadata": {
        "id": "view-in-github",
        "colab_type": "text"
      },
      "source": [
        "<a href=\"https://colab.research.google.com/github/kellySanchezA/cursopy2023/blob/main/Act12.ipynb\" target=\"_parent\"><img src=\"https://colab.research.google.com/assets/colab-badge.svg\" alt=\"Open In Colab\"/></a>"
      ]
    },
    {
      "cell_type": "code",
      "execution_count": 5,
      "metadata": {
        "id": "KxbZRYZzhqkV"
      },
      "outputs": [],
      "source": [
        "class Galletas:\n",
        "  def __init__(self, sabor, diametro, chispas ):\n",
        "    self.sabor = sabor\n",
        "    self.diametro = diametro\n",
        "    self.chispas = chispas\n",
        "  def peso_chis (self):\n",
        "    peso = (self.diametro*11)/4.4\n",
        "    chispas = 2\n",
        "    if self.chispas == True:\n",
        "      print(f\"Una galleta de {galleta_con_chispas.sabor} con chispas y un diámetro de {galleta_con_chispas.diametro} cm pesará {peso + chispas} g\")\n",
        "      return peso + chispas\n",
        "    else:\n",
        "      print(f\"Una galleta de {galleta_sin_chispas.sabor} sin chispas y un diámetro de {galleta_sin_chispas.diametro} cm pesará {peso} g\")\n",
        "      return peso"
      ]
    },
    {
      "cell_type": "code",
      "source": [
        "galleta_sin_chispas = Galletas(\"vainilla\", 4.4, False)\n",
        "peso_galleta_sin_chispas = galleta_sin_chispas.peso_chis()"
      ],
      "metadata": {
        "colab": {
          "base_uri": "https://localhost:8080/"
        },
        "id": "ho4325johsSM",
        "outputId": "bc58c329-6460-4dcc-c63b-1173654e49e1"
      },
      "execution_count": 3,
      "outputs": [
        {
          "output_type": "stream",
          "name": "stdout",
          "text": [
            "Una galleta de vainilla sin chispas y un diámetro de 4.4 cm pesará 11.0 g\n"
          ]
        }
      ]
    },
    {
      "cell_type": "code",
      "source": [
        "galleta_con_chispas = Galletas(\"chocolate\", 4.4, True)\n",
        "peso_galleta_con_chispas = galleta_con_chispas.peso_chis()"
      ],
      "metadata": {
        "colab": {
          "base_uri": "https://localhost:8080/"
        },
        "id": "4ShyL5Quhz3y",
        "outputId": "20789561-b30b-452c-fd73-71341bb21ab2"
      },
      "execution_count": 4,
      "outputs": [
        {
          "output_type": "stream",
          "name": "stdout",
          "text": [
            "Una galleta de chocolate con chispas y un diámetro de 4.4 cm pesará 13.0 g\n"
          ]
        }
      ]
    }
  ]
}