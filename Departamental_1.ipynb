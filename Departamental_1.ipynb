{
  "nbformat": 4,
  "nbformat_minor": 0,
  "metadata": {
    "colab": {
      "provenance": [],
      "toc_visible": true,
      "authorship_tag": "ABX9TyM5x+OIdMzs9OjJcXNTrJp3",
      "include_colab_link": true
    },
    "kernelspec": {
      "name": "python3",
      "display_name": "Python 3"
    },
    "language_info": {
      "name": "python"
    }
  },
  "cells": [
    {
      "cell_type": "markdown",
      "metadata": {
        "id": "view-in-github",
        "colab_type": "text"
      },
      "source": [
        "<a href=\"https://colab.research.google.com/github/kellySanchezA/cursopy2023/blob/main/Departamental_1.ipynb\" target=\"_parent\"><img src=\"https://colab.research.google.com/assets/colab-badge.svg\" alt=\"Open In Colab\"/></a>"
      ]
    },
    {
      "cell_type": "code",
      "execution_count": 1,
      "metadata": {
        "colab": {
          "base_uri": "https://localhost:8080/"
        },
        "id": "KEDH0aYprtTz",
        "outputId": "d64a4799-f948-4c7e-b058-769b52a9200d"
      },
      "outputs": [
        {
          "output_type": "stream",
          "name": "stdout",
          "text": [
            "Matriz BoW:\n",
            "[[0 0 0 0 0 1 0 0 0 0 0 0 0 0 2 0 1 0 0 0 0 1 0 0 1 0 0 0 0 0 0 0 0 1 0 0\n",
            "  0 0 0 0 0 0 0 0 0 0 0 1 0 0 0 0 0 0]\n",
            " [1 0 0 1 0 0 0 0 0 0 0 1 0 0 0 0 0 0 0 0 1 0 0 1 1 1 1 0 0 0 1 0 0 0 0 0\n",
            "  1 0 0 0 0 1 0 0 0 0 0 0 0 0 0 0 1 0]\n",
            " [0 0 0 0 0 1 0 1 1 1 0 0 0 0 3 0 0 1 2 0 0 0 1 0 0 0 0 1 0 0 0 0 1 1 0 0\n",
            "  0 0 0 0 1 0 0 1 0 0 1 1 0 0 0 1 0 0]\n",
            " [0 0 0 0 0 1 0 1 0 0 0 0 1 1 3 1 0 1 1 1 0 0 0 0 0 0 0 0 0 0 0 0 0 2 0 0\n",
            "  0 0 0 0 0 0 0 1 0 0 0 1 0 0 1 1 0 0]\n",
            " [0 1 0 0 1 0 1 0 0 0 1 0 0 0 1 0 0 0 1 0 0 1 0 0 0 0 0 0 1 0 0 0 0 0 1 0\n",
            "  0 0 0 0 0 0 1 0 1 1 0 0 1 0 0 0 0 1]\n",
            " [0 0 1 0 0 0 0 0 0 0 0 0 0 0 3 0 0 0 1 0 0 1 0 0 0 0 0 0 0 1 0 1 0 0 0 1\n",
            "  0 1 1 1 0 0 0 0 1 0 0 1 0 1 0 0 0 0]]\n",
            "Vocabulario:\n",
            "['alfonso' 'análisis' 'aplicaciones' 'arzate' 'biblioteca' 'bolsa' 'bow'\n",
            " 'cada' 'características' 'como' 'con' 'conformado' 'contadas' 'convierte'\n",
            " 'de' 'documento' 'ejemplo' 'el' 'en' 'enfoque' 'equipo' 'es' 'espacio'\n",
            " 'esta' 'este' 'hernandez' 'kelly' 'la' 'learn' 'lenguaje' 'luis' 'muchas'\n",
            " 'palabra' 'palabras' 'para' 'popular' 'por' 'procesamiento'\n",
            " 'programación' 'python' 'representa' 'sanchez' 'scikit' 'se' 'texto'\n",
            " 'trabajar' 'técnica' 'un' 'una' 'utilizado' 'utilizando' 'vector' 'zero'\n",
            " 'útil']\n"
          ]
        }
      ],
      "source": [
        "from sklearn.feature_extraction.text import CountVectorizer\n",
        "\n",
        "# Ejemplo de documentos de texto ampliados\n",
        "documentos = [\n",
        "    \"Este es un ejemplo de Bolsa de palabras.\",\n",
        "    \"Este equipo esta conformado por Luis Alfonso Zero Hernandez y Kelly Sanchez Arzate .\",\n",
        "    \"En la técnica de bolsa de palabras, cada palabra se representa como un vector en el espacio de características.\",\n",
        "    \"Cada documento se convierte en un vector de palabras contadas utilizando el enfoque de Bolsa de Palabras.\",\n",
        "    \"Scikit-learn es una biblioteca útil para trabajar con BoW en análisis de texto.\",\n",
        "    \"Python es un lenguaje de programación popular utilizado en muchas aplicaciones de procesamiento de texto.\",\n",
        "]\n",
        "\n",
        "# Crear un objeto CountVectorizer\n",
        "vectorizador = CountVectorizer()\n",
        "\n",
        "# Ajustar el vectorizador y transformar los documentos en BoW\n",
        "matriz_bow = vectorizador.fit_transform(documentos)\n",
        "\n",
        "# Obtener las palabras en el vocabulario\n",
        "vocabulario = vectorizador.get_feature_names_out()\n",
        "\n",
        "# Convertir la matriz BoW en una matriz densa y mostrarla\n",
        "matriz_bow_dense = matriz_bow.toarray()\n",
        "print(\"Matriz BoW:\")\n",
        "print(matriz_bow_dense)\n",
        "\n",
        "# Mostrar el vocabulario\n",
        "print(\"Vocabulario:\")\n",
        "print(vocabulario)\n"
      ]
    }
  ]
}