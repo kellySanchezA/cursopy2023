{
  "nbformat": 4,
  "nbformat_minor": 0,
  "metadata": {
    "colab": {
      "provenance": [],
      "authorship_tag": "ABX9TyMa+kvAaktlor+60rz21SW+",
      "include_colab_link": true
    },
    "kernelspec": {
      "name": "python3",
      "display_name": "Python 3"
    },
    "language_info": {
      "name": "python"
    }
  },
  "cells": [
    {
      "cell_type": "markdown",
      "metadata": {
        "id": "view-in-github",
        "colab_type": "text"
      },
      "source": [
        "<a href=\"https://colab.research.google.com/github/kellySanchezA/cursopy2023/blob/main/Tupla.ipynb\" target=\"_parent\"><img src=\"https://colab.research.google.com/assets/colab-badge.svg\" alt=\"Open In Colab\"/></a>"
      ]
    },
    {
      "cell_type": "markdown",
      "source": [
        "#Actividad tuplas"
      ],
      "metadata": {
        "id": "rVimiopIOZBB"
      }
    },
    {
      "cell_type": "code",
      "execution_count": 3,
      "metadata": {
        "id": "LzTMQirxOCxo"
      },
      "outputs": [],
      "source": [
        "l1 = 20\n",
        "l2 = 5\n",
        "cor = \"Rojo\"\n",
        "def calcular_area_per(lado1, lado2, color):\n",
        "  \"Calcular el area y el perimetro de un Rectangulo \"\n",
        "  area = lado1 * lado2\n",
        "  perimetro = (2*lado1)*(2*lado2)\n",
        "  return (area, perimetro, color)\n",
        "resultados =calcular_area_per(lado1 =l1, lado2 =l2, color =cor)"
      ]
    },
    {
      "cell_type": "code",
      "source": [
        "resultados"
      ],
      "metadata": {
        "colab": {
          "base_uri": "https://localhost:8080/"
        },
        "id": "z0GGlekkOS2C",
        "outputId": "fcd882fb-cad4-4753-f394-571c8012250b"
      },
      "execution_count": 4,
      "outputs": [
        {
          "output_type": "execute_result",
          "data": {
            "text/plain": [
              "(100, 400, 'Rojo')"
            ]
          },
          "metadata": {},
          "execution_count": 4
        }
      ]
    },
    {
      "cell_type": "code",
      "source": [
        "type (resultados)"
      ],
      "metadata": {
        "colab": {
          "base_uri": "https://localhost:8080/"
        },
        "id": "MjHlhz4NOGHC",
        "outputId": "141288c4-2250-437a-a628-5dc7a2ff72ce"
      },
      "execution_count": 5,
      "outputs": [
        {
          "output_type": "execute_result",
          "data": {
            "text/plain": [
              "tuple"
            ]
          },
          "metadata": {},
          "execution_count": 5
        }
      ]
    }
  ]
}