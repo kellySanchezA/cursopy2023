{
  "nbformat": 4,
  "nbformat_minor": 0,
  "metadata": {
    "colab": {
      "provenance": [],
      "authorship_tag": "ABX9TyOVZqpTLZD26ueNwIOz0Bfj",
      "include_colab_link": true
    },
    "kernelspec": {
      "name": "python3",
      "display_name": "Python 3"
    },
    "language_info": {
      "name": "python"
    }
  },
  "cells": [
    {
      "cell_type": "markdown",
      "metadata": {
        "id": "view-in-github",
        "colab_type": "text"
      },
      "source": [
        "<a href=\"https://colab.research.google.com/github/kellySanchezA/cursopy2023/blob/main/quijote.ipynb\" target=\"_parent\"><img src=\"https://colab.research.google.com/assets/colab-badge.svg\" alt=\"Open In Colab\"/></a>"
      ]
    },
    {
      "cell_type": "code",
      "execution_count": null,
      "metadata": {
        "id": "rxnmRsOV5ti2"
      },
      "outputs": [],
      "source": [
        "f = open (\"quijote.txt\", \"r\",encoding=\"utf-8\")\n",
        "abrir =f.read()\n",
        "print(abrir)"
      ]
    },
    {
      "cell_type": "code",
      "source": [
        "def cant_palabras(abrir):\n",
        "  words = abrir.split()\n",
        "  return len(words)\n",
        "\n",
        "def cant_carac(abrir):\n",
        "  return len(abrir)\n",
        "\n",
        "def cant_oracio(abrir):\n",
        "  ora = abrir.split(\".\")\n",
        "  #ora = [ora.strip() for sentence in ora if ora.strip() != \"\"]\n",
        "  return len(ora)\n",
        "\n",
        "def frecu_palabras(abrir):\n",
        "  palabra = abrir.split()\n",
        "  cont_pala = {}\n",
        "  for palabra in palabra:\n",
        "    palabra = palabra.lower()\n",
        "    if palabra in cont_pala:\n",
        "      cont_pala[palabra] += 1\n",
        "    else:\n",
        "      cont_pala[palabra] = 1\n",
        "    return cont_pala\n",
        "\n",
        "\n",
        "numero_palabras = cant_palabras(abrir)\n",
        "numero_carac = cant_carac(abrir)\n",
        "numero_oracio = cant_oracio(abrir)\n",
        "frecue_pala= frecu_palabras(abrir)\n",
        "\n",
        "print(f\"Cantidad de palabras: {numero_palabras}\")\n",
        "print(f\"Cantidad de caracteres: {numero_carac}\")\n",
        "print(f\"Cantidad de oraciones: {numero_oracio}\")\n",
        "print(\"Frecuencia de palabras:\")\n",
        "for palabra, frecuencia in frecue_pala.items():\n",
        "  print(f\"{palabra}: {frecuencia}\")\n",
        "\n"
      ],
      "metadata": {
        "colab": {
          "base_uri": "https://localhost:8080/"
        },
        "id": "fqHPL9_q6Vyq",
        "outputId": "72edb68f-53aa-4ada-bca0-b3afdbd13310"
      },
      "execution_count": 6,
      "outputs": [
        {
          "output_type": "stream",
          "name": "stdout",
          "text": [
            "Cantidad de palabras: 384260\n",
            "Cantidad de caracteres: 2117498\n",
            "Cantidad de oraciones: 8430\n",
            "Frecuencia de palabras:\n",
            "﻿the: 1\n"
          ]
        }
      ]
    }
  ]
}