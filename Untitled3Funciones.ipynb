{
  "nbformat": 4,
  "nbformat_minor": 0,
  "metadata": {
    "colab": {
      "provenance": [],
      "authorship_tag": "ABX9TyNkrFtIOaqugy+aDjWZBICI",
      "include_colab_link": true
    },
    "kernelspec": {
      "name": "python3",
      "display_name": "Python 3"
    },
    "language_info": {
      "name": "python"
    }
  },
  "cells": [
    {
      "cell_type": "markdown",
      "metadata": {
        "id": "view-in-github",
        "colab_type": "text"
      },
      "source": [
        "<a href=\"https://colab.research.google.com/github/kellySanchezA/cursopy2023/blob/main/Untitled3Funciones.ipynb\" target=\"_parent\"><img src=\"https://colab.research.google.com/assets/colab-badge.svg\" alt=\"Open In Colab\"/></a>"
      ]
    },
    {
      "cell_type": "code",
      "execution_count": null,
      "metadata": {
        "id": "uZTyFa7KLxlx"
      },
      "outputs": [],
      "source": [
        "#para crear una funcion en python\n",
        "#se usa la palabra reservada def\n",
        "def mi_primer_funcion():\n",
        "  print(\"hola, estoy dentro de la función 😎\")"
      ]
    },
    {
      "cell_type": "code",
      "source": [
        "mi_primer_funcion()"
      ],
      "metadata": {
        "colab": {
          "base_uri": "https://localhost:8080/"
        },
        "id": "agIZK6CdMZkh",
        "outputId": "b02b388a-f1f1-4965-df61-b2f3ed22f11c"
      },
      "execution_count": null,
      "outputs": [
        {
          "output_type": "stream",
          "name": "stdout",
          "text": [
            "hola, estoy dentro de la función 😎\n"
          ]
        }
      ]
    },
    {
      "cell_type": "code",
      "source": [
        "#Esta funcion regresa un tipo de dato\n",
        "#de tipo NoneType\n",
        "mi_variable = mi_primer_funcion()"
      ],
      "metadata": {
        "colab": {
          "base_uri": "https://localhost:8080/"
        },
        "id": "8057vLxvMiq3",
        "outputId": "21978852-aa4c-41ca-f0ea-300f84627cb9"
      },
      "execution_count": null,
      "outputs": [
        {
          "output_type": "stream",
          "name": "stdout",
          "text": [
            "hola, estoy dentro de la función 😎\n"
          ]
        }
      ]
    },
    {
      "cell_type": "code",
      "source": [
        "print (mi_variable)"
      ],
      "metadata": {
        "colab": {
          "base_uri": "https://localhost:8080/"
        },
        "id": "OR6wIwR7MvYH",
        "outputId": "5d3fbc15-44a6-458b-ff6e-988970685d8b"
      },
      "execution_count": null,
      "outputs": [
        {
          "output_type": "stream",
          "name": "stdout",
          "text": [
            "None\n"
          ]
        }
      ]
    },
    {
      "cell_type": "code",
      "source": [
        "type(mi_variable)"
      ],
      "metadata": {
        "colab": {
          "base_uri": "https://localhost:8080/"
        },
        "id": "1w5px25iMzqv",
        "outputId": "1b31078e-ce2c-4514-84e9-63a4e82acaa0"
      },
      "execution_count": null,
      "outputs": [
        {
          "output_type": "execute_result",
          "data": {
            "text/plain": [
              "NoneType"
            ]
          },
          "metadata": {},
          "execution_count": 6
        }
      ]
    },
    {
      "cell_type": "code",
      "source": [
        "def mi_segunda_funci():\n",
        "  print(\"HOLA MUNDO2\")\n",
        "mi_segunda_funci()"
      ],
      "metadata": {
        "colab": {
          "base_uri": "https://localhost:8080/"
        },
        "id": "FB9wFmVOM3iH",
        "outputId": "00944b4d-d237-494e-c1d2-370be597eadc"
      },
      "execution_count": null,
      "outputs": [
        {
          "output_type": "stream",
          "name": "stdout",
          "text": [
            "HOLA MUNDO2\n"
          ]
        }
      ]
    },
    {
      "cell_type": "code",
      "source": [
        "def mi_seg_funcion(nombre):\n",
        "  print ('hola '+ nombre +\", estamos dentron de una funcion\")"
      ],
      "metadata": {
        "id": "OIR6lnu-6w9s"
      },
      "execution_count": 1,
      "outputs": []
    },
    {
      "cell_type": "code",
      "source": [
        "mi_seg_funcion(\"kelly\")"
      ],
      "metadata": {
        "id": "dkgD-4EO7Chj",
        "outputId": "a4079ac1-486c-4c4b-9434-1d3f9801a092",
        "colab": {
          "base_uri": "https://localhost:8080/"
        }
      },
      "execution_count": 3,
      "outputs": [
        {
          "output_type": "stream",
          "name": "stdout",
          "text": [
            "hola kelly, estamos dentron de una funcion\n"
          ]
        }
      ]
    },
    {
      "cell_type": "code",
      "source": [
        "mi_seg_funcion(nombre=\"mexico\")"
      ],
      "metadata": {
        "id": "5wlWPNsK7Pic",
        "outputId": "a23416f5-e15c-4334-98d6-6184cc03a23d",
        "colab": {
          "base_uri": "https://localhost:8080/"
        }
      },
      "execution_count": 6,
      "outputs": [
        {
          "output_type": "stream",
          "name": "stdout",
          "text": [
            "hola mexico, estamos dentron de una funcion\n"
          ]
        }
      ]
    },
    {
      "cell_type": "code",
      "source": [
        "def funcion_sin_arg():\n",
        "  print('soy una funcion sin argumentos')"
      ],
      "metadata": {
        "id": "FoNUn_Lp7vBj"
      },
      "execution_count": 7,
      "outputs": []
    },
    {
      "cell_type": "markdown",
      "source": [
        "#FUNCIONES\n",
        "Con argumentos\n",
        "\n",
        "crear una funcion parqa obtener el area de un cuadrado"
      ],
      "metadata": {
        "id": "t_zCqk2g_nSE"
      }
    },
    {
      "cell_type": "code",
      "source": [
        "def area_cuadrado(Lado):\n",
        "  \"\"\"Calcula el area de un cuadrado\"\"\"\n",
        "  area = Lado * Lado\n",
        "  return area\n"
      ],
      "metadata": {
        "id": "p1LlsJo18mBs"
      },
      "execution_count": 15,
      "outputs": []
    },
    {
      "cell_type": "code",
      "source": [
        "area_cuadrado(4)"
      ],
      "metadata": {
        "id": "NjVGfOXtBRwF",
        "outputId": "c1de7124-bb9b-4190-96e2-16260c2d436d",
        "colab": {
          "base_uri": "https://localhost:8080/"
        }
      },
      "execution_count": 16,
      "outputs": [
        {
          "output_type": "execute_result",
          "data": {
            "text/plain": [
              "16"
            ]
          },
          "metadata": {},
          "execution_count": 16
        }
      ]
    },
    {
      "cell_type": "code",
      "source": [
        "from typing import Union"
      ],
      "metadata": {
        "id": "_JFVsHjECaoE"
      },
      "execution_count": 17,
      "outputs": []
    },
    {
      "cell_type": "code",
      "source": [
        "def area_cuadrado(lado: Union[int, float])-> Union [int,float]:\n",
        "  \"\"\"Calcula el area de un cuadrado\"\"\"\n",
        "  area = lado * lado\n",
        "  return area\n"
      ],
      "metadata": {
        "id": "MtM2ZjbMBpsl"
      },
      "execution_count": 18,
      "outputs": []
    },
    {
      "cell_type": "code",
      "source": [
        "area_cuadrado(4.0)"
      ],
      "metadata": {
        "id": "ytX6cZ8YCiAN",
        "outputId": "29021dd6-4aef-4475-9775-7c5cb59b033e",
        "colab": {
          "base_uri": "https://localhost:8080/"
        }
      },
      "execution_count": 19,
      "outputs": [
        {
          "output_type": "execute_result",
          "data": {
            "text/plain": [
              "16.0"
            ]
          },
          "metadata": {},
          "execution_count": 19
        }
      ]
    },
    {
      "cell_type": "code",
      "source": [
        "#ayuda a indicar el resultado y lo que recibe\n",
        "help(area_cuadrado)\n",
        "#area_cuadrado(3)"
      ],
      "metadata": {
        "id": "yqWztHlFAhUG",
        "outputId": "055b40f8-af7c-480c-9ca7-5235336ddf3f",
        "colab": {
          "base_uri": "https://localhost:8080/"
        }
      },
      "execution_count": 13,
      "outputs": [
        {
          "output_type": "stream",
          "name": "stdout",
          "text": [
            "Help on function area_cuadrado in module __main__:\n",
            "\n",
            "area_cuadrado(Lado)\n",
            "    Calcula el area de un cuadrado\n",
            "\n"
          ]
        }
      ]
    },
    {
      "cell_type": "markdown",
      "source": [
        "#ACTIVIDAD\n",
        "Area y perimetro de un rectangulo"
      ],
      "metadata": {
        "id": "vOtChgNHC9ZN"
      }
    },
    {
      "cell_type": "code",
      "source": [
        "def areaper_rectangulo(Lado1, Lado2):\n",
        "  \"\"\"Calcula el area y perimetro de un rectangulo\"\"\"\n",
        "  area = Lado1 * Lado2\n",
        "  perimetro =(2*Lado1)+ (2*Lado2)\n",
        "  return area, perimetro\n"
      ],
      "metadata": {
        "id": "Lk-GKZD2C86V"
      },
      "execution_count": 21,
      "outputs": []
    },
    {
      "cell_type": "code",
      "source": [
        "areaper_rectangulo(4,6)"
      ],
      "metadata": {
        "id": "5UOLv61GD8_m",
        "outputId": "81dba3a4-8974-4536-9698-9d47dffee2a6",
        "colab": {
          "base_uri": "https://localhost:8080/"
        }
      },
      "execution_count": 22,
      "outputs": [
        {
          "output_type": "execute_result",
          "data": {
            "text/plain": [
              "(24, 20)"
            ]
          },
          "metadata": {},
          "execution_count": 22
        }
      ]
    },
    {
      "cell_type": "markdown",
      "source": [
        "#ACTIVIDAD\n",
        "Area y perimetro de un Circulo"
      ],
      "metadata": {
        "id": "UaNM41vQEVxt"
      }
    },
    {
      "cell_type": "code",
      "source": [
        "pi=3.1416\n",
        "def areaper_Circulo(Radio):\n",
        "  \"\"\"Calcula el area y perimetro de un Circulo\"\"\"\n",
        "  area = pi *(Radio**2)\n",
        "  perimetro =2*pi*Radio\n",
        "  return area, perimetro\n"
      ],
      "metadata": {
        "id": "-oX2vnSBETPt"
      },
      "execution_count": 23,
      "outputs": []
    },
    {
      "cell_type": "code",
      "source": [
        "areaper_Circulo(4)"
      ],
      "metadata": {
        "id": "W1O8FtUYE6wF",
        "outputId": "04434922-b6c5-4419-d833-23b67facd95b",
        "colab": {
          "base_uri": "https://localhost:8080/"
        }
      },
      "execution_count": 24,
      "outputs": [
        {
          "output_type": "execute_result",
          "data": {
            "text/plain": [
              "(50.2656, 25.1328)"
            ]
          },
          "metadata": {},
          "execution_count": 24
        }
      ]
    }
  ]
}