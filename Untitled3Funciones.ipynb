{
  "nbformat": 4,
  "nbformat_minor": 0,
  "metadata": {
    "colab": {
      "provenance": [],
      "authorship_tag": "ABX9TyNana3M3z9QJLAoXcyvxlxo",
      "include_colab_link": true
    },
    "kernelspec": {
      "name": "python3",
      "display_name": "Python 3"
    },
    "language_info": {
      "name": "python"
    }
  },
  "cells": [
    {
      "cell_type": "markdown",
      "metadata": {
        "id": "view-in-github",
        "colab_type": "text"
      },
      "source": [
        "<a href=\"https://colab.research.google.com/github/kellySanchezA/cursopy2023/blob/main/Untitled3Funciones.ipynb\" target=\"_parent\"><img src=\"https://colab.research.google.com/assets/colab-badge.svg\" alt=\"Open In Colab\"/></a>"
      ]
    },
    {
      "cell_type": "code",
      "execution_count": 2,
      "metadata": {
        "id": "uZTyFa7KLxlx"
      },
      "outputs": [],
      "source": [
        "#para crear una funcion en python\n",
        "#se usa la palabra reservada def\n",
        "def mi_primer_funcion():\n",
        "  print(\"hola, estoy dentro de la función 😎\")"
      ]
    },
    {
      "cell_type": "code",
      "source": [
        "mi_primer_funcion()"
      ],
      "metadata": {
        "colab": {
          "base_uri": "https://localhost:8080/"
        },
        "id": "agIZK6CdMZkh",
        "outputId": "b02b388a-f1f1-4965-df61-b2f3ed22f11c"
      },
      "execution_count": 3,
      "outputs": [
        {
          "output_type": "stream",
          "name": "stdout",
          "text": [
            "hola, estoy dentro de la función 😎\n"
          ]
        }
      ]
    },
    {
      "cell_type": "code",
      "source": [
        "#Esta funcion regresa un tipo de dato\n",
        "#de tipo NoneType\n",
        "mi_variable = mi_primer_funcion()"
      ],
      "metadata": {
        "colab": {
          "base_uri": "https://localhost:8080/"
        },
        "id": "8057vLxvMiq3",
        "outputId": "21978852-aa4c-41ca-f0ea-300f84627cb9"
      },
      "execution_count": 4,
      "outputs": [
        {
          "output_type": "stream",
          "name": "stdout",
          "text": [
            "hola, estoy dentro de la función 😎\n"
          ]
        }
      ]
    },
    {
      "cell_type": "code",
      "source": [
        "print (mi_variable)"
      ],
      "metadata": {
        "colab": {
          "base_uri": "https://localhost:8080/"
        },
        "id": "OR6wIwR7MvYH",
        "outputId": "5d3fbc15-44a6-458b-ff6e-988970685d8b"
      },
      "execution_count": 5,
      "outputs": [
        {
          "output_type": "stream",
          "name": "stdout",
          "text": [
            "None\n"
          ]
        }
      ]
    },
    {
      "cell_type": "code",
      "source": [
        "type(mi_variable)"
      ],
      "metadata": {
        "colab": {
          "base_uri": "https://localhost:8080/"
        },
        "id": "1w5px25iMzqv",
        "outputId": "1b31078e-ce2c-4514-84e9-63a4e82acaa0"
      },
      "execution_count": 6,
      "outputs": [
        {
          "output_type": "execute_result",
          "data": {
            "text/plain": [
              "NoneType"
            ]
          },
          "metadata": {},
          "execution_count": 6
        }
      ]
    },
    {
      "cell_type": "code",
      "source": [
        "def mi_segunda_funci():\n",
        "  print(\"HOLA MUNDO2\")\n",
        "mi_segunda_funci()"
      ],
      "metadata": {
        "colab": {
          "base_uri": "https://localhost:8080/"
        },
        "id": "FB9wFmVOM3iH",
        "outputId": "00944b4d-d237-494e-c1d2-370be597eadc"
      },
      "execution_count": 7,
      "outputs": [
        {
          "output_type": "stream",
          "name": "stdout",
          "text": [
            "HOLA MUNDO2\n"
          ]
        }
      ]
    }
  ]
}