{
  "nbformat": 4,
  "nbformat_minor": 0,
  "metadata": {
    "colab": {
      "provenance": [],
      "authorship_tag": "ABX9TyMnSg32RwzhHHicLYi/0J36",
      "include_colab_link": true
    },
    "kernelspec": {
      "name": "python3",
      "display_name": "Python 3"
    },
    "language_info": {
      "name": "python"
    }
  },
  "cells": [
    {
      "cell_type": "markdown",
      "metadata": {
        "id": "view-in-github",
        "colab_type": "text"
      },
      "source": [
        "<a href=\"https://colab.research.google.com/github/kellySanchezA/cursopy2023/blob/main/Untitled3Funciones.ipynb\" target=\"_parent\"><img src=\"https://colab.research.google.com/assets/colab-badge.svg\" alt=\"Open In Colab\"/></a>"
      ]
    },
    {
      "cell_type": "code",
      "execution_count": null,
      "metadata": {
        "id": "uZTyFa7KLxlx"
      },
      "outputs": [],
      "source": [
        "#para crear una funcion en python\n",
        "#se usa la palabra reservada def\n",
        "def mi_primer_funcion():\n",
        "  print(\"hola, estoy dentro de la función 😎\")"
      ]
    },
    {
      "cell_type": "code",
      "source": [
        "mi_primer_funcion()"
      ],
      "metadata": {
        "colab": {
          "base_uri": "https://localhost:8080/"
        },
        "id": "agIZK6CdMZkh",
        "outputId": "b02b388a-f1f1-4965-df61-b2f3ed22f11c"
      },
      "execution_count": null,
      "outputs": [
        {
          "output_type": "stream",
          "name": "stdout",
          "text": [
            "hola, estoy dentro de la función 😎\n"
          ]
        }
      ]
    },
    {
      "cell_type": "code",
      "source": [
        "#Esta funcion regresa un tipo de dato\n",
        "#de tipo NoneType\n",
        "mi_variable = mi_primer_funcion()"
      ],
      "metadata": {
        "colab": {
          "base_uri": "https://localhost:8080/"
        },
        "id": "8057vLxvMiq3",
        "outputId": "21978852-aa4c-41ca-f0ea-300f84627cb9"
      },
      "execution_count": null,
      "outputs": [
        {
          "output_type": "stream",
          "name": "stdout",
          "text": [
            "hola, estoy dentro de la función 😎\n"
          ]
        }
      ]
    },
    {
      "cell_type": "code",
      "source": [
        "print (mi_variable)"
      ],
      "metadata": {
        "colab": {
          "base_uri": "https://localhost:8080/"
        },
        "id": "OR6wIwR7MvYH",
        "outputId": "5d3fbc15-44a6-458b-ff6e-988970685d8b"
      },
      "execution_count": null,
      "outputs": [
        {
          "output_type": "stream",
          "name": "stdout",
          "text": [
            "None\n"
          ]
        }
      ]
    },
    {
      "cell_type": "code",
      "source": [
        "type(mi_variable)"
      ],
      "metadata": {
        "colab": {
          "base_uri": "https://localhost:8080/"
        },
        "id": "1w5px25iMzqv",
        "outputId": "1b31078e-ce2c-4514-84e9-63a4e82acaa0"
      },
      "execution_count": null,
      "outputs": [
        {
          "output_type": "execute_result",
          "data": {
            "text/plain": [
              "NoneType"
            ]
          },
          "metadata": {},
          "execution_count": 6
        }
      ]
    },
    {
      "cell_type": "code",
      "source": [
        "def mi_segunda_funci():\n",
        "  print(\"HOLA MUNDO2\")\n",
        "mi_segunda_funci()"
      ],
      "metadata": {
        "colab": {
          "base_uri": "https://localhost:8080/"
        },
        "id": "FB9wFmVOM3iH",
        "outputId": "00944b4d-d237-494e-c1d2-370be597eadc"
      },
      "execution_count": null,
      "outputs": [
        {
          "output_type": "stream",
          "name": "stdout",
          "text": [
            "HOLA MUNDO2\n"
          ]
        }
      ]
    },
    {
      "cell_type": "code",
      "source": [
        "def mi_seg_funcion(nombre):\n",
        "  print ('hola '+ nombre +\", estamos dentron de una funcion\")"
      ],
      "metadata": {
        "id": "OIR6lnu-6w9s"
      },
      "execution_count": null,
      "outputs": []
    },
    {
      "cell_type": "code",
      "source": [
        "mi_seg_funcion(\"kelly\")"
      ],
      "metadata": {
        "colab": {
          "base_uri": "https://localhost:8080/"
        },
        "id": "dkgD-4EO7Chj",
        "outputId": "a4079ac1-486c-4c4b-9434-1d3f9801a092"
      },
      "execution_count": null,
      "outputs": [
        {
          "output_type": "stream",
          "name": "stdout",
          "text": [
            "hola kelly, estamos dentron de una funcion\n"
          ]
        }
      ]
    },
    {
      "cell_type": "code",
      "source": [
        "mi_seg_funcion(nombre=\"mexico\")"
      ],
      "metadata": {
        "colab": {
          "base_uri": "https://localhost:8080/"
        },
        "id": "5wlWPNsK7Pic",
        "outputId": "a23416f5-e15c-4334-98d6-6184cc03a23d"
      },
      "execution_count": null,
      "outputs": [
        {
          "output_type": "stream",
          "name": "stdout",
          "text": [
            "hola mexico, estamos dentron de una funcion\n"
          ]
        }
      ]
    },
    {
      "cell_type": "code",
      "source": [
        "def funcion_sin_arg():\n",
        "  print('soy una funcion sin argumentos')"
      ],
      "metadata": {
        "id": "FoNUn_Lp7vBj"
      },
      "execution_count": null,
      "outputs": []
    },
    {
      "cell_type": "markdown",
      "source": [
        "#FUNCIONES\n",
        "Con argumentos\n",
        "\n",
        "crear una funcion parqa obtener el area de un cuadrado"
      ],
      "metadata": {
        "id": "t_zCqk2g_nSE"
      }
    },
    {
      "cell_type": "code",
      "source": [
        "def area_cuadrado(Lado):\n",
        "  \"\"\"Calcula el area de un cuadrado\"\"\"\n",
        "  area = Lado * Lado\n",
        "  return area\n"
      ],
      "metadata": {
        "id": "p1LlsJo18mBs"
      },
      "execution_count": null,
      "outputs": []
    },
    {
      "cell_type": "code",
      "source": [
        "area_cuadrado(4)"
      ],
      "metadata": {
        "colab": {
          "base_uri": "https://localhost:8080/"
        },
        "id": "NjVGfOXtBRwF",
        "outputId": "c1de7124-bb9b-4190-96e2-16260c2d436d"
      },
      "execution_count": null,
      "outputs": [
        {
          "output_type": "execute_result",
          "data": {
            "text/plain": [
              "16"
            ]
          },
          "metadata": {},
          "execution_count": 16
        }
      ]
    },
    {
      "cell_type": "code",
      "source": [
        "from typing import Union"
      ],
      "metadata": {
        "id": "_JFVsHjECaoE"
      },
      "execution_count": null,
      "outputs": []
    },
    {
      "cell_type": "code",
      "source": [
        "def area_cuadrado(lado: Union[int, float])-> Union [int,float]:\n",
        "  \"\"\"Calcula el area de un cuadrado\"\"\"\n",
        "  area = lado * lado\n",
        "  return area\n"
      ],
      "metadata": {
        "id": "MtM2ZjbMBpsl"
      },
      "execution_count": null,
      "outputs": []
    },
    {
      "cell_type": "code",
      "source": [
        "area_cuadrado(4.0)"
      ],
      "metadata": {
        "colab": {
          "base_uri": "https://localhost:8080/"
        },
        "id": "ytX6cZ8YCiAN",
        "outputId": "29021dd6-4aef-4475-9775-7c5cb59b033e"
      },
      "execution_count": null,
      "outputs": [
        {
          "output_type": "execute_result",
          "data": {
            "text/plain": [
              "16.0"
            ]
          },
          "metadata": {},
          "execution_count": 19
        }
      ]
    },
    {
      "cell_type": "code",
      "source": [
        "#ayuda a indicar el resultado y lo que recibe\n",
        "help(area_cuadrado)\n",
        "#area_cuadrado(3)"
      ],
      "metadata": {
        "colab": {
          "base_uri": "https://localhost:8080/"
        },
        "id": "yqWztHlFAhUG",
        "outputId": "055b40f8-af7c-480c-9ca7-5235336ddf3f"
      },
      "execution_count": null,
      "outputs": [
        {
          "output_type": "stream",
          "name": "stdout",
          "text": [
            "Help on function area_cuadrado in module __main__:\n",
            "\n",
            "area_cuadrado(Lado)\n",
            "    Calcula el area de un cuadrado\n",
            "\n"
          ]
        }
      ]
    },
    {
      "cell_type": "markdown",
      "source": [
        "#ACTIVIDAD\n",
        "Area y perimetro de un rectangulo"
      ],
      "metadata": {
        "id": "vOtChgNHC9ZN"
      }
    },
    {
      "cell_type": "code",
      "source": [
        "def areaper_rectangulo(Lado1, Lado2):\n",
        "  \"\"\"Calcula el area y perimetro de un rectangulo\"\"\"\n",
        "  area = Lado1 * Lado2\n",
        "  perimetro =(2*Lado1)+ (2*Lado2)\n",
        "  return area, perimetro\n"
      ],
      "metadata": {
        "id": "Lk-GKZD2C86V"
      },
      "execution_count": null,
      "outputs": []
    },
    {
      "cell_type": "code",
      "source": [
        "areaper_rectangulo(4,6)"
      ],
      "metadata": {
        "colab": {
          "base_uri": "https://localhost:8080/"
        },
        "id": "5UOLv61GD8_m",
        "outputId": "81dba3a4-8974-4536-9698-9d47dffee2a6"
      },
      "execution_count": null,
      "outputs": [
        {
          "output_type": "execute_result",
          "data": {
            "text/plain": [
              "(24, 20)"
            ]
          },
          "metadata": {},
          "execution_count": 22
        }
      ]
    },
    {
      "cell_type": "markdown",
      "source": [
        "#ACTIVIDAD\n",
        "Area y perimetro de un Circulo"
      ],
      "metadata": {
        "id": "UaNM41vQEVxt"
      }
    },
    {
      "cell_type": "code",
      "source": [
        "pi=3.1416\n",
        "def areaper_Circulo(Radio):\n",
        "  \"\"\"Calcula el area y perimetro de un Circulo\"\"\"\n",
        "  area = pi *(Radio**2)\n",
        "  perimetro =2*pi*Radio\n",
        "  return area, perimetro\n",
        "\n"
      ],
      "metadata": {
        "id": "-oX2vnSBETPt"
      },
      "execution_count": null,
      "outputs": []
    },
    {
      "cell_type": "code",
      "source": [
        "areaper_Circulo(4)"
      ],
      "metadata": {
        "colab": {
          "base_uri": "https://localhost:8080/"
        },
        "id": "W1O8FtUYE6wF",
        "outputId": "32367e4b-e141-45c0-b75b-fbd156a9321f"
      },
      "execution_count": null,
      "outputs": [
        {
          "output_type": "execute_result",
          "data": {
            "text/plain": [
              "(50.2656, 25.1328)"
            ]
          },
          "metadata": {},
          "execution_count": 25
        }
      ]
    },
    {
      "cell_type": "markdown",
      "source": [
        "#Operadores\n",
        "a)asigne el valor 10 a la variable \"diez\"\n",
        "\n",
        "b)Asigna el valor 20 a la variable \"veinte\n",
        "\n",
        "c)usa el operador mayor igual que, e imprime el resultado:false"
      ],
      "metadata": {
        "id": "pPvC1_9UPbLx"
      }
    },
    {
      "cell_type": "code",
      "source": [
        "diez =10"
      ],
      "metadata": {
        "id": "YGFhWloZPfIs"
      },
      "execution_count": null,
      "outputs": []
    },
    {
      "cell_type": "code",
      "source": [
        "veinte =20"
      ],
      "metadata": {
        "id": "qH20GR_9QNSd"
      },
      "execution_count": null,
      "outputs": []
    },
    {
      "cell_type": "code",
      "source": [
        "print (diez >= veinte)"
      ],
      "metadata": {
        "id": "FEeRy1WoQRld",
        "outputId": "33bea3d9-a136-4dbc-f898-0cb862bf8c54",
        "colab": {
          "base_uri": "https://localhost:8080/"
        }
      },
      "execution_count": null,
      "outputs": [
        {
          "output_type": "stream",
          "name": "stdout",
          "text": [
            "False\n"
          ]
        }
      ]
    },
    {
      "cell_type": "markdown",
      "source": [
        "#2.Convierte a codigo la siguiente expresion\n"
      ],
      "metadata": {
        "id": "G3u713l0QdPF"
      }
    },
    {
      "cell_type": "code",
      "source": [
        "a=20\n",
        "a=int\n",
        "b =20.0001\n",
        "b=str"
      ],
      "metadata": {
        "id": "uHeSUQeCRgjl"
      },
      "execution_count": null,
      "outputs": []
    },
    {
      "cell_type": "markdown",
      "source": [
        "4.Compara si el texto 1 es igual que el dos"
      ],
      "metadata": {
        "id": "KcbvgX1pQrxo"
      }
    },
    {
      "cell_type": "code",
      "source": [
        "texto_1 = 'Marty! Tienes que venir conmigo, de regreso al futuro!'\n",
        "texto_2 = 'Marty! Tienes que venir conmigo, de regreso a1 futuro!'"
      ],
      "metadata": {
        "id": "iO9L-0OXQyUB"
      },
      "execution_count": null,
      "outputs": []
    },
    {
      "cell_type": "code",
      "source": [
        "print (texto_1==texto_2)"
      ],
      "metadata": {
        "id": "0EB9KfuRQ1ke",
        "outputId": "5454e2e7-941e-48f0-e09b-575f5e30cbee",
        "colab": {
          "base_uri": "https://localhost:8080/"
        }
      },
      "execution_count": null,
      "outputs": [
        {
          "output_type": "stream",
          "name": "stdout",
          "text": [
            "False\n"
          ]
        }
      ]
    },
    {
      "cell_type": "markdown",
      "source": [
        "5.compara si la frase 1 es diferente a la frase 2"
      ],
      "metadata": {
        "id": "0IzlC0SUQ_Y9"
      }
    },
    {
      "cell_type": "code",
      "source": [
        "frase_1 = 'Marty, lo siento, pero la única fuente de poder capaz de generar 1.21 giga watts de potencia eléctrica es un rayo'\n",
        "frase_2 = 'Marty, lo siento, pero la única fuente de poder capaz de generar 1.21 giga watts de potencia e1éctrica es un rayo'"
      ],
      "metadata": {
        "id": "ZQzpjHIgRHdf"
      },
      "execution_count": null,
      "outputs": []
    },
    {
      "cell_type": "code",
      "source": [
        "print (frase_1  != frase_2)"
      ],
      "metadata": {
        "id": "hCJOZd1mRKfP",
        "outputId": "b42edf30-f2d0-4288-8aad-e12c3dc5625d",
        "colab": {
          "base_uri": "https://localhost:8080/"
        }
      },
      "execution_count": null,
      "outputs": [
        {
          "output_type": "stream",
          "name": "stdout",
          "text": [
            "True\n"
          ]
        }
      ]
    },
    {
      "cell_type": "markdown",
      "source": [
        "#Condicionales"
      ],
      "metadata": {
        "id": "HGITLBUJWhsT"
      }
    },
    {
      "cell_type": "markdown",
      "source": [
        "#Act 1\n",
        "No voy a trabajar"
      ],
      "metadata": {
        "id": "8al_NIfIWv7N"
      }
    },
    {
      "cell_type": "code",
      "source": [
        "dia ='martes'\n",
        "if dia == 'lunes':\n",
        "  print(\"No voa tabajá!\")\n",
        "elif dia=='martes':\n",
        "  print(\"Ni te cases ni te embarques Pa que voy a arriesgarme No voy a trabajar!\")\n",
        "elif dia=='miercoles':\n",
        "  print(\"Se casa la patrona\")\n",
        "elif dia=='jueves':\n",
        "  print(\"Estoy muy desvelado\")\n",
        "elif dia== 'viernes':\n",
        "  print(\"Que muere jesucristo!Donde se ha visto?\")\n",
        "elif dia == 'sabado':\n",
        "  print(\"Trabajo medio día\")\n",
        "elif dia == 'domingo':\n",
        "  print(\"Día de descanso\")\n",
        "else :\n",
        "  print(\"SOLO SE PUEDE LOS DIAS DE LA SEMANA!!!\")\n",
        "\n"
      ],
      "metadata": {
        "id": "R5j3aw2TWk97",
        "outputId": "731018a3-4fdd-40d6-bf02-604e8970d587",
        "colab": {
          "base_uri": "https://localhost:8080/"
        }
      },
      "execution_count": null,
      "outputs": [
        {
          "output_type": "stream",
          "name": "stdout",
          "text": [
            "Ni te cases ni te embarques Pa que voy a arriesgarme No voy a trabajar!\n"
          ]
        }
      ]
    },
    {
      "cell_type": "markdown",
      "source": [
        "#Ejercicio basico 1"
      ],
      "metadata": {
        "id": "cqFr9gR57oCw"
      }
    },
    {
      "cell_type": "code",
      "source": [
        "if True:\n",
        "  print(\"Hola,Mundo!\")#Bloque de codigo\n"
      ],
      "metadata": {
        "id": "1JogRCb_702o",
        "outputId": "dcf96e8d-281d-421b-904a-4f520cfcc5e6",
        "colab": {
          "base_uri": "https://localhost:8080/"
        }
      },
      "execution_count": 1,
      "outputs": [
        {
          "output_type": "stream",
          "name": "stdout",
          "text": [
            "Hola,Mundo!\n"
          ]
        }
      ]
    },
    {
      "cell_type": "code",
      "source": [
        "if False:#como es false no se ejecutara el bloque de codigo\n",
        "  print(\"Hola, Mundo\")#bloque de codigo"
      ],
      "metadata": {
        "id": "XWk1TvJO8Vi-"
      },
      "execution_count": 2,
      "outputs": []
    },
    {
      "cell_type": "code",
      "source": [
        "#Ejercicio básico 2\n",
        "a=\"Fruta\"\n",
        "if a ==\"Fruta\":#Al evaluar la concicion se obtiene un True\n",
        "  print(\"Mi variable es igual a Fruta\")\n",
        "\n",
        "print(\"Esta linea se ejecuta aunque la condicion sea falsa\")"
      ],
      "metadata": {
        "id": "Mxnl0PiA8shv",
        "outputId": "7bc9d773-d809-4479-cf00-269fe8b32cec",
        "colab": {
          "base_uri": "https://localhost:8080/"
        }
      },
      "execution_count": 4,
      "outputs": [
        {
          "output_type": "stream",
          "name": "stdout",
          "text": [
            "Mi variable es igual a Fruta\n",
            "Esta linea se ejecuta aunque sea falsa\n"
          ]
        }
      ]
    },
    {
      "cell_type": "code",
      "source": [
        "#Ejercicio básico 3\n",
        "valor1=100\n",
        "valor2 = 100.499\n",
        "if valor1 > valor2:\n",
        "  print(\"El valor 1 es mayor que el valor 2\")\n",
        "else:\n",
        "  print(\"El valor 2 es mayor que el valor 1\")"
      ],
      "metadata": {
        "id": "jhKuFur19Z01",
        "outputId": "69969150-6267-4448-951b-fe4e2ca6c290",
        "colab": {
          "base_uri": "https://localhost:8080/"
        }
      },
      "execution_count": 5,
      "outputs": [
        {
          "output_type": "stream",
          "name": "stdout",
          "text": [
            "El valor 2 es mayor que el valor 1\n"
          ]
        }
      ]
    },
    {
      "cell_type": "code",
      "source": [
        "#Ejercicio 4\n",
        "numero = int (input (\"Ingresa un número entre 1 y 5:\"))\n",
        "if numero == 1:\n",
        "  print(\"Ingresaste el número 1\")\n",
        "elif numero == 2:\n",
        "  print(\"Ingresaste el número 2\")\n",
        "elif numero == 3:\n",
        "  print(\"Ingresaste el número 3\")\n",
        "elif numero == 4:\n",
        "  print(\"Ingresaste el número 4\")\n",
        "elif numero == 5:\n",
        "  print(\"Ingresaste el número 5\")\n",
        "else:\n",
        "  print(\"ERROR!!!\")"
      ],
      "metadata": {
        "id": "EcjR8OCA-QX3",
        "outputId": "a93d62e0-466c-480a-be48-ef5f5ebf9ee1",
        "colab": {
          "base_uri": "https://localhost:8080/"
        }
      },
      "execution_count": 10,
      "outputs": [
        {
          "output_type": "stream",
          "name": "stdout",
          "text": [
            "Ingresa un número entre 1 y 5:0\n",
            "ERROR!!!\n"
          ]
        }
      ]
    },
    {
      "cell_type": "code",
      "source": [
        "#Números pares o impares\n",
        "10 % 2 == 0 #Es un número par\n"
      ],
      "metadata": {
        "id": "EWf5tQHHAhYN",
        "outputId": "1d9c8dd2-0375-4446-b162-63b8b4df2f25",
        "colab": {
          "base_uri": "https://localhost:8080/"
        }
      },
      "execution_count": 12,
      "outputs": [
        {
          "output_type": "execute_result",
          "data": {
            "text/plain": [
              "True"
            ]
          },
          "metadata": {},
          "execution_count": 12
        }
      ]
    },
    {
      "cell_type": "code",
      "source": [
        "num =11"
      ],
      "metadata": {
        "id": "UW05BzoiBEyj"
      },
      "execution_count": 16,
      "outputs": []
    },
    {
      "cell_type": "code",
      "source": [
        "(num % 2)== 0"
      ],
      "metadata": {
        "id": "7mlF3zWBA3oa",
        "outputId": "56a18f70-7aa1-479f-ff13-564db61cade8",
        "colab": {
          "base_uri": "https://localhost:8080/"
        }
      },
      "execution_count": 14,
      "outputs": [
        {
          "output_type": "execute_result",
          "data": {
            "text/plain": [
              "True"
            ]
          },
          "metadata": {},
          "execution_count": 14
        }
      ]
    },
    {
      "cell_type": "code",
      "source": [
        "if (num % 2) == 0:\n",
        "  #Bloque de código\n",
        "  print(\"El número es par\")\n",
        "else:\n",
        "  print(\"El número es impar\")"
      ],
      "metadata": {
        "id": "k2OCPFJFBI1U",
        "outputId": "f0b50ca4-a40a-4548-a75e-07e2d0168991",
        "colab": {
          "base_uri": "https://localhost:8080/"
        }
      },
      "execution_count": 17,
      "outputs": [
        {
          "output_type": "stream",
          "name": "stdout",
          "text": [
            "El número es impar\n"
          ]
        }
      ]
    },
    {
      "cell_type": "markdown",
      "source": [
        "#Strings\n",
        "- E s un tipo de datos que podemos asociar cn texto\n",
        "\n",
        "- ES INMUTABLE\n",
        "\n",
        "- Palabras claves: **upper**, **lowe**, **capitalize**, **endswith**, **split**, **count**\n"
      ],
      "metadata": {
        "id": "GL0PFBZsQKFd"
      }
    },
    {
      "cell_type": "code",
      "source": [
        "help(str)"
      ],
      "metadata": {
        "id": "nnF7EyeaDI1W",
        "outputId": "dda69dd9-7f58-43d4-b067-55bfa4ba746c",
        "colab": {
          "base_uri": "https://localhost:8080/"
        }
      },
      "execution_count": 18,
      "outputs": [
        {
          "output_type": "stream",
          "name": "stdout",
          "text": [
            "Help on class str in module builtins:\n",
            "\n",
            "class str(object)\n",
            " |  str(object='') -> str\n",
            " |  str(bytes_or_buffer[, encoding[, errors]]) -> str\n",
            " |  \n",
            " |  Create a new string object from the given object. If encoding or\n",
            " |  errors is specified, then the object must expose a data buffer\n",
            " |  that will be decoded using the given encoding and error handler.\n",
            " |  Otherwise, returns the result of object.__str__() (if defined)\n",
            " |  or repr(object).\n",
            " |  encoding defaults to sys.getdefaultencoding().\n",
            " |  errors defaults to 'strict'.\n",
            " |  \n",
            " |  Methods defined here:\n",
            " |  \n",
            " |  __add__(self, value, /)\n",
            " |      Return self+value.\n",
            " |  \n",
            " |  __contains__(self, key, /)\n",
            " |      Return key in self.\n",
            " |  \n",
            " |  __eq__(self, value, /)\n",
            " |      Return self==value.\n",
            " |  \n",
            " |  __format__(self, format_spec, /)\n",
            " |      Return a formatted version of the string as described by format_spec.\n",
            " |  \n",
            " |  __ge__(self, value, /)\n",
            " |      Return self>=value.\n",
            " |  \n",
            " |  __getattribute__(self, name, /)\n",
            " |      Return getattr(self, name).\n",
            " |  \n",
            " |  __getitem__(self, key, /)\n",
            " |      Return self[key].\n",
            " |  \n",
            " |  __getnewargs__(...)\n",
            " |  \n",
            " |  __gt__(self, value, /)\n",
            " |      Return self>value.\n",
            " |  \n",
            " |  __hash__(self, /)\n",
            " |      Return hash(self).\n",
            " |  \n",
            " |  __iter__(self, /)\n",
            " |      Implement iter(self).\n",
            " |  \n",
            " |  __le__(self, value, /)\n",
            " |      Return self<=value.\n",
            " |  \n",
            " |  __len__(self, /)\n",
            " |      Return len(self).\n",
            " |  \n",
            " |  __lt__(self, value, /)\n",
            " |      Return self<value.\n",
            " |  \n",
            " |  __mod__(self, value, /)\n",
            " |      Return self%value.\n",
            " |  \n",
            " |  __mul__(self, value, /)\n",
            " |      Return self*value.\n",
            " |  \n",
            " |  __ne__(self, value, /)\n",
            " |      Return self!=value.\n",
            " |  \n",
            " |  __repr__(self, /)\n",
            " |      Return repr(self).\n",
            " |  \n",
            " |  __rmod__(self, value, /)\n",
            " |      Return value%self.\n",
            " |  \n",
            " |  __rmul__(self, value, /)\n",
            " |      Return value*self.\n",
            " |  \n",
            " |  __sizeof__(self, /)\n",
            " |      Return the size of the string in memory, in bytes.\n",
            " |  \n",
            " |  __str__(self, /)\n",
            " |      Return str(self).\n",
            " |  \n",
            " |  capitalize(self, /)\n",
            " |      Return a capitalized version of the string.\n",
            " |      \n",
            " |      More specifically, make the first character have upper case and the rest lower\n",
            " |      case.\n",
            " |  \n",
            " |  casefold(self, /)\n",
            " |      Return a version of the string suitable for caseless comparisons.\n",
            " |  \n",
            " |  center(self, width, fillchar=' ', /)\n",
            " |      Return a centered string of length width.\n",
            " |      \n",
            " |      Padding is done using the specified fill character (default is a space).\n",
            " |  \n",
            " |  count(...)\n",
            " |      S.count(sub[, start[, end]]) -> int\n",
            " |      \n",
            " |      Return the number of non-overlapping occurrences of substring sub in\n",
            " |      string S[start:end].  Optional arguments start and end are\n",
            " |      interpreted as in slice notation.\n",
            " |  \n",
            " |  encode(self, /, encoding='utf-8', errors='strict')\n",
            " |      Encode the string using the codec registered for encoding.\n",
            " |      \n",
            " |      encoding\n",
            " |        The encoding in which to encode the string.\n",
            " |      errors\n",
            " |        The error handling scheme to use for encoding errors.\n",
            " |        The default is 'strict' meaning that encoding errors raise a\n",
            " |        UnicodeEncodeError.  Other possible values are 'ignore', 'replace' and\n",
            " |        'xmlcharrefreplace' as well as any other name registered with\n",
            " |        codecs.register_error that can handle UnicodeEncodeErrors.\n",
            " |  \n",
            " |  endswith(...)\n",
            " |      S.endswith(suffix[, start[, end]]) -> bool\n",
            " |      \n",
            " |      Return True if S ends with the specified suffix, False otherwise.\n",
            " |      With optional start, test S beginning at that position.\n",
            " |      With optional end, stop comparing S at that position.\n",
            " |      suffix can also be a tuple of strings to try.\n",
            " |  \n",
            " |  expandtabs(self, /, tabsize=8)\n",
            " |      Return a copy where all tab characters are expanded using spaces.\n",
            " |      \n",
            " |      If tabsize is not given, a tab size of 8 characters is assumed.\n",
            " |  \n",
            " |  find(...)\n",
            " |      S.find(sub[, start[, end]]) -> int\n",
            " |      \n",
            " |      Return the lowest index in S where substring sub is found,\n",
            " |      such that sub is contained within S[start:end].  Optional\n",
            " |      arguments start and end are interpreted as in slice notation.\n",
            " |      \n",
            " |      Return -1 on failure.\n",
            " |  \n",
            " |  format(...)\n",
            " |      S.format(*args, **kwargs) -> str\n",
            " |      \n",
            " |      Return a formatted version of S, using substitutions from args and kwargs.\n",
            " |      The substitutions are identified by braces ('{' and '}').\n",
            " |  \n",
            " |  format_map(...)\n",
            " |      S.format_map(mapping) -> str\n",
            " |      \n",
            " |      Return a formatted version of S, using substitutions from mapping.\n",
            " |      The substitutions are identified by braces ('{' and '}').\n",
            " |  \n",
            " |  index(...)\n",
            " |      S.index(sub[, start[, end]]) -> int\n",
            " |      \n",
            " |      Return the lowest index in S where substring sub is found,\n",
            " |      such that sub is contained within S[start:end].  Optional\n",
            " |      arguments start and end are interpreted as in slice notation.\n",
            " |      \n",
            " |      Raises ValueError when the substring is not found.\n",
            " |  \n",
            " |  isalnum(self, /)\n",
            " |      Return True if the string is an alpha-numeric string, False otherwise.\n",
            " |      \n",
            " |      A string is alpha-numeric if all characters in the string are alpha-numeric and\n",
            " |      there is at least one character in the string.\n",
            " |  \n",
            " |  isalpha(self, /)\n",
            " |      Return True if the string is an alphabetic string, False otherwise.\n",
            " |      \n",
            " |      A string is alphabetic if all characters in the string are alphabetic and there\n",
            " |      is at least one character in the string.\n",
            " |  \n",
            " |  isascii(self, /)\n",
            " |      Return True if all characters in the string are ASCII, False otherwise.\n",
            " |      \n",
            " |      ASCII characters have code points in the range U+0000-U+007F.\n",
            " |      Empty string is ASCII too.\n",
            " |  \n",
            " |  isdecimal(self, /)\n",
            " |      Return True if the string is a decimal string, False otherwise.\n",
            " |      \n",
            " |      A string is a decimal string if all characters in the string are decimal and\n",
            " |      there is at least one character in the string.\n",
            " |  \n",
            " |  isdigit(self, /)\n",
            " |      Return True if the string is a digit string, False otherwise.\n",
            " |      \n",
            " |      A string is a digit string if all characters in the string are digits and there\n",
            " |      is at least one character in the string.\n",
            " |  \n",
            " |  isidentifier(self, /)\n",
            " |      Return True if the string is a valid Python identifier, False otherwise.\n",
            " |      \n",
            " |      Call keyword.iskeyword(s) to test whether string s is a reserved identifier,\n",
            " |      such as \"def\" or \"class\".\n",
            " |  \n",
            " |  islower(self, /)\n",
            " |      Return True if the string is a lowercase string, False otherwise.\n",
            " |      \n",
            " |      A string is lowercase if all cased characters in the string are lowercase and\n",
            " |      there is at least one cased character in the string.\n",
            " |  \n",
            " |  isnumeric(self, /)\n",
            " |      Return True if the string is a numeric string, False otherwise.\n",
            " |      \n",
            " |      A string is numeric if all characters in the string are numeric and there is at\n",
            " |      least one character in the string.\n",
            " |  \n",
            " |  isprintable(self, /)\n",
            " |      Return True if the string is printable, False otherwise.\n",
            " |      \n",
            " |      A string is printable if all of its characters are considered printable in\n",
            " |      repr() or if it is empty.\n",
            " |  \n",
            " |  isspace(self, /)\n",
            " |      Return True if the string is a whitespace string, False otherwise.\n",
            " |      \n",
            " |      A string is whitespace if all characters in the string are whitespace and there\n",
            " |      is at least one character in the string.\n",
            " |  \n",
            " |  istitle(self, /)\n",
            " |      Return True if the string is a title-cased string, False otherwise.\n",
            " |      \n",
            " |      In a title-cased string, upper- and title-case characters may only\n",
            " |      follow uncased characters and lowercase characters only cased ones.\n",
            " |  \n",
            " |  isupper(self, /)\n",
            " |      Return True if the string is an uppercase string, False otherwise.\n",
            " |      \n",
            " |      A string is uppercase if all cased characters in the string are uppercase and\n",
            " |      there is at least one cased character in the string.\n",
            " |  \n",
            " |  join(self, iterable, /)\n",
            " |      Concatenate any number of strings.\n",
            " |      \n",
            " |      The string whose method is called is inserted in between each given string.\n",
            " |      The result is returned as a new string.\n",
            " |      \n",
            " |      Example: '.'.join(['ab', 'pq', 'rs']) -> 'ab.pq.rs'\n",
            " |  \n",
            " |  ljust(self, width, fillchar=' ', /)\n",
            " |      Return a left-justified string of length width.\n",
            " |      \n",
            " |      Padding is done using the specified fill character (default is a space).\n",
            " |  \n",
            " |  lower(self, /)\n",
            " |      Return a copy of the string converted to lowercase.\n",
            " |  \n",
            " |  lstrip(self, chars=None, /)\n",
            " |      Return a copy of the string with leading whitespace removed.\n",
            " |      \n",
            " |      If chars is given and not None, remove characters in chars instead.\n",
            " |  \n",
            " |  partition(self, sep, /)\n",
            " |      Partition the string into three parts using the given separator.\n",
            " |      \n",
            " |      This will search for the separator in the string.  If the separator is found,\n",
            " |      returns a 3-tuple containing the part before the separator, the separator\n",
            " |      itself, and the part after it.\n",
            " |      \n",
            " |      If the separator is not found, returns a 3-tuple containing the original string\n",
            " |      and two empty strings.\n",
            " |  \n",
            " |  removeprefix(self, prefix, /)\n",
            " |      Return a str with the given prefix string removed if present.\n",
            " |      \n",
            " |      If the string starts with the prefix string, return string[len(prefix):].\n",
            " |      Otherwise, return a copy of the original string.\n",
            " |  \n",
            " |  removesuffix(self, suffix, /)\n",
            " |      Return a str with the given suffix string removed if present.\n",
            " |      \n",
            " |      If the string ends with the suffix string and that suffix is not empty,\n",
            " |      return string[:-len(suffix)]. Otherwise, return a copy of the original\n",
            " |      string.\n",
            " |  \n",
            " |  replace(self, old, new, count=-1, /)\n",
            " |      Return a copy with all occurrences of substring old replaced by new.\n",
            " |      \n",
            " |        count\n",
            " |          Maximum number of occurrences to replace.\n",
            " |          -1 (the default value) means replace all occurrences.\n",
            " |      \n",
            " |      If the optional argument count is given, only the first count occurrences are\n",
            " |      replaced.\n",
            " |  \n",
            " |  rfind(...)\n",
            " |      S.rfind(sub[, start[, end]]) -> int\n",
            " |      \n",
            " |      Return the highest index in S where substring sub is found,\n",
            " |      such that sub is contained within S[start:end].  Optional\n",
            " |      arguments start and end are interpreted as in slice notation.\n",
            " |      \n",
            " |      Return -1 on failure.\n",
            " |  \n",
            " |  rindex(...)\n",
            " |      S.rindex(sub[, start[, end]]) -> int\n",
            " |      \n",
            " |      Return the highest index in S where substring sub is found,\n",
            " |      such that sub is contained within S[start:end].  Optional\n",
            " |      arguments start and end are interpreted as in slice notation.\n",
            " |      \n",
            " |      Raises ValueError when the substring is not found.\n",
            " |  \n",
            " |  rjust(self, width, fillchar=' ', /)\n",
            " |      Return a right-justified string of length width.\n",
            " |      \n",
            " |      Padding is done using the specified fill character (default is a space).\n",
            " |  \n",
            " |  rpartition(self, sep, /)\n",
            " |      Partition the string into three parts using the given separator.\n",
            " |      \n",
            " |      This will search for the separator in the string, starting at the end. If\n",
            " |      the separator is found, returns a 3-tuple containing the part before the\n",
            " |      separator, the separator itself, and the part after it.\n",
            " |      \n",
            " |      If the separator is not found, returns a 3-tuple containing two empty strings\n",
            " |      and the original string.\n",
            " |  \n",
            " |  rsplit(self, /, sep=None, maxsplit=-1)\n",
            " |      Return a list of the substrings in the string, using sep as the separator string.\n",
            " |      \n",
            " |        sep\n",
            " |          The separator used to split the string.\n",
            " |      \n",
            " |          When set to None (the default value), will split on any whitespace\n",
            " |          character (including \\\\n \\\\r \\\\t \\\\f and spaces) and will discard\n",
            " |          empty strings from the result.\n",
            " |        maxsplit\n",
            " |          Maximum number of splits (starting from the left).\n",
            " |          -1 (the default value) means no limit.\n",
            " |      \n",
            " |      Splitting starts at the end of the string and works to the front.\n",
            " |  \n",
            " |  rstrip(self, chars=None, /)\n",
            " |      Return a copy of the string with trailing whitespace removed.\n",
            " |      \n",
            " |      If chars is given and not None, remove characters in chars instead.\n",
            " |  \n",
            " |  split(self, /, sep=None, maxsplit=-1)\n",
            " |      Return a list of the substrings in the string, using sep as the separator string.\n",
            " |      \n",
            " |        sep\n",
            " |          The separator used to split the string.\n",
            " |      \n",
            " |          When set to None (the default value), will split on any whitespace\n",
            " |          character (including \\\\n \\\\r \\\\t \\\\f and spaces) and will discard\n",
            " |          empty strings from the result.\n",
            " |        maxsplit\n",
            " |          Maximum number of splits (starting from the left).\n",
            " |          -1 (the default value) means no limit.\n",
            " |      \n",
            " |      Note, str.split() is mainly useful for data that has been intentionally\n",
            " |      delimited.  With natural text that includes punctuation, consider using\n",
            " |      the regular expression module.\n",
            " |  \n",
            " |  splitlines(self, /, keepends=False)\n",
            " |      Return a list of the lines in the string, breaking at line boundaries.\n",
            " |      \n",
            " |      Line breaks are not included in the resulting list unless keepends is given and\n",
            " |      true.\n",
            " |  \n",
            " |  startswith(...)\n",
            " |      S.startswith(prefix[, start[, end]]) -> bool\n",
            " |      \n",
            " |      Return True if S starts with the specified prefix, False otherwise.\n",
            " |      With optional start, test S beginning at that position.\n",
            " |      With optional end, stop comparing S at that position.\n",
            " |      prefix can also be a tuple of strings to try.\n",
            " |  \n",
            " |  strip(self, chars=None, /)\n",
            " |      Return a copy of the string with leading and trailing whitespace removed.\n",
            " |      \n",
            " |      If chars is given and not None, remove characters in chars instead.\n",
            " |  \n",
            " |  swapcase(self, /)\n",
            " |      Convert uppercase characters to lowercase and lowercase characters to uppercase.\n",
            " |  \n",
            " |  title(self, /)\n",
            " |      Return a version of the string where each word is titlecased.\n",
            " |      \n",
            " |      More specifically, words start with uppercased characters and all remaining\n",
            " |      cased characters have lower case.\n",
            " |  \n",
            " |  translate(self, table, /)\n",
            " |      Replace each character in the string using the given translation table.\n",
            " |      \n",
            " |        table\n",
            " |          Translation table, which must be a mapping of Unicode ordinals to\n",
            " |          Unicode ordinals, strings, or None.\n",
            " |      \n",
            " |      The table must implement lookup/indexing via __getitem__, for instance a\n",
            " |      dictionary or list.  If this operation raises LookupError, the character is\n",
            " |      left untouched.  Characters mapped to None are deleted.\n",
            " |  \n",
            " |  upper(self, /)\n",
            " |      Return a copy of the string converted to uppercase.\n",
            " |  \n",
            " |  zfill(self, width, /)\n",
            " |      Pad a numeric string with zeros on the left, to fill a field of the given width.\n",
            " |      \n",
            " |      The string is never truncated.\n",
            " |  \n",
            " |  ----------------------------------------------------------------------\n",
            " |  Static methods defined here:\n",
            " |  \n",
            " |  __new__(*args, **kwargs) from builtins.type\n",
            " |      Create and return a new object.  See help(type) for accurate signature.\n",
            " |  \n",
            " |  maketrans(...)\n",
            " |      Return a translation table usable for str.translate().\n",
            " |      \n",
            " |      If there is only one argument, it must be a dictionary mapping Unicode\n",
            " |      ordinals (integers) or characters to Unicode ordinals, strings or None.\n",
            " |      Character keys will be then converted to ordinals.\n",
            " |      If there are two arguments, they must be strings of equal length, and\n",
            " |      in the resulting dictionary, each character in x will be mapped to the\n",
            " |      character at the same position in y. If there is a third argument, it\n",
            " |      must be a string, whose characters will be mapped to None in the result.\n",
            "\n"
          ]
        }
      ]
    },
    {
      "cell_type": "markdown",
      "source": [
        "#metodos"
      ],
      "metadata": {
        "id": "0VdoPBGwSii1"
      }
    },
    {
      "cell_type": "code",
      "source": [
        "texto = \"Hola mundo\""
      ],
      "metadata": {
        "id": "8lcUDjItSeR3"
      },
      "execution_count": 20,
      "outputs": []
    },
    {
      "cell_type": "code",
      "source": [
        "texto_upper= texto.upper()"
      ],
      "metadata": {
        "id": "qTJmWW-zSnIZ"
      },
      "execution_count": 23,
      "outputs": []
    },
    {
      "cell_type": "code",
      "source": [
        "texto_upper"
      ],
      "metadata": {
        "id": "FfYLo4ABS8ss",
        "outputId": "93267ef4-163e-4183-fef1-e0a41f763750",
        "colab": {
          "base_uri": "https://localhost:8080/",
          "height": 36
        }
      },
      "execution_count": 24,
      "outputs": [
        {
          "output_type": "execute_result",
          "data": {
            "text/plain": [
              "'HOLA MUNDO'"
            ],
            "application/vnd.google.colaboratory.intrinsic+json": {
              "type": "string"
            }
          },
          "metadata": {},
          "execution_count": 24
        }
      ]
    },
    {
      "cell_type": "code",
      "source": [
        "\"Hola mundo\".lower()"
      ],
      "metadata": {
        "id": "i9wzRKSNTArR",
        "outputId": "9ece42a1-c9e3-45c0-8bcd-2c30b55a2477",
        "colab": {
          "base_uri": "https://localhost:8080/",
          "height": 36
        }
      },
      "execution_count": 26,
      "outputs": [
        {
          "output_type": "execute_result",
          "data": {
            "text/plain": [
              "'hola mundo'"
            ],
            "application/vnd.google.colaboratory.intrinsic+json": {
              "type": "string"
            }
          },
          "metadata": {},
          "execution_count": 26
        }
      ]
    },
    {
      "cell_type": "code",
      "source": [
        "texto_upper.lower()"
      ],
      "metadata": {
        "id": "ufKNMnJCTGou",
        "outputId": "177b9f2a-7fad-4e61-f0e9-76278d36996c",
        "colab": {
          "base_uri": "https://localhost:8080/",
          "height": 36
        }
      },
      "execution_count": 27,
      "outputs": [
        {
          "output_type": "execute_result",
          "data": {
            "text/plain": [
              "'hola mundo'"
            ],
            "application/vnd.google.colaboratory.intrinsic+json": {
              "type": "string"
            }
          },
          "metadata": {},
          "execution_count": 27
        }
      ]
    },
    {
      "cell_type": "code",
      "source": [
        "\"hola mundo\".capitalize()"
      ],
      "metadata": {
        "id": "j4YjcEOkTa8Z",
        "outputId": "cc7185cd-74cf-4cb6-988c-1952653cef2c",
        "colab": {
          "base_uri": "https://localhost:8080/",
          "height": 36
        }
      },
      "execution_count": 30,
      "outputs": [
        {
          "output_type": "execute_result",
          "data": {
            "text/plain": [
              "'Hola mundo'"
            ],
            "application/vnd.google.colaboratory.intrinsic+json": {
              "type": "string"
            }
          },
          "metadata": {},
          "execution_count": 30
        }
      ]
    },
    {
      "cell_type": "code",
      "source": [
        "\"hola mundo\".split()"
      ],
      "metadata": {
        "id": "dUZBtfRXTuwy",
        "outputId": "7df8c0ea-4c3c-415d-8d71-eb9306e3cad0",
        "colab": {
          "base_uri": "https://localhost:8080/"
        }
      },
      "execution_count": 31,
      "outputs": [
        {
          "output_type": "execute_result",
          "data": {
            "text/plain": [
              "['hola', 'mundo']"
            ]
          },
          "metadata": {},
          "execution_count": 31
        }
      ]
    },
    {
      "cell_type": "code",
      "source": [
        "\"hola mundo buenos dias \".split(\"buenos\")"
      ],
      "metadata": {
        "id": "twII9EXVUCKp",
        "outputId": "79bb7dd2-a943-4695-c264-8ce1131db4ec",
        "colab": {
          "base_uri": "https://localhost:8080/"
        }
      },
      "execution_count": 32,
      "outputs": [
        {
          "output_type": "execute_result",
          "data": {
            "text/plain": [
              "['hola mundo ', ' dias ']"
            ]
          },
          "metadata": {},
          "execution_count": 32
        }
      ]
    },
    {
      "cell_type": "code",
      "source": [
        "\"hola mundo buenos dias \".count(\"z\")"
      ],
      "metadata": {
        "id": "EqVUzU4QUKx8",
        "outputId": "af76f517-622b-425f-bd23-c51c347b2992",
        "colab": {
          "base_uri": "https://localhost:8080/"
        }
      },
      "execution_count": 35,
      "outputs": [
        {
          "output_type": "execute_result",
          "data": {
            "text/plain": [
              "0"
            ]
          },
          "metadata": {},
          "execution_count": 35
        }
      ]
    },
    {
      "cell_type": "markdown",
      "source": [
        "#Operadores\n",
        "usando operadores aritmeticos de +y"
      ],
      "metadata": {
        "id": "08UQxBCPUe3A"
      }
    },
    {
      "cell_type": "code",
      "source": [
        "\"hola\"+\"mundo\""
      ],
      "metadata": {
        "id": "7O2YfbIqUc4r",
        "outputId": "68dff6dd-41b3-4f65-a5b9-cc17c3777562",
        "colab": {
          "base_uri": "https://localhost:8080/",
          "height": 36
        }
      },
      "execution_count": 36,
      "outputs": [
        {
          "output_type": "execute_result",
          "data": {
            "text/plain": [
              "'holamundo'"
            ],
            "application/vnd.google.colaboratory.intrinsic+json": {
              "type": "string"
            }
          },
          "metadata": {},
          "execution_count": 36
        }
      ]
    },
    {
      "cell_type": "code",
      "source": [
        "\"hola\"+\" mundo \"+ \"123 \""
      ],
      "metadata": {
        "id": "H0xO-Nz3UvLF",
        "outputId": "e99be0c1-4152-4b3d-9a95-d355268be61a",
        "colab": {
          "base_uri": "https://localhost:8080/",
          "height": 36
        }
      },
      "execution_count": 37,
      "outputs": [
        {
          "output_type": "execute_result",
          "data": {
            "text/plain": [
              "'hola mundo  123 '"
            ],
            "application/vnd.google.colaboratory.intrinsic+json": {
              "type": "string"
            }
          },
          "metadata": {},
          "execution_count": 37
        }
      ]
    },
    {
      "cell_type": "code",
      "source": [
        "\"hola\"+\" mundo \"+ \"123 \" + str (123.00)#concatena"
      ],
      "metadata": {
        "id": "vKVD4Z5CU4fd",
        "outputId": "0795df1f-fb0b-43dd-f88d-e8e5fef21f2c",
        "colab": {
          "base_uri": "https://localhost:8080/",
          "height": 36
        }
      },
      "execution_count": 38,
      "outputs": [
        {
          "output_type": "execute_result",
          "data": {
            "text/plain": [
              "'hola mundo 123 123.0'"
            ],
            "application/vnd.google.colaboratory.intrinsic+json": {
              "type": "string"
            }
          },
          "metadata": {},
          "execution_count": 38
        }
      ]
    },
    {
      "cell_type": "code",
      "source": [
        "\" hola \" * 4 #multiplica la palbra"
      ],
      "metadata": {
        "id": "xi0s8wJHU-3e",
        "outputId": "0f15663a-9aae-40e7-be19-ed8212a04eee",
        "colab": {
          "base_uri": "https://localhost:8080/",
          "height": 36
        }
      },
      "execution_count": 40,
      "outputs": [
        {
          "output_type": "execute_result",
          "data": {
            "text/plain": [
              "' hola  hola  hola  hola '"
            ],
            "application/vnd.google.colaboratory.intrinsic+json": {
              "type": "string"
            }
          },
          "metadata": {},
          "execution_count": 40
        }
      ]
    },
    {
      "cell_type": "code",
      "source": [
        "texto =\"Piratas del caribe\""
      ],
      "metadata": {
        "id": "c2nC-RmkVE2o"
      },
      "execution_count": 41,
      "outputs": []
    },
    {
      "cell_type": "code",
      "source": [
        "texto"
      ],
      "metadata": {
        "id": "lCuQsji2VKpk",
        "outputId": "d1a4d985-d02c-4929-94d0-31e0bfe8b190",
        "colab": {
          "base_uri": "https://localhost:8080/",
          "height": 36
        }
      },
      "execution_count": 42,
      "outputs": [
        {
          "output_type": "execute_result",
          "data": {
            "text/plain": [
              "'Piratas del caribe'"
            ],
            "application/vnd.google.colaboratory.intrinsic+json": {
              "type": "string"
            }
          },
          "metadata": {},
          "execution_count": 42
        }
      ]
    },
    {
      "cell_type": "code",
      "source": [
        "texto[10]#te da la letra del numero\n",
        "#el primer indice es 0\n",
        "texto[-1]#Ultimo valor"
      ],
      "metadata": {
        "id": "SlF9UGDwVMXk",
        "outputId": "735bacd8-200a-439c-9b77-5e4d380bfca4",
        "colab": {
          "base_uri": "https://localhost:8080/",
          "height": 36
        }
      },
      "execution_count": 46,
      "outputs": [
        {
          "output_type": "execute_result",
          "data": {
            "text/plain": [
              "'l'"
            ],
            "application/vnd.google.colaboratory.intrinsic+json": {
              "type": "string"
            }
          },
          "metadata": {},
          "execution_count": 46
        }
      ]
    },
    {
      "cell_type": "code",
      "source": [
        "len(texto)#te da todos los valores"
      ],
      "metadata": {
        "id": "MKwhkgumVkhv",
        "outputId": "6ae4f4f2-6b86-4fc5-9c2b-5ecaa7b5ef18",
        "colab": {
          "base_uri": "https://localhost:8080/"
        }
      },
      "execution_count": 47,
      "outputs": [
        {
          "output_type": "execute_result",
          "data": {
            "text/plain": [
              "18"
            ]
          },
          "metadata": {},
          "execution_count": 47
        }
      ]
    },
    {
      "cell_type": "code",
      "source": [
        "texto[1:]#Todo el texto exepto la primer letra"
      ],
      "metadata": {
        "id": "oEn9fddUWmgB",
        "outputId": "1de3255d-38fc-4679-8e4e-2d44711e0ebd",
        "colab": {
          "base_uri": "https://localhost:8080/",
          "height": 36
        }
      },
      "execution_count": 50,
      "outputs": [
        {
          "output_type": "execute_result",
          "data": {
            "text/plain": [
              "'iratas del caribe'"
            ],
            "application/vnd.google.colaboratory.intrinsic+json": {
              "type": "string"
            }
          },
          "metadata": {},
          "execution_count": 50
        }
      ]
    },
    {
      "cell_type": "code",
      "source": [
        "texto[1:17]#Todo el texto exepto la primer letra y la ultima"
      ],
      "metadata": {
        "id": "zraJyHvqXBKH",
        "outputId": "e14a6a89-da14-443f-aadf-71ec41526a20",
        "colab": {
          "base_uri": "https://localhost:8080/",
          "height": 36
        }
      },
      "execution_count": 54,
      "outputs": [
        {
          "output_type": "execute_result",
          "data": {
            "text/plain": [
              "'iratas del carib'"
            ],
            "application/vnd.google.colaboratory.intrinsic+json": {
              "type": "string"
            }
          },
          "metadata": {},
          "execution_count": 54
        }
      ]
    },
    {
      "cell_type": "code",
      "source": [
        "texto[1:3:1]#Todo el texto exepto"
      ],
      "metadata": {
        "id": "nKnAWnQnXJ4Q",
        "outputId": "e06f7992-15a0-49e8-f4af-48b694d01cab",
        "colab": {
          "base_uri": "https://localhost:8080/",
          "height": 36
        }
      },
      "execution_count": 58,
      "outputs": [
        {
          "output_type": "execute_result",
          "data": {
            "text/plain": [
              "'ir'"
            ],
            "application/vnd.google.colaboratory.intrinsic+json": {
              "type": "string"
            }
          },
          "metadata": {},
          "execution_count": 58
        }
      ]
    },
    {
      "cell_type": "code",
      "source": [
        "'anita lava la tina'.replace(\"a\",\"A\")"
      ],
      "metadata": {
        "id": "qCYfkAnXYGtq",
        "outputId": "cacda0ef-f0d1-4b62-b785-6e578feb0c3f",
        "colab": {
          "base_uri": "https://localhost:8080/",
          "height": 36
        }
      },
      "execution_count": 59,
      "outputs": [
        {
          "output_type": "execute_result",
          "data": {
            "text/plain": [
              "'AnitA lAvA lA tinA'"
            ],
            "application/vnd.google.colaboratory.intrinsic+json": {
              "type": "string"
            }
          },
          "metadata": {},
          "execution_count": 59
        }
      ]
    },
    {
      "cell_type": "code",
      "source": [
        "\"anita lava la tina\".replace(\"\",\"\")[::-1]==\"anita lava la tina\".replace(\"\",\"\")"
      ],
      "metadata": {
        "id": "HAAXiKiTYUQb",
        "outputId": "2e32b5ff-3ad0-449e-8071-7efd92b33db9",
        "colab": {
          "base_uri": "https://localhost:8080/"
        }
      },
      "execution_count": 60,
      "outputs": [
        {
          "output_type": "execute_result",
          "data": {
            "text/plain": [
              "False"
            ]
          },
          "metadata": {},
          "execution_count": 60
        }
      ]
    },
    {
      "cell_type": "code",
      "source": [
        "palabra = \"anita lava la tina\"\n",
        "palabra_proce =palabra.replace (\" \",\"\")\n",
        "palabra_proce[::-1]== palabra_proce"
      ],
      "metadata": {
        "id": "2C32j1adYozP",
        "outputId": "c1a335e8-7a60-4348-8f61-83341122a83f",
        "colab": {
          "base_uri": "https://localhost:8080/"
        }
      },
      "execution_count": 61,
      "outputs": [
        {
          "output_type": "execute_result",
          "data": {
            "text/plain": [
              "True"
            ]
          },
          "metadata": {},
          "execution_count": 61
        }
      ]
    },
    {
      "cell_type": "markdown",
      "source": [
        "#Inmutabilidad\n",
        "es cuando un objeto no puede ser modificado"
      ],
      "metadata": {
        "id": "RNBM3LFGZHoD"
      }
    },
    {
      "cell_type": "code",
      "source": [
        "texto=\"Hola\""
      ],
      "metadata": {
        "id": "-lG5TptkZPK9"
      },
      "execution_count": 62,
      "outputs": []
    },
    {
      "cell_type": "code",
      "source": [
        "texto[0]"
      ],
      "metadata": {
        "id": "TbuV3r_lZUOA",
        "outputId": "9307f1a4-d624-40b2-928b-8fd2b45b8245",
        "colab": {
          "base_uri": "https://localhost:8080/",
          "height": 36
        }
      },
      "execution_count": 65,
      "outputs": [
        {
          "output_type": "execute_result",
          "data": {
            "text/plain": [
              "'H'"
            ],
            "application/vnd.google.colaboratory.intrinsic+json": {
              "type": "string"
            }
          },
          "metadata": {},
          "execution_count": 65
        }
      ]
    },
    {
      "cell_type": "markdown",
      "source": [
        "#Operadores in, not, not in"
      ],
      "metadata": {
        "id": "kvpAGLxBaKBn"
      }
    },
    {
      "cell_type": "code",
      "source": [
        "\"m\" in \"manzana\""
      ],
      "metadata": {
        "id": "vMQrnd2WaOnU",
        "outputId": "e0520b6c-7154-4aa7-edbf-70cab4383521",
        "colab": {
          "base_uri": "https://localhost:8080/"
        }
      },
      "execution_count": 67,
      "outputs": [
        {
          "output_type": "execute_result",
          "data": {
            "text/plain": [
              "True"
            ]
          },
          "metadata": {},
          "execution_count": 67
        }
      ]
    },
    {
      "cell_type": "code",
      "source": [
        "\"e\" in \"manzana\""
      ],
      "metadata": {
        "id": "uenscHLIaUTX",
        "outputId": "11ffff2c-6edb-4a82-e03b-eeb64f7eea04",
        "colab": {
          "base_uri": "https://localhost:8080/"
        }
      },
      "execution_count": 68,
      "outputs": [
        {
          "output_type": "execute_result",
          "data": {
            "text/plain": [
              "False"
            ]
          },
          "metadata": {},
          "execution_count": 68
        }
      ]
    },
    {
      "cell_type": "code",
      "source": [
        "\"e\" not in \"manzana\""
      ],
      "metadata": {
        "id": "3g45kJ8GaaQh",
        "outputId": "f905848c-a014-4fad-863a-f61981750d41",
        "colab": {
          "base_uri": "https://localhost:8080/"
        }
      },
      "execution_count": 69,
      "outputs": [
        {
          "output_type": "execute_result",
          "data": {
            "text/plain": [
              "True"
            ]
          },
          "metadata": {},
          "execution_count": 69
        }
      ]
    },
    {
      "cell_type": "markdown",
      "source": [
        "#String formatting\n",
        "Es un f-string para agregar variable a un print, tambien se le conoce como es f-string"
      ],
      "metadata": {
        "id": "cM6t-k2YaeVc"
      }
    },
    {
      "cell_type": "code",
      "source": [
        "texto1 =\"Hola mundo!\"\n",
        "print(\"Mi variable texto =\", texto1)"
      ],
      "metadata": {
        "id": "7mdhWb9Vaygw",
        "outputId": "9749826c-e721-4899-98f9-9ff055e85971",
        "colab": {
          "base_uri": "https://localhost:8080/"
        }
      },
      "execution_count": 70,
      "outputs": [
        {
          "output_type": "stream",
          "name": "stdout",
          "text": [
            "Mi variable texto = Hola mundo!\n"
          ]
        }
      ]
    },
    {
      "cell_type": "code",
      "source": [
        "texto =\"Arbol\"\n",
        "print(f\"Mi variabletexto = {texto}\")"
      ],
      "metadata": {
        "id": "wI4K49zKbASH",
        "outputId": "c40bcccf-3369-49c5-a4fa-4f8fea6f105e",
        "colab": {
          "base_uri": "https://localhost:8080/"
        }
      },
      "execution_count": 73,
      "outputs": [
        {
          "output_type": "stream",
          "name": "stdout",
          "text": [
            "Mi variabletexto = Arbol\n"
          ]
        }
      ]
    },
    {
      "cell_type": "code",
      "source": [
        "edad = 20\n",
        "nombre =\"Kelly\"\n",
        "print (f\"Hola a todos, soy {nombre} y tengo {edad} años\")"
      ],
      "metadata": {
        "id": "R-VAshj8bOrc",
        "outputId": "5eeca622-a32f-424c-b4d4-e0a61b4bb669",
        "colab": {
          "base_uri": "https://localhost:8080/"
        }
      },
      "execution_count": 74,
      "outputs": [
        {
          "output_type": "stream",
          "name": "stdout",
          "text": [
            "Hola a todos, soy Kelly y tengo 20 años\n"
          ]
        }
      ]
    },
    {
      "cell_type": "code",
      "source": [
        "print (f\"Hola a todos, soy\",nombre, \"y tengo\",edad, \"años\")"
      ],
      "metadata": {
        "id": "T7rwCLAPboJh",
        "outputId": "9bdb66d1-c051-44b7-9cf6-28cb24744981",
        "colab": {
          "base_uri": "https://localhost:8080/"
        }
      },
      "execution_count": 75,
      "outputs": [
        {
          "output_type": "stream",
          "name": "stdout",
          "text": [
            "Hola a todos, soy Kelly y tengo 20 años\n"
          ]
        }
      ]
    },
    {
      "cell_type": "code",
      "source": [
        "print (\"El valor de pi es igual a {0:.4f}\".format(3.1415))"
      ],
      "metadata": {
        "id": "9q36s2oXb4j5",
        "outputId": "b9b8afcb-57db-4567-dbc0-9efafe52eebb",
        "colab": {
          "base_uri": "https://localhost:8080/"
        }
      },
      "execution_count": 79,
      "outputs": [
        {
          "output_type": "stream",
          "name": "stdout",
          "text": [
            "El valor de pi es igual a 3.1415\n"
          ]
        }
      ]
    }
  ]
}