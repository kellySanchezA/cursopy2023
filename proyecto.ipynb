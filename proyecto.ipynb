{
  "nbformat": 4,
  "nbformat_minor": 0,
  "metadata": {
    "colab": {
      "provenance": [],
      "authorship_tag": "ABX9TyNW204NQR7+FIhvFAwPrTTn",
      "include_colab_link": true
    },
    "kernelspec": {
      "name": "python3",
      "display_name": "Python 3"
    },
    "language_info": {
      "name": "python"
    }
  },
  "cells": [
    {
      "cell_type": "markdown",
      "metadata": {
        "id": "view-in-github",
        "colab_type": "text"
      },
      "source": [
        "<a href=\"https://colab.research.google.com/github/kellySanchezA/cursopy2023/blob/main/proyecto.ipynb\" target=\"_parent\"><img src=\"https://colab.research.google.com/assets/colab-badge.svg\" alt=\"Open In Colab\"/></a>"
      ]
    },
    {
      "cell_type": "code",
      "execution_count": null,
      "metadata": {
        "colab": {
          "base_uri": "https://localhost:8080/"
        },
        "id": "RhJ005UCLtk0",
        "outputId": "a78f02cd-4920-4765-e926-b4e776c70f6c"
      },
      "outputs": [
        {
          "output_type": "stream",
          "name": "stdout",
          "text": [
            "Requirement already satisfied: sympy in /usr/local/lib/python3.10/dist-packages (1.11.1)\n",
            "Requirement already satisfied: mpmath>=0.19 in /usr/local/lib/python3.10/dist-packages (from sympy) (1.3.0)\n"
          ]
        }
      ],
      "source": [
        "!pip install sympy"
      ]
    },
    {
      "cell_type": "code",
      "source": [
        " #importamos la libreria que utilizamos para las operaciones trigonometricas\n",
        "import math\n",
        "#Importamos la libreria sympy que nos permite realizar las operaciones\n",
        "import sympy as sp"
      ],
      "metadata": {
        "id": "3S_EVGdFSdeN"
      },
      "execution_count": null,
      "outputs": []
    },
    {
      "cell_type": "code",
      "source": [
        "\"\"\"CREAMOS FUNCIONES DE LAS OPERACIONES QUE SE DESEAN REALIZAR\"\"\"\n",
        "def suma(*numeros):#Función para realizar suma\n",
        "  return sum(numeros)\n",
        "\n",
        "def resta(*numeros):#Función para realizar resta\n",
        "  resultado = numeros[0]\n",
        "  for num in numeros[1:]:\n",
        "    resultado -= num\n",
        "  return resultado\n",
        "\n",
        "def multiplicacion(*numeros):#Función para realizar multiplicación\n",
        "  resultado = 1\n",
        "  for num in numeros:\n",
        "    resultado *= num\n",
        "  return resultado\n",
        "\n",
        "def division(a, b):#Función para realizar división\n",
        "  if b != 0:\n",
        "    return a / b\n",
        "  else:\n",
        "    return \"Error: División por cero\"\n",
        "\n",
        "def exponencial(a, b):#Función para los numeros exponentes\n",
        "  return a ** b\n",
        "\n",
        "def raiz_cuadrada(a):#Funcion para realizar raiz cuadrada\n",
        "  if a >= 0:\n",
        "    return math.sqrt(a)\n",
        "  else:\n",
        "    return \"Error: No se puede calcular la raíz de un número negativo\"\n",
        "\n",
        "def integral():#Funcion para realizar Integrales\n",
        "  x = sp.symbols('x')\n",
        "  expresion = input(\"Ingrese la expresión a integrar (por ejemplo, 'x**2 + 3*x + 5'): \")\n",
        "  try:\n",
        "    integral = sp.integrate(expresion, x)\n",
        "    return integral\n",
        "  except:\n",
        "    return \"Error: No se pudo calcular la integral. Asegúrese de ingresar una expresión válida.\"\n",
        "\n",
        "def derivada():#Funcion para realizar Derivadas\n",
        "  x = sp.symbols('x')\n",
        "  expresion = input(\"Ingrese la expresión para calcular la derivada (por ejemplo, 'x**2 + 3*x + 5'): \")\n",
        "  try:\n",
        "    derivada = sp.diff(expresion, x)\n",
        "    return derivada\n",
        "  except:\n",
        "    return \"Error: No se pudo calcular la derivada. Asegúrese de ingresar una expresión válida.\"\n",
        "#Realiza Funciones trigonometricas\n",
        "def seno(a):\n",
        "  return math.sin(math.radians(a))\n",
        "\n",
        "def coseno(a):\n",
        "  return math.cos(math.radians(a))\n",
        "\n",
        "def tangente(a):\n",
        "  return math.tan(math.radians(a))\n",
        "\n"
      ],
      "metadata": {
        "id": "YVUklSMYNJei"
      },
      "execution_count": null,
      "outputs": []
    },
    {
      "cell_type": "code",
      "source": [
        "\"\"\" CALCULADORA AVANZADA \"\"\"\n",
        "#Funcion principal en las que se agregan las opciones para el usuario\n",
        "def calcular():\n",
        "  print(\"Calculadora AVANZADA\")\n",
        "  print(\"Operaciones disponibles:\")\n",
        "  \"\"\"OPERACIONES BASICAS\"\"\"\n",
        "  print(\"1. Suma\")\n",
        "  print(\"2. Resta\")\n",
        "  print(\"3. Multiplicación\")\n",
        "  print(\"4. División\")\n",
        "  print(\"5. Exponencial\")\n",
        "  \"\"\"OPERACIONES MULTIPLES\"\"\"\n",
        "  print(\"6. Raíz cuadrada\")\n",
        "  print(\"7. Integral\")\n",
        "  print(\"8. Derivada\")\n",
        "  \"\"\"FUNCIONES TRIGONOMETRICAS\"\"\"\n",
        "  print(\"9. Seno\")\n",
        "  print(\"10. Coseno\")\n",
        "  print(\"11. Tangente\")\n",
        "\n",
        "  operacion=int(input(\"Ingrese el número de la operación que desea realizar: \"))\n",
        "\n",
        "#Realiza las operaciones basicas\n",
        "  if operacion in [1, 2, 3]:\n",
        "    num_numeros = int(input(\"Ingrese cuántos números desea utilizar: \"))\n",
        "    numeros = [float(input(f\"Ingrese el número {i+1}: \"))\n",
        "    for i in range(num_numeros)]\n",
        "  elif operacion == 4:\n",
        "    num_numeros = 2\n",
        "    numeros = [float(input(f\"Ingrese el número {i+1}: \"))\n",
        "    for i in range(num_numeros)]\n",
        "\n",
        "  if operacion in [1, 2, 3, 4, 5]:\n",
        "    resultado = globals()[['suma', 'resta', 'multiplicacion', 'division','exponenciacion'][operacion-1]](*numeros)\n",
        "    print(\"Resultado:\", resultado)\n",
        "  elif operacion == 6:#Realiza la raiz cuadrada\n",
        "    num1 = float(input(\"Ingrese el número: \"))\n",
        "    print(\"Resultado:\", raiz_cuadrada(num1))\n",
        "  elif operacion == 7:#Realiza la integral\n",
        "    resultado = integral()\n",
        "    print(\"Resultado:\", resultado)\n",
        "  elif operacion == 8:#Realiza la derivada\n",
        "    resultado = derivada()\n",
        "    print(\"Resultado:\", resultado)\n",
        "  elif operacion == 9:#Realiza la función seno\n",
        "    num = int(input(\"Ingrese el angulo que desea obtener el seno: \"))\n",
        "    print(\"Resultado:\", seno(num))\n",
        "  elif operacion == 10:#Realiza la función coseno\n",
        "    num = int(input(\"Ingrese el angulo que desea obtener el coseno: \"))\n",
        "    print(\"Resultado:\", coseno(num))\n",
        "  elif operacion == 11:#Realiza la función tangente\n",
        "    num = int(input(\"Ingrese el angulo que desea obtener la tangente: \"))\n",
        "    print(\"Resultado:\", tangente(num))\n",
        "  else:#Comunica un error al no ser valida la operacion que esta requiriendo el usuario\n",
        "    print(\"Operación no válida. Por favor, ingrese un número del 1 al 11.\")\n",
        "\n",
        "if __name__ == \"__main__\":\n",
        "    calcular()"
      ],
      "metadata": {
        "colab": {
          "base_uri": "https://localhost:8080/"
        },
        "id": "3e9zWnZrQT9S",
        "outputId": "f346f27a-5eeb-4ba9-f3de-7118d3db1bc6"
      },
      "execution_count": null,
      "outputs": [
        {
          "output_type": "stream",
          "name": "stdout",
          "text": [
            "Calculadora AVANZADA\n",
            "Operaciones disponibles:\n",
            "1. Suma\n",
            "2. Resta\n",
            "3. Multiplicación\n",
            "4. División\n",
            "5. Exponencial\n",
            "6. Raíz cuadrada\n",
            "7. Integral\n",
            "8. Derivada\n",
            "9. Seno\n",
            "10. Coseno\n",
            "11. Tangente\n",
            "Ingrese el número de la operación que desea realizar: 9\n",
            "Ingrese el angulo que desea obtener el seno: 90\n",
            "Resultado: 1.0\n"
          ]
        }
      ]
    }
  ]
}