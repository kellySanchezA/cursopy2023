{
  "nbformat": 4,
  "nbformat_minor": 0,
  "metadata": {
    "colab": {
      "provenance": [],
      "authorship_tag": "ABX9TyPrF7dmY+AcCnoBauJnMwKR",
      "include_colab_link": true
    },
    "kernelspec": {
      "name": "python3",
      "display_name": "Python 3"
    },
    "language_info": {
      "name": "python"
    }
  },
  "cells": [
    {
      "cell_type": "markdown",
      "metadata": {
        "id": "view-in-github",
        "colab_type": "text"
      },
      "source": [
        "<a href=\"https://colab.research.google.com/github/kellySanchezA/cursopy2023/blob/main/Untitled0.ipynb\" target=\"_parent\"><img src=\"https://colab.research.google.com/assets/colab-badge.svg\" alt=\"Open In Colab\"/></a>"
      ]
    },
    {
      "cell_type": "markdown",
      "source": [
        "#MI primer código de python\n",
        ""
      ],
      "metadata": {
        "id": "NXx7qWfXt6FZ"
      }
    },
    {
      "cell_type": "code",
      "execution_count": 2,
      "metadata": {
        "colab": {
          "base_uri": "https://localhost:8080/"
        },
        "id": "Jgl4iE4bjMSM",
        "outputId": "388d0150-3d95-4451-995d-ebff73facfa4"
      },
      "outputs": [
        {
          "output_type": "stream",
          "name": "stdout",
          "text": [
            "Hello, World\n"
          ]
        }
      ],
      "source": [
        "#En python podemos usar comillas dobles o\n",
        "# para crear un string (cadena de caracteres o texto)\n",
        "print(\"Hello, World!\")"
      ]
    },
    {
      "cell_type": "code",
      "source": [
        "# Pero también podemos usar comillas sencillas\n",
        "print('Hello, World!')"
      ],
      "metadata": {
        "colab": {
          "base_uri": "https://localhost:8080/"
        },
        "id": "gutZu1C2tDCZ",
        "outputId": "17d52548-8f3e-42f0-9ca0-a87bd4aab7cd"
      },
      "execution_count": 3,
      "outputs": [
        {
          "output_type": "stream",
          "name": "stdout",
          "text": [
            "Hello, World!\n"
          ]
        }
      ]
    },
    {
      "cell_type": "code",
      "source": [
        "#Aunque no es necesario usar el print en colab\n",
        "#para mostrar un resultado\n",
        "\"Hello, World!\"\n",
        "#Útil cuando desarrollamos o requerimos ver un resultado\n",
        "#Pero como buena practica hay que usar siempre el print"
      ],
      "metadata": {
        "id": "FDEOCufbuORp"
      },
      "execution_count": null,
      "outputs": []
    },
    {
      "cell_type": "markdown",
      "source": [
        "introducción"
      ],
      "metadata": {
        "id": "JKsw1-cux4ey"
      }
    },
    {
      "cell_type": "markdown",
      "source": [
        "1.1 Zen de python\n"
      ],
      "metadata": {
        "id": "X8VbtAWaxt6x"
      }
    },
    {
      "cell_type": "markdown",
      "source": [],
      "metadata": {
        "id": "M1BI2EEBx8XB"
      }
    },
    {
      "cell_type": "code",
      "source": [
        "import this"
      ],
      "metadata": {
        "colab": {
          "base_uri": "https://localhost:8080/"
        },
        "id": "qmOKRoQ2xrO6",
        "outputId": "73a83d6d-3d69-4335-d6d8-f21cda2794cd"
      },
      "execution_count": 4,
      "outputs": [
        {
          "output_type": "stream",
          "name": "stdout",
          "text": [
            "The Zen of Python, by Tim Peters\n",
            "\n",
            "Beautiful is better than ugly.\n",
            "Explicit is better than implicit.\n",
            "Simple is better than complex.\n",
            "Complex is better than complicated.\n",
            "Flat is better than nested.\n",
            "Sparse is better than dense.\n",
            "Readability counts.\n",
            "Special cases aren't special enough to break the rules.\n",
            "Although practicality beats purity.\n",
            "Errors should never pass silently.\n",
            "Unless explicitly silenced.\n",
            "In the face of ambiguity, refuse the temptation to guess.\n",
            "There should be one-- and preferably only one --obvious way to do it.\n",
            "Although that way may not be obvious at first unless you're Dutch.\n",
            "Now is better than never.\n",
            "Although never is often better than *right* now.\n",
            "If the implementation is hard to explain, it's a bad idea.\n",
            "If the implementation is easy to explain, it may be a good idea.\n",
            "Namespaces are one honking great idea -- let's do more of those!\n"
          ]
        }
      ]
    },
    {
      "cell_type": "markdown",
      "source": [
        "#Depuración\n",
        "\n",
        "-encontrar y deshacerse de bugs/errores\n",
        "\n",
        "-mientras los humanos escriban códigos de computadoras"
      ],
      "metadata": {
        "id": "P-EBd6q6zlsx"
      }
    },
    {
      "cell_type": "markdown",
      "source": [
        "#1.9 Ejercicios\n",
        "\n",
        "**1. Escribe un guión de hola mundo**\n",
        "\n",
        "\n",
        "-Escriba un script de python que imprima \"Hello World!\" como salida en la consola  en Colab\n",
        "\n",
        "-Publicarlo en GitHutb\n",
        "\n",
        "-Compartir la liga de su código en github\n"
      ],
      "metadata": {
        "id": "foa1tn_WyaIQ"
      }
    }
  ]
}