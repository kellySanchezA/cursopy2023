{
  "nbformat": 4,
  "nbformat_minor": 0,
  "metadata": {
    "colab": {
      "provenance": [],
      "authorship_tag": "ABX9TyP+hECSampvrLKIHszrq1gg",
      "include_colab_link": true
    },
    "kernelspec": {
      "name": "python3",
      "display_name": "Python 3"
    },
    "language_info": {
      "name": "python"
    }
  },
  "cells": [
    {
      "cell_type": "markdown",
      "metadata": {
        "id": "view-in-github",
        "colab_type": "text"
      },
      "source": [
        "<a href=\"https://colab.research.google.com/github/kellySanchezA/cursopy2023/blob/main/Tuplas.ipynb\" target=\"_parent\"><img src=\"https://colab.research.google.com/assets/colab-badge.svg\" alt=\"Open In Colab\"/></a>"
      ]
    },
    {
      "cell_type": "markdown",
      "source": [
        "#Tupla\n",
        "- Nos pueden servir para almecenar valores\n",
        "- Se crean utilizando parentesis\n",
        "- Al igual que los str son objetos inmutables\n"
      ],
      "metadata": {
        "id": "BXageuGjc_31"
      }
    },
    {
      "cell_type": "code",
      "execution_count": null,
      "metadata": {
        "id": "i8uOrUY_c_CN"
      },
      "outputs": [],
      "source": [
        "mi_primer_tupla =(\"México\", \"CDMX\")"
      ]
    },
    {
      "cell_type": "code",
      "source": [
        "type (mi_primer_tupla)"
      ],
      "metadata": {
        "colab": {
          "base_uri": "https://localhost:8080/"
        },
        "id": "_KjhpwnSdoVN",
        "outputId": "b57a7124-1520-420e-e20d-d507a484d8f7"
      },
      "execution_count": null,
      "outputs": [
        {
          "output_type": "execute_result",
          "data": {
            "text/plain": [
              "tuple"
            ]
          },
          "metadata": {},
          "execution_count": 2
        }
      ]
    },
    {
      "cell_type": "code",
      "source": [
        "mi_segunda_tupla =(\"Kelly\", 20)"
      ],
      "metadata": {
        "id": "sjK_5MkhdtJE"
      },
      "execution_count": 2,
      "outputs": []
    },
    {
      "cell_type": "code",
      "source": [
        "mi_segunda_tupla"
      ],
      "metadata": {
        "colab": {
          "base_uri": "https://localhost:8080/"
        },
        "id": "g-0BiAz1d1pR",
        "outputId": "2c9ef8fd-c9ba-4147-f22c-d4817ed415f0"
      },
      "execution_count": null,
      "outputs": [
        {
          "output_type": "execute_result",
          "data": {
            "text/plain": [
              "('Kelly', 20)"
            ]
          },
          "metadata": {},
          "execution_count": 4
        }
      ]
    },
    {
      "cell_type": "code",
      "source": [
        "(16, 28)"
      ],
      "metadata": {
        "colab": {
          "base_uri": "https://localhost:8080/"
        },
        "id": "AjEQ4pS6eF2d",
        "outputId": "02732ba9-b5a4-43a8-b265-b724f64991b5"
      },
      "execution_count": null,
      "outputs": [
        {
          "output_type": "execute_result",
          "data": {
            "text/plain": [
              "(16, 28)"
            ]
          },
          "metadata": {},
          "execution_count": 5
        }
      ]
    },
    {
      "cell_type": "code",
      "source": [
        "def area_perimetro(base, altura):\n",
        "  return (perimetro, area)"
      ],
      "metadata": {
        "id": "abstO8_SeO9_"
      },
      "execution_count": null,
      "outputs": []
    },
    {
      "cell_type": "code",
      "source": [
        "resultados =(16,28)"
      ],
      "metadata": {
        "id": "Mq2iUwdpeYIr"
      },
      "execution_count": null,
      "outputs": []
    },
    {
      "cell_type": "code",
      "source": [
        "perimetro , area =resultados"
      ],
      "metadata": {
        "id": "nPeFnRQceddl"
      },
      "execution_count": null,
      "outputs": []
    },
    {
      "cell_type": "code",
      "source": [
        "perimetro"
      ],
      "metadata": {
        "colab": {
          "base_uri": "https://localhost:8080/"
        },
        "id": "FibyXS9QehbC",
        "outputId": "1c9990ae-8075-4fd6-b75b-eacd8afd3137"
      },
      "execution_count": null,
      "outputs": [
        {
          "output_type": "execute_result",
          "data": {
            "text/plain": [
              "16"
            ]
          },
          "metadata": {},
          "execution_count": 9
        }
      ]
    },
    {
      "cell_type": "code",
      "source": [
        "area"
      ],
      "metadata": {
        "colab": {
          "base_uri": "https://localhost:8080/"
        },
        "id": "zzV12VcIej0y",
        "outputId": "9d9a159a-2217-4af6-a3b6-823b935cb346"
      },
      "execution_count": null,
      "outputs": [
        {
          "output_type": "execute_result",
          "data": {
            "text/plain": [
              "28"
            ]
          },
          "metadata": {},
          "execution_count": 10
        }
      ]
    },
    {
      "cell_type": "code",
      "source": [
        "resultados[0]#acceder a los elementos de una tupla"
      ],
      "metadata": {
        "colab": {
          "base_uri": "https://localhost:8080/"
        },
        "id": "_mE23qrWeqA7",
        "outputId": "f562b17c-7b94-404b-fe57-462caa90afc2"
      },
      "execution_count": null,
      "outputs": [
        {
          "output_type": "execute_result",
          "data": {
            "text/plain": [
              "16"
            ]
          },
          "metadata": {},
          "execution_count": 14
        }
      ]
    },
    {
      "cell_type": "code",
      "source": [
        "\"Kelly\" in mi_segunda_tupla"
      ],
      "metadata": {
        "colab": {
          "base_uri": "https://localhost:8080/"
        },
        "id": "mB6sXl9Be5ld",
        "outputId": "4c65ea27-ce1e-4fdf-fea1-df8bb14a2e2e"
      },
      "execution_count": null,
      "outputs": [
        {
          "output_type": "execute_result",
          "data": {
            "text/plain": [
              "True"
            ]
          },
          "metadata": {},
          "execution_count": 16
        }
      ]
    },
    {
      "cell_type": "code",
      "source": [
        "mi_tercer_tupla=(1,2,3)"
      ],
      "metadata": {
        "id": "xUaEZYJTfLbA"
      },
      "execution_count": null,
      "outputs": []
    },
    {
      "cell_type": "code",
      "source": [
        "mi_tercer_tupla [0]"
      ],
      "metadata": {
        "colab": {
          "base_uri": "https://localhost:8080/"
        },
        "id": "HqPV9jkifTYB",
        "outputId": "3128b9d1-a459-411d-ceb8-bd6918666972"
      },
      "execution_count": null,
      "outputs": [
        {
          "output_type": "execute_result",
          "data": {
            "text/plain": [
              "1"
            ]
          },
          "metadata": {},
          "execution_count": 20
        }
      ]
    },
    {
      "cell_type": "code",
      "source": [
        "len(mi_tercer_tupla)#cantidad de elemtos que tiene la tupla"
      ],
      "metadata": {
        "colab": {
          "base_uri": "https://localhost:8080/"
        },
        "id": "KqgnNMdEfjzw",
        "outputId": "712d3358-f6db-4f32-93a1-abdfce955850"
      },
      "execution_count": null,
      "outputs": [
        {
          "output_type": "execute_result",
          "data": {
            "text/plain": [
              "3"
            ]
          },
          "metadata": {},
          "execution_count": 21
        }
      ]
    },
    {
      "cell_type": "code",
      "source": [
        "len(\"hola mundo\")"
      ],
      "metadata": {
        "colab": {
          "base_uri": "https://localhost:8080/"
        },
        "id": "SPBLUwnifm-t",
        "outputId": "b62c9de1-64a7-4a06-ab5f-815d0ed358f8"
      },
      "execution_count": null,
      "outputs": [
        {
          "output_type": "execute_result",
          "data": {
            "text/plain": [
              "10"
            ]
          },
          "metadata": {},
          "execution_count": 22
        }
      ]
    },
    {
      "cell_type": "code",
      "source": [
        "\"Kelly\" in mi_segunda_tupla #saber si esta almacenado"
      ],
      "metadata": {
        "id": "ont8pzC8FaLW",
        "outputId": "2c128368-5699-49bc-d8ab-c48ab089d454",
        "colab": {
          "base_uri": "https://localhost:8080/"
        }
      },
      "execution_count": 4,
      "outputs": [
        {
          "output_type": "execute_result",
          "data": {
            "text/plain": [
              "True"
            ]
          },
          "metadata": {},
          "execution_count": 4
        }
      ]
    },
    {
      "cell_type": "markdown",
      "source": [
        "#Aplicacion de tuplas"
      ],
      "metadata": {
        "id": "YAuMI3ghGYx0"
      }
    },
    {
      "cell_type": "code",
      "source": [
        "def calculate_square_propeties(side_lengh):\n",
        "  \"\"\"Calcular el area y perimetro de un square\"\"\"\n",
        "\n",
        "  area = side_lengh **2\n",
        "  perimetro = 4 * side_lengh\n",
        "  return (area , perimetro)"
      ],
      "metadata": {
        "id": "_0qV0RfZGYOK"
      },
      "execution_count": 5,
      "outputs": []
    },
    {
      "cell_type": "code",
      "source": [
        "side =5.0\n",
        "resultados = calculate_square_propeties(side)"
      ],
      "metadata": {
        "id": "4BD5YsasGSHn"
      },
      "execution_count": 7,
      "outputs": []
    },
    {
      "cell_type": "code",
      "source": [
        "resultados"
      ],
      "metadata": {
        "id": "qnI4-g5BHh0x",
        "outputId": "164c1b0f-de1e-4fd7-b9bc-a9ad01ba051f",
        "colab": {
          "base_uri": "https://localhost:8080/"
        }
      },
      "execution_count": 8,
      "outputs": [
        {
          "output_type": "execute_result",
          "data": {
            "text/plain": [
              "(25.0, 20.0)"
            ]
          },
          "metadata": {},
          "execution_count": 8
        }
      ]
    },
    {
      "cell_type": "code",
      "source": [
        "type(resultados)"
      ],
      "metadata": {
        "id": "zDNedmf7HkSg",
        "outputId": "54bda82a-251d-4524-b33e-0fc8f684a997",
        "colab": {
          "base_uri": "https://localhost:8080/"
        }
      },
      "execution_count": 9,
      "outputs": [
        {
          "output_type": "execute_result",
          "data": {
            "text/plain": [
              "tuple"
            ]
          },
          "metadata": {},
          "execution_count": 9
        }
      ]
    },
    {
      "cell_type": "code",
      "source": [
        "area, perimetro = resultados"
      ],
      "metadata": {
        "id": "XNG0qzNUHpOS"
      },
      "execution_count": 10,
      "outputs": []
    },
    {
      "cell_type": "code",
      "source": [
        "area"
      ],
      "metadata": {
        "id": "KTellhwUHzRu",
        "outputId": "3eac0aff-0f3d-4281-888b-452fcf266dd7",
        "colab": {
          "base_uri": "https://localhost:8080/"
        }
      },
      "execution_count": 11,
      "outputs": [
        {
          "output_type": "execute_result",
          "data": {
            "text/plain": [
              "25.0"
            ]
          },
          "metadata": {},
          "execution_count": 11
        }
      ]
    },
    {
      "cell_type": "code",
      "source": [
        "perimetro"
      ],
      "metadata": {
        "id": "SbRrYTqpH1V6",
        "outputId": "4741bf49-9b51-4c8a-df97-31fb79db8705",
        "colab": {
          "base_uri": "https://localhost:8080/"
        }
      },
      "execution_count": 12,
      "outputs": [
        {
          "output_type": "execute_result",
          "data": {
            "text/plain": [
              "20.0"
            ]
          },
          "metadata": {},
          "execution_count": 12
        }
      ]
    },
    {
      "cell_type": "markdown",
      "source": [
        "Ventajas\n",
        "- es mas rapido iterar sobre una tupla que sobre una lista\n",
        "- Se recomiendan para datos no modificados para evitar errores durante el procesamiento de datos\n"
      ],
      "metadata": {
        "id": "cHa4pzPIH36j"
      }
    },
    {
      "cell_type": "code",
      "source": [
        "#Tuple iteration\n",
        "def iteration_tuple():\n",
        "  my_tuple=(1,2,3,4,5)\n",
        "  for item in my_tuple:\n",
        "    pass\n",
        "#"
      ],
      "metadata": {
        "id": "zPiHNI9SIQFq"
      },
      "execution_count": null,
      "outputs": []
    },
    {
      "cell_type": "code",
      "source": [],
      "metadata": {
        "id": "h4TgQaMNIeuB"
      },
      "execution_count": null,
      "outputs": []
    },
    {
      "cell_type": "markdown",
      "source": [
        "#Actividad"
      ],
      "metadata": {
        "id": "fy5vIEixI6c-"
      }
    },
    {
      "cell_type": "code",
      "source": [
        "l1 = 20\n",
        "l2 = 5\n",
        "cor = \"Rojo\"\n",
        "def calcular_area_per(lado1, lado2, color):\n",
        "  \"Calcular el area y el perimetro de un Rectangulo \"\n",
        "  area = lado1 * lado2\n",
        "  perimetro = (2*lado1)*(2*lado2)\n",
        "  return (area, perimetro, color)\n",
        "calcular_area_per(lado1 =l1, lado2 =l2, color =cor)"
      ],
      "metadata": {
        "id": "ZyvyrpbDKoDO",
        "outputId": "063f3073-41ac-41de-8393-ecd7f1209dbd",
        "colab": {
          "base_uri": "https://localhost:8080/"
        }
      },
      "execution_count": 27,
      "outputs": [
        {
          "output_type": "execute_result",
          "data": {
            "text/plain": [
              "(100, 400, 'Rojo')"
            ]
          },
          "metadata": {},
          "execution_count": 27
        }
      ]
    }
  ]
}