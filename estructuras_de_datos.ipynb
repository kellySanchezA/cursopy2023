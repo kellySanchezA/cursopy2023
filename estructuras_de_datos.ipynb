{
  "nbformat": 4,
  "nbformat_minor": 0,
  "metadata": {
    "colab": {
      "provenance": [],
      "authorship_tag": "ABX9TyMMjGcGV5Z5bnHtpdO89FoX",
      "include_colab_link": true
    },
    "kernelspec": {
      "name": "python3",
      "display_name": "Python 3"
    },
    "language_info": {
      "name": "python"
    }
  },
  "cells": [
    {
      "cell_type": "markdown",
      "metadata": {
        "id": "view-in-github",
        "colab_type": "text"
      },
      "source": [
        "<a href=\"https://colab.research.google.com/github/kellySanchezA/cursopy2023/blob/main/estructuras_de_datos.ipynb\" target=\"_parent\"><img src=\"https://colab.research.google.com/assets/colab-badge.svg\" alt=\"Open In Colab\"/></a>"
      ]
    },
    {
      "cell_type": "code",
      "source": [
        "#Información de empleados de una empresa\n",
        "#Hecho por Jorge Luis Ruiz Molina, Kelly Sanchez Arzate\n",
        "#Listas de departamentos\n",
        "departamentos = [\"Ventas\", \"Marketing\", \"Desarrollo\", \"Recursos Humanos\",\"supervisión\",\"Sistemas\"]\n",
        "\n",
        "#Tuplas con las fechas de contratación (nombre, día, mes, año)\n",
        "fechas_contratacion = [\n",
        "    (\"Kelly\", 3, 5, 2019),\n",
        "    (\"Luis Alfonso\", 5, 8, 2020),\n",
        "    (\"Jorge Luis\", 6, 9, 2018),\n",
        "    (\"Daniela\", 20, 1, 2021),\n",
        "    (\"Sabrina\", 15, 6, 2022),\n",
        "    (\"Gabriel Jesus\", 30, 7, 2024)\n",
        "\n",
        "]\n",
        "\n",
        "#Diccionarios de detalles de empleados\n",
        "detalles_empleados = {\n",
        "    \"Kelly\": {\"edad\": 21, \"salario\": 12000, \"jornada\": \"Completa\"},\n",
        "    \"Luis Alfonso\": {\"edad\": 22, \"salario\": 10000, \"jornada\": \"Media jornada\"},\n",
        "    \"Jorge Luis\": {\"edad\": 21, \"salario\": 11000, \"jornada\": \"Completa\"},\n",
        "    \"Daniela\": {\"edad\": 22, \"salario\": 12000, \"jornada\": \"Completa\"},\n",
        "    \"Sabrina\": {\"edad\": 40, \"salario\": 10000, \"jornada\": \"Completa\"},\n",
        "    \"Gabriel Jesus\": {\"edad\": 24, \"salario\": 12000, \"jornada\": \"Completa\"}\n",
        "}\n",
        "\n",
        "#mostramos información de empleados\n",
        "print(\"Información de empleados en la empresa:\")\n",
        "for i, empleado in enumerate(fechas_contratacion):\n",
        "    nombre, dia, mes, año = empleado\n",
        "    departamento = departamentos[i]\n",
        "    detalles = detalles_empleados[nombre]\n",
        "    print(f\"Nombre: {nombre}, Departamento: {departamento}, Fecha de contratación: {dia}/{mes}/{año}, Edad: {detalles['edad']}, Salario: {detalles['salario']}, Jornada: {detalles['jornada']}\")\n"
      ],
      "metadata": {
        "colab": {
          "base_uri": "https://localhost:8080/"
        },
        "id": "ITSeykDw2C7p",
        "outputId": "191a85f7-ebcf-4d5a-f9fd-7ee33e8d5ffb"
      },
      "execution_count": 10,
      "outputs": [
        {
          "output_type": "stream",
          "name": "stdout",
          "text": [
            "Información de empleados en la empresa:\n",
            "Nombre: Kelly, Departamento: Ventas, Fecha de contratación: 3/5/2019, Edad: 21, Salario: 12000, Jornada: Completa\n",
            "Nombre: Luis Alfonso, Departamento: Marketing, Fecha de contratación: 5/8/2020, Edad: 22, Salario: 10000, Jornada: Media jornada\n",
            "Nombre: Jorge Luis, Departamento: Desarrollo, Fecha de contratación: 6/9/2018, Edad: 21, Salario: 11000, Jornada: Completa\n",
            "Nombre: Daniela, Departamento: Recursos Humanos, Fecha de contratación: 20/1/2021, Edad: 22, Salario: 12000, Jornada: Completa\n",
            "Nombre: Sabrina, Departamento: supervisión, Fecha de contratación: 15/6/2022, Edad: 40, Salario: 10000, Jornada: Completa\n",
            "Nombre: Gabriel Jesus, Departamento: Sistemas, Fecha de contratación: 30/7/2024, Edad: 24, Salario: 12000, Jornada: Completa\n"
          ]
        }
      ]
    }
  ]
}