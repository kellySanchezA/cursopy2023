{
  "nbformat": 4,
  "nbformat_minor": 0,
  "metadata": {
    "colab": {
      "provenance": [],
      "authorship_tag": "ABX9TyOgiM30U0BYVyFYzcekgwe6",
      "include_colab_link": true
    },
    "kernelspec": {
      "name": "python3",
      "display_name": "Python 3"
    },
    "language_info": {
      "name": "python"
    }
  },
  "cells": [
    {
      "cell_type": "markdown",
      "metadata": {
        "id": "view-in-github",
        "colab_type": "text"
      },
      "source": [
        "<a href=\"https://colab.research.google.com/github/kellySanchezA/cursopy2023/blob/main/Untitled1.ipynb\" target=\"_parent\"><img src=\"https://colab.research.google.com/assets/colab-badge.svg\" alt=\"Open In Colab\"/></a>"
      ]
    },
    {
      "cell_type": "markdown",
      "source": [
        "#Establecemos comentarios\n",
        "Autor : Kelly Sánchez arzate\n",
        "\n",
        "Curso : Python de básico a intermedio\n",
        "\n",
        "11/07/2023\n"
      ],
      "metadata": {
        "id": "Zfh2VAhF08lK"
      }
    },
    {
      "cell_type": "markdown",
      "source": [
        "2.1 Tipos de Datos"
      ],
      "metadata": {
        "id": "lJXMsEj41MFZ"
      }
    },
    {
      "cell_type": "code",
      "execution_count": 1,
      "metadata": {
        "colab": {
          "base_uri": "https://localhost:8080/"
        },
        "id": "IlLJBRxk0gV2",
        "outputId": "bef493cb-059b-4037-d0f5-6d43c4f9bcff"
      },
      "outputs": [
        {
          "output_type": "execute_result",
          "data": {
            "text/plain": [
              "int"
            ]
          },
          "metadata": {},
          "execution_count": 1
        }
      ],
      "source": [
        "type (100)"
      ]
    },
    {
      "cell_type": "code",
      "source": [
        "type(-9)"
      ],
      "metadata": {
        "colab": {
          "base_uri": "https://localhost:8080/"
        },
        "id": "8ZP-uwtY1UFw",
        "outputId": "74dd9bb8-394a-40e3-9f37-ae6ed9a3291d"
      },
      "execution_count": 2,
      "outputs": [
        {
          "output_type": "execute_result",
          "data": {
            "text/plain": [
              "int"
            ]
          },
          "metadata": {},
          "execution_count": 2
        }
      ]
    },
    {
      "cell_type": "code",
      "source": [
        "type(100.31256)"
      ],
      "metadata": {
        "colab": {
          "base_uri": "https://localhost:8080/"
        },
        "id": "olmVm5_Y1X-i",
        "outputId": "eb6cdc74-1cd3-4d03-f1a6-100a33cdebae"
      },
      "execution_count": 3,
      "outputs": [
        {
          "output_type": "execute_result",
          "data": {
            "text/plain": [
              "float"
            ]
          },
          "metadata": {},
          "execution_count": 3
        }
      ]
    },
    {
      "cell_type": "code",
      "source": [
        "type(\"A\")"
      ],
      "metadata": {
        "colab": {
          "base_uri": "https://localhost:8080/"
        },
        "id": "5ElIIw621daJ",
        "outputId": "0f568fc0-86eb-43ca-b7b0-85d4e5302e1f"
      },
      "execution_count": 4,
      "outputs": [
        {
          "output_type": "execute_result",
          "data": {
            "text/plain": [
              "str"
            ]
          },
          "metadata": {},
          "execution_count": 4
        }
      ]
    },
    {
      "cell_type": "code",
      "source": [
        "type ('A')"
      ],
      "metadata": {
        "colab": {
          "base_uri": "https://localhost:8080/"
        },
        "id": "nMVPISzA1gHB",
        "outputId": "bef91711-e57d-46c3-bd7c-61d91453eb46"
      },
      "execution_count": 5,
      "outputs": [
        {
          "output_type": "execute_result",
          "data": {
            "text/plain": [
              "str"
            ]
          },
          "metadata": {},
          "execution_count": 5
        }
      ]
    },
    {
      "cell_type": "code",
      "source": [
        "print (\"hello\")"
      ],
      "metadata": {
        "colab": {
          "base_uri": "https://localhost:8080/"
        },
        "id": "DA_vVaKA1lQZ",
        "outputId": "d559392c-5c89-439d-dc55-d9111ca63e92"
      },
      "execution_count": 6,
      "outputs": [
        {
          "output_type": "stream",
          "name": "stdout",
          "text": [
            "hello\n"
          ]
        }
      ]
    },
    {
      "cell_type": "code",
      "source": [
        "print (type(\"hello\"))"
      ],
      "metadata": {
        "colab": {
          "base_uri": "https://localhost:8080/"
        },
        "id": "LCR29eje1oVB",
        "outputId": "de5a7f51-dd3c-4cfd-c7b5-132b3e82a609"
      },
      "execution_count": 7,
      "outputs": [
        {
          "output_type": "stream",
          "name": "stdout",
          "text": [
            "<class 'str'>\n"
          ]
        }
      ]
    },
    {
      "cell_type": "code",
      "source": [
        "type(\"17\")"
      ],
      "metadata": {
        "colab": {
          "base_uri": "https://localhost:8080/"
        },
        "id": "hXKTexDZ1seh",
        "outputId": "09e533e7-96f5-45f1-8014-23385a96f6e1"
      },
      "execution_count": 8,
      "outputs": [
        {
          "output_type": "execute_result",
          "data": {
            "text/plain": [
              "str"
            ]
          },
          "metadata": {},
          "execution_count": 8
        }
      ]
    },
    {
      "cell_type": "code",
      "source": [
        "print (\"\"\"Triple double quote data\"\"\")"
      ],
      "metadata": {
        "colab": {
          "base_uri": "https://localhost:8080/"
        },
        "id": "hIx-XhLu156i",
        "outputId": "6aac2186-281e-4051-d438-e24380c1fe2f"
      },
      "execution_count": 15,
      "outputs": [
        {
          "output_type": "stream",
          "name": "stdout",
          "text": [
            "Triple double quote data\n"
          ]
        }
      ]
    },
    {
      "cell_type": "code",
      "source": [
        "a=\"hello\""
      ],
      "metadata": {
        "id": "1ehoXei12Vnh"
      },
      "execution_count": 11,
      "outputs": []
    },
    {
      "cell_type": "code",
      "source": [
        "a"
      ],
      "metadata": {
        "colab": {
          "base_uri": "https://localhost:8080/",
          "height": 36
        },
        "id": "VIMkozXc2bUD",
        "outputId": "7586c4a7-b0de-4540-a100-760e822cf972"
      },
      "execution_count": 12,
      "outputs": [
        {
          "output_type": "execute_result",
          "data": {
            "text/plain": [
              "'hello'"
            ],
            "application/vnd.google.colaboratory.intrinsic+json": {
              "type": "string"
            }
          },
          "metadata": {},
          "execution_count": 12
        }
      ]
    },
    {
      "cell_type": "markdown",
      "source": [
        "2.2 Conversión de tipos"
      ],
      "metadata": {
        "id": "Ep8qDdfI2mBi"
      }
    },
    {
      "cell_type": "code",
      "source": [
        "data =\"hello \"#no se puede convertir una cadena en flotante o entero"
      ],
      "metadata": {
        "id": "ge-S1Rsc2qxS"
      },
      "execution_count": 16,
      "outputs": []
    },
    {
      "cell_type": "code",
      "source": [
        "type (data)"
      ],
      "metadata": {
        "colab": {
          "base_uri": "https://localhost:8080/"
        },
        "id": "WDb5JUQN21Xj",
        "outputId": "98ac96cb-a304-470a-f2c1-a2f0824ddb3b"
      },
      "execution_count": 17,
      "outputs": [
        {
          "output_type": "execute_result",
          "data": {
            "text/plain": [
              "str"
            ]
          },
          "metadata": {},
          "execution_count": 17
        }
      ]
    },
    {
      "cell_type": "code",
      "source": [
        "data ='100'\n",
        "type(data)"
      ],
      "metadata": {
        "colab": {
          "base_uri": "https://localhost:8080/"
        },
        "id": "4MJZzpkx25LB",
        "outputId": "658b92cf-a005-4e46-a5dc-392045f2fd07"
      },
      "execution_count": 18,
      "outputs": [
        {
          "output_type": "execute_result",
          "data": {
            "text/plain": [
              "str"
            ]
          },
          "metadata": {},
          "execution_count": 18
        }
      ]
    },
    {
      "cell_type": "code",
      "source": [
        "num =int (data )\n",
        "type (num)"
      ],
      "metadata": {
        "colab": {
          "base_uri": "https://localhost:8080/"
        },
        "id": "7RDCfmGl2-7j",
        "outputId": "f8c730aa-267c-4177-e3da-75c8966a2fb8"
      },
      "execution_count": 19,
      "outputs": [
        {
          "output_type": "execute_result",
          "data": {
            "text/plain": [
              "int"
            ]
          },
          "metadata": {},
          "execution_count": 19
        }
      ]
    },
    {
      "cell_type": "code",
      "source": [
        "num"
      ],
      "metadata": {
        "colab": {
          "base_uri": "https://localhost:8080/"
        },
        "id": "WsVTPtd13GUa",
        "outputId": "3562b9bd-6147-43d2-db88-3c2f995511d0"
      },
      "execution_count": 20,
      "outputs": [
        {
          "output_type": "execute_result",
          "data": {
            "text/plain": [
              "100"
            ]
          },
          "metadata": {},
          "execution_count": 20
        }
      ]
    },
    {
      "cell_type": "code",
      "source": [
        "price =float ('500.99')\n",
        "type (price)"
      ],
      "metadata": {
        "colab": {
          "base_uri": "https://localhost:8080/"
        },
        "id": "m_3tyo2v4X0j",
        "outputId": "0d9e6d49-57a2-4ac1-e3be-70656670d426"
      },
      "execution_count": 21,
      "outputs": [
        {
          "output_type": "execute_result",
          "data": {
            "text/plain": [
              "float"
            ]
          },
          "metadata": {},
          "execution_count": 21
        }
      ]
    },
    {
      "cell_type": "code",
      "source": [
        "float ('hi')"
      ],
      "metadata": {
        "colab": {
          "base_uri": "https://localhost:8080/",
          "height": 165
        },
        "id": "pC5Hh4gQ5Ux7",
        "outputId": "75c35583-a9ef-41a1-e01a-86d88ecbe05d"
      },
      "execution_count": 79,
      "outputs": [
        {
          "output_type": "error",
          "ename": "ValueError",
          "evalue": "ignored",
          "traceback": [
            "\u001b[0;31m---------------------------------------------------------------------------\u001b[0m",
            "\u001b[0;31mValueError\u001b[0m                                Traceback (most recent call last)",
            "\u001b[0;32m<ipython-input-79-2b83bed8635e>\u001b[0m in \u001b[0;36m<cell line: 1>\u001b[0;34m()\u001b[0m\n\u001b[0;32m----> 1\u001b[0;31m \u001b[0mfloat\u001b[0m \u001b[0;34m(\u001b[0m\u001b[0;34m'hi'\u001b[0m\u001b[0;34m)\u001b[0m\u001b[0;34m\u001b[0m\u001b[0;34m\u001b[0m\u001b[0m\n\u001b[0m",
            "\u001b[0;31mValueError\u001b[0m: could not convert string to float: 'hi'"
          ]
        }
      ]
    },
    {
      "cell_type": "code",
      "source": [
        "int ('hola')\n",
        "#Error de valor"
      ],
      "metadata": {
        "colab": {
          "base_uri": "https://localhost:8080/",
          "height": 165
        },
        "id": "WU8dm5dn5adq",
        "outputId": "5e362c28-67ad-4074-bfed-d930feb5937f"
      },
      "execution_count": 23,
      "outputs": [
        {
          "output_type": "error",
          "ename": "ValueError",
          "evalue": "ignored",
          "traceback": [
            "\u001b[0;31m---------------------------------------------------------------------------\u001b[0m",
            "\u001b[0;31mValueError\u001b[0m                                Traceback (most recent call last)",
            "\u001b[0;32m<ipython-input-23-1b0b8d01d45a>\u001b[0m in \u001b[0;36m<cell line: 1>\u001b[0;34m()\u001b[0m\n\u001b[0;32m----> 1\u001b[0;31m \u001b[0mint\u001b[0m \u001b[0;34m(\u001b[0m\u001b[0;34m'hola'\u001b[0m\u001b[0;34m)\u001b[0m\u001b[0;34m\u001b[0m\u001b[0;34m\u001b[0m\u001b[0m\n\u001b[0m",
            "\u001b[0;31mValueError\u001b[0m: invalid literal for int() with base 10: 'hola'"
          ]
        }
      ]
    },
    {
      "cell_type": "code",
      "source": [
        "num =99.99\n",
        "striNum =str (num)\n",
        "print(striNum)\n",
        "type (striNum)"
      ],
      "metadata": {
        "colab": {
          "base_uri": "https://localhost:8080/"
        },
        "id": "nyrD9NLK5eJ6",
        "outputId": "1c255846-a553-45e2-9316-3c654c0ba4e5"
      },
      "execution_count": 25,
      "outputs": [
        {
          "output_type": "stream",
          "name": "stdout",
          "text": [
            "99.99\n"
          ]
        },
        {
          "output_type": "execute_result",
          "data": {
            "text/plain": [
              "str"
            ]
          },
          "metadata": {},
          "execution_count": 25
        }
      ]
    },
    {
      "cell_type": "code",
      "source": [
        "type (True)"
      ],
      "metadata": {
        "colab": {
          "base_uri": "https://localhost:8080/"
        },
        "id": "Wsv4CuKl52US",
        "outputId": "e4f73575-4dea-4ce0-983f-dfb33ed3109c"
      },
      "execution_count": 28,
      "outputs": [
        {
          "output_type": "execute_result",
          "data": {
            "text/plain": [
              "bool"
            ]
          },
          "metadata": {},
          "execution_count": 28
        }
      ]
    },
    {
      "cell_type": "code",
      "source": [
        "type(False)"
      ],
      "metadata": {
        "colab": {
          "base_uri": "https://localhost:8080/"
        },
        "id": "V2DdRudA56my",
        "outputId": "a86c9ff1-c4f5-4ca2-8947-488f0f12d18d"
      },
      "execution_count": 29,
      "outputs": [
        {
          "output_type": "execute_result",
          "data": {
            "text/plain": [
              "bool"
            ]
          },
          "metadata": {},
          "execution_count": 29
        }
      ]
    },
    {
      "cell_type": "markdown",
      "source": [
        "#2.3 Declaraciones\n",
        "- Una declaración es una instrucción que el intérprete de python puede ejecutar\n",
        "- Hemos visto setencias de asignación hasta ahora\n",
        "- Luego exploraremos for, if, Imprt, while y otras declaraciones\n"
      ],
      "metadata": {
        "id": "vcv2X6UG5_3q"
      }
    },
    {
      "cell_type": "code",
      "source": [
        "1+2"
      ],
      "metadata": {
        "colab": {
          "base_uri": "https://localhost:8080/"
        },
        "id": "XZp2LbTH59Ky",
        "outputId": "37342b6b-0322-4a5d-fc4f-54bebb8cd81f"
      },
      "execution_count": 26,
      "outputs": [
        {
          "output_type": "execute_result",
          "data": {
            "text/plain": [
              "3"
            ]
          },
          "metadata": {},
          "execution_count": 26
        }
      ]
    },
    {
      "cell_type": "code",
      "source": [
        "len ('hello')"
      ],
      "metadata": {
        "colab": {
          "base_uri": "https://localhost:8080/"
        },
        "id": "2yUlOa206RvC",
        "outputId": "3ceb06c3-519e-49af-afcb-351bb4e45f88"
      },
      "execution_count": 30,
      "outputs": [
        {
          "output_type": "execute_result",
          "data": {
            "text/plain": [
              "5"
            ]
          },
          "metadata": {},
          "execution_count": 30
        }
      ]
    },
    {
      "cell_type": "code",
      "source": [
        "print (2+3*4)"
      ],
      "metadata": {
        "colab": {
          "base_uri": "https://localhost:8080/"
        },
        "id": "RHVwdiWi6W0a",
        "outputId": "018ff140-fe10-4309-d529-24774d70ed54"
      },
      "execution_count": 31,
      "outputs": [
        {
          "output_type": "stream",
          "name": "stdout",
          "text": [
            "14\n"
          ]
        }
      ]
    },
    {
      "cell_type": "code",
      "source": [
        "print ('''\"Oh no\", ella exclama, \"La ventana de Ben esta rota!\"''')"
      ],
      "metadata": {
        "colab": {
          "base_uri": "https://localhost:8080/"
        },
        "id": "wbkkTz2-6aJC",
        "outputId": "3636df99-b409-478d-ebbf-c5888c5f1063"
      },
      "execution_count": 33,
      "outputs": [
        {
          "output_type": "stream",
          "name": "stdout",
          "text": [
            "\"Oh no\", ella exclama, \"La ventana de Ben esta rota!\"\n"
          ]
        }
      ]
    },
    {
      "cell_type": "markdown",
      "source": [
        "#2.4 Secuencia de escape\n",
        "- Algunas letras o secuencias de letras tienen un significado especial para python\n",
        "- Las comillas simples, dobles y triples simples o dobles representan datos de cadena\n",
        "- Utilice la barra invertida \\ para representar estas secuencias de escape, por ejemplo;\n",
        "    - \\n-Nueva Linea\n",
        "    -  \\\\-Barra invertida\n",
        "    -  \\t -Pestaña\n",
        "    -  \\r -Retorno de carro\n",
        "    -  \\'- Una frase\n",
        "    -  \\\" - Comillas dobles  "
      ],
      "metadata": {
        "id": "nb98n19G694W"
      }
    },
    {
      "cell_type": "code",
      "source": [
        "print('What\\'s up \\n Shaq O\\'Neal?')"
      ],
      "metadata": {
        "colab": {
          "base_uri": "https://localhost:8080/"
        },
        "id": "a-WUWAZH69L1",
        "outputId": "aa8bec23-2aa3-4741-8707-0db240ea712b"
      },
      "execution_count": 35,
      "outputs": [
        {
          "output_type": "stream",
          "name": "stdout",
          "text": [
            "What's up \n",
            " Shaq O'Neal?\n"
          ]
        }
      ]
    },
    {
      "cell_type": "code",
      "source": [],
      "metadata": {
        "id": "ZewuLdFcDyZV"
      },
      "execution_count": null,
      "outputs": []
    },
    {
      "cell_type": "code",
      "source": [
        "print ('hello \\t here... \\n how are you?')"
      ],
      "metadata": {
        "colab": {
          "base_uri": "https://localhost:8080/"
        },
        "id": "i4FAfDjp7Rtb",
        "outputId": "67bb75e1-4b01-48e8-d4b0-84ea80f58aaf"
      },
      "execution_count": 36,
      "outputs": [
        {
          "output_type": "stream",
          "name": "stdout",
          "text": [
            "hello \t here... \n",
            " how are you?\n"
          ]
        }
      ]
    },
    {
      "cell_type": "code",
      "source": [
        "print ('hello \\t here... \\n how are you?\\\\\\\\')"
      ],
      "metadata": {
        "colab": {
          "base_uri": "https://localhost:8080/"
        },
        "id": "MEQ4U_n2748r",
        "outputId": "f7b07e55-6dbe-4127-c5db-f41c862a427a"
      },
      "execution_count": 37,
      "outputs": [
        {
          "output_type": "stream",
          "name": "stdout",
          "text": [
            "hello \t here... \n",
            " how are you?\\\\\n"
          ]
        }
      ]
    },
    {
      "cell_type": "code",
      "source": [
        "print (r'hello  here... how are you?\\\\')"
      ],
      "metadata": {
        "colab": {
          "base_uri": "https://localhost:8080/"
        },
        "id": "7v-rJ4988C-F",
        "outputId": "2c256de8-1ea7-45d8-ad94-0d31c858ba55"
      },
      "execution_count": 39,
      "outputs": [
        {
          "output_type": "stream",
          "name": "stdout",
          "text": [
            "hello  here... how are you?\\\\\n"
          ]
        }
      ]
    },
    {
      "cell_type": "markdown",
      "source": [
        "#2.5 Variables\n",
        " - Las variables son identificadores que se utilizan para almacenar valores que luego pueden manipularse\n",
        " - las variables dan nombres a los datos para que los datos puedan ser fácilmente referenciados por sus nombres una y otra vez\n",
        "- reglas y mejores prácticas para crear identificadores y nombres de variables:\n",
        "    - no puede ser una palabra clave - ¿cuáles son las palabras clave integradas?\n",
        "    - puede comenzar solo con letras del alfabeto o guión bajo (_)\n",
        "    - no puede tener símbolos como $, %, &, espacio en blanco, etc.\n",
        "    - no puede comenzar con un dígito, pero los dígitos se pueden usar en cualquier otra parte del nombre\n",
        "    - use nombres camelCase o use _ for_multi_word_names\n",
        "    - use nombres concisos pero significativos y sin ambigüedades para escribir menos y evitar errores tipográficos"
      ],
      "metadata": {
        "id": "tSnHNAM18Nsq"
      }
    },
    {
      "cell_type": "code",
      "source": [
        "help('keywords')"
      ],
      "metadata": {
        "colab": {
          "base_uri": "https://localhost:8080/"
        },
        "id": "W-cN0jm4AKrU",
        "outputId": "488e59f5-e644-49df-a097-400d9e885479"
      },
      "execution_count": 40,
      "outputs": [
        {
          "output_type": "stream",
          "name": "stdout",
          "text": [
            "\n",
            "Here is a list of the Python keywords.  Enter any keyword to get more help.\n",
            "\n",
            "False               class               from                or\n",
            "None                continue            global              pass\n",
            "True                def                 if                  raise\n",
            "and                 del                 import              return\n",
            "as                  elif                in                  try\n",
            "assert              else                is                  while\n",
            "async               except              lambda              with\n",
            "await               finally             nonlocal            yield\n",
            "break               for                 not                 \n",
            "\n"
          ]
        }
      ]
    },
    {
      "cell_type": "code",
      "source": [
        "#Las variables deben estar definidas inicialmente o antes de ser usadas\n",
        "print (x)"
      ],
      "metadata": {
        "colab": {
          "base_uri": "https://localhost:8080/"
        },
        "id": "atGG6r21Ah78",
        "outputId": "a4955b1f-7e22-4b42-9e68-06366a18e648"
      },
      "execution_count": 78,
      "outputs": [
        {
          "output_type": "stream",
          "name": "stdout",
          "text": [
            "4325\n"
          ]
        }
      ]
    },
    {
      "cell_type": "code",
      "source": [
        "x ='algun valor '\n",
        "print (x)"
      ],
      "metadata": {
        "colab": {
          "base_uri": "https://localhost:8080/"
        },
        "id": "8PAxi1awApuU",
        "outputId": "4fd206c3-47e7-42df-be72-745fa2d737f9"
      },
      "execution_count": 42,
      "outputs": [
        {
          "output_type": "stream",
          "name": "stdout",
          "text": [
            "algun valor \n"
          ]
        }
      ]
    },
    {
      "cell_type": "code",
      "source": [
        "var1 =-100\n",
        "num =-99.99\n",
        "name = 'john'\n",
        "Name ='Smith'\n",
        "MI = 'A'\n",
        "GRADE =10.5\n"
      ],
      "metadata": {
        "id": "pusyyjpmAxJV"
      },
      "execution_count": 44,
      "outputs": []
    },
    {
      "cell_type": "code",
      "source": [
        "var ='hello'"
      ],
      "metadata": {
        "id": "Bz-En0x1BU3c"
      },
      "execution_count": 43,
      "outputs": []
    },
    {
      "cell_type": "code",
      "source": [
        "var"
      ],
      "metadata": {
        "colab": {
          "base_uri": "https://localhost:8080/",
          "height": 36
        },
        "id": "M4re5CyiBZMV",
        "outputId": "976c6f22-a322-46e2-b1f0-d7d128070256"
      },
      "execution_count": 45,
      "outputs": [
        {
          "output_type": "execute_result",
          "data": {
            "text/plain": [
              "'hello'"
            ],
            "application/vnd.google.colaboratory.intrinsic+json": {
              "type": "string"
            }
          },
          "metadata": {},
          "execution_count": 45
        }
      ]
    },
    {
      "cell_type": "code",
      "source": [
        "var1"
      ],
      "metadata": {
        "colab": {
          "base_uri": "https://localhost:8080/"
        },
        "id": "ese_fQZSBbcF",
        "outputId": "d9d69b81-2a22-4f4d-872b-d57d8c1a140c"
      },
      "execution_count": 46,
      "outputs": [
        {
          "output_type": "execute_result",
          "data": {
            "text/plain": [
              "-100"
            ]
          },
          "metadata": {},
          "execution_count": 46
        }
      ]
    },
    {
      "cell_type": "markdown",
      "source": [
        "# 2.6 Computación: operadores y operandos\n",
        "- **operadores** son fichas/símbolos especiales que representan cálculos como suma, multiplicación y división\n",
        "- los valores que usa un operador se llaman **operandos**\n",
        "- algunos operadores binarios que toman dos operandos\n",
        "    - suma: 10 + 20\n",
        "    - resta: 20 - 10\n",
        "    - división verdadera: 10 / 3\n",
        "    - multiplicación: 7 * 9\n",
        "    - división entera: 10 // 3\n",
        "    - operador resto o módulo: 10 % 2\n",
        "    - potencia: 2 ** 3"
      ],
      "metadata": {
        "id": "fga3kCY2Bkms"
      }
    },
    {
      "cell_type": "code",
      "source": [
        "print (2*3**2)"
      ],
      "metadata": {
        "colab": {
          "base_uri": "https://localhost:8080/"
        },
        "id": "ASGZRwOUBj0V",
        "outputId": "708eb837-5a2c-427b-e021-13127bdc7139"
      },
      "execution_count": 47,
      "outputs": [
        {
          "output_type": "stream",
          "name": "stdout",
          "text": [
            "18\n"
          ]
        }
      ]
    },
    {
      "cell_type": "code",
      "source": [
        " x = 1\n",
        "y = 2\n",
        "z = 3\n",
        "ans = x+y-z*y**y\n",
        "print(ans)"
      ],
      "metadata": {
        "colab": {
          "base_uri": "https://localhost:8080/"
        },
        "id": "SkWfjR_DBqbm",
        "outputId": "8bf62328-3e29-42a9-d015-31647b76a5c4"
      },
      "execution_count": 48,
      "outputs": [
        {
          "output_type": "stream",
          "name": "stdout",
          "text": [
            "-9\n"
          ]
        }
      ]
    },
    {
      "cell_type": "markdown",
      "source": [
        "# 2.7 Operations on strings\n",
        "\n",
        "+  and  ∗  operators also work on strings\n",
        "\n",
        "Chapter 08 covers more on string data type and operations"
      ],
      "metadata": {
        "id": "fmGZdrKaB-5M"
      }
    },
    {
      "cell_type": "code",
      "source": [
        "fname = \"John\"\n",
        "lname = \"Smith\"\n",
        "fullName = fname + lname\n",
        "print(fullName)"
      ],
      "metadata": {
        "colab": {
          "base_uri": "https://localhost:8080/"
        },
        "id": "fWH3Z_lfCHxF",
        "outputId": "59fdb94b-df67-450c-ccdd-ffe80ad16937"
      },
      "execution_count": 49,
      "outputs": [
        {
          "output_type": "stream",
          "name": "stdout",
          "text": [
            "JohnSmith\n"
          ]
        }
      ]
    },
    {
      "cell_type": "code",
      "source": [
        "gene = \"AGT\"*10\n",
        "print (gene)"
      ],
      "metadata": {
        "colab": {
          "base_uri": "https://localhost:8080/"
        },
        "id": "wHk1atqTCM91",
        "outputId": "c613a9f3-71da-48fa-ee65-849c501a7d5f"
      },
      "execution_count": 51,
      "outputs": [
        {
          "output_type": "stream",
          "name": "stdout",
          "text": [
            "AGTAGTAGTAGTAGTAGTAGTAGTAGTAGT\n"
          ]
        }
      ]
    },
    {
      "cell_type": "code",
      "source": [
        "name = input('What is your name? ')"
      ],
      "metadata": {
        "colab": {
          "base_uri": "https://localhost:8080/"
        },
        "id": "t_k5Dl5UCbQ0",
        "outputId": "64fa2796-8a4e-4a38-bdbf-613c8db14db7"
      },
      "execution_count": 52,
      "outputs": [
        {
          "name": "stdout",
          "output_type": "stream",
          "text": [
            "What is your name? Kelly\n"
          ]
        }
      ]
    },
    {
      "cell_type": "code",
      "source": [
        "print ('hello ', name)"
      ],
      "metadata": {
        "colab": {
          "base_uri": "https://localhost:8080/"
        },
        "id": "g7NxilVmCgQF",
        "outputId": "486243cc-2792-4fad-8fd9-1a774ea3a608"
      },
      "execution_count": 53,
      "outputs": [
        {
          "output_type": "stream",
          "name": "stdout",
          "text": [
            "hello  Kelly\n"
          ]
        }
      ]
    },
    {
      "cell_type": "code",
      "source": [
        "num = input('Introduce un numero =>')\n",
        "print('tu numero es : ', num)\n",
        "print('El tipo del ', num, '=', type(num))"
      ],
      "metadata": {
        "colab": {
          "base_uri": "https://localhost:8080/"
        },
        "id": "EHM3Ks9BCnME",
        "outputId": "598397be-250b-445c-96db-df8dc3869bbd"
      },
      "execution_count": 55,
      "outputs": [
        {
          "output_type": "stream",
          "name": "stdout",
          "text": [
            "Introduce un numero =>452.248\n",
            "tu numero es :  452.248\n",
            "El tipo del  452.248 = <class 'str'>\n"
          ]
        }
      ]
    },
    {
      "cell_type": "code",
      "source": [
        "# str must be casted into int or float depending on the value required\n",
        "num2 = float(num)\n",
        "print('type of', num, '=', type(num2))"
      ],
      "metadata": {
        "colab": {
          "base_uri": "https://localhost:8080/"
        },
        "id": "BS3i_DhXDKcl",
        "outputId": "e2eabd12-d455-4792-f167-cc5dcd18bcab"
      },
      "execution_count": 56,
      "outputs": [
        {
          "output_type": "stream",
          "name": "stdout",
          "text": [
            "type of 452.248 = <class 'float'>\n"
          ]
        }
      ]
    },
    {
      "cell_type": "markdown",
      "source": [
        "# Area y perímetro de un rectángulo\n",
        "\n",
        "Escriba un script de python que calcule el área y el perímetro de un rectángulo"
      ],
      "metadata": {
        "id": "cU8Dm2bkEbx_"
      }
    },
    {
      "cell_type": "code",
      "source": [
        "# Demuestra la composición paso a paso\n",
        "# Pasos del algoritmo\n",
        "# 1. Obtenga la longitud y el ancho de un rectángulo\n",
        "#     a. valores codificados O\n",
        "#     b. solicitar al usuario que introduzca los valores de largo y ancho\n",
        "#        i. convertir la longitud y el ancho en tipos de datos correctos\n",
        "# 2. Encuentra el área = largo x ancho\n",
        "# 3. Encuentra el perímetro = 2 (largo + ancho)\n",
        "# 4. Mostrar resultados calculados"
      ],
      "metadata": {
        "id": "Ix1RHRhpEZ1d"
      },
      "execution_count": null,
      "outputs": []
    },
    {
      "cell_type": "code",
      "source": [
        "x = input('Introduce un número =>')\n",
        "x2 = float(x)"
      ],
      "metadata": {
        "colab": {
          "base_uri": "https://localhost:8080/"
        },
        "id": "clrR21S7EgG9",
        "outputId": "e2b5e131-931d-4ce6-c328-76fdbdd75c43"
      },
      "execution_count": 68,
      "outputs": [
        {
          "name": "stdout",
          "output_type": "stream",
          "text": [
            "Introduce un número =>6.54\n"
          ]
        }
      ]
    },
    {
      "cell_type": "code",
      "source": [
        "y = float(input('Introduce un número =>'))\n",
        "y2 = float(y)"
      ],
      "metadata": {
        "colab": {
          "base_uri": "https://localhost:8080/"
        },
        "id": "xJ1paS07GR5O",
        "outputId": "07249b2c-f7d4-4126-c341-701dae147abb"
      },
      "execution_count": 71,
      "outputs": [
        {
          "name": "stdout",
          "output_type": "stream",
          "text": [
            "Introduce un número =>43.5\n"
          ]
        }
      ]
    },
    {
      "cell_type": "code",
      "source": [
        "Area = x2 * y2\n",
        "\n",
        "print(\"El área es:\",Area)"
      ],
      "metadata": {
        "colab": {
          "base_uri": "https://localhost:8080/"
        },
        "id": "zt-xhr3XGZC-",
        "outputId": "87fb2ca5-d10f-4149-84eb-09b7cf679b39"
      },
      "execution_count": 72,
      "outputs": [
        {
          "output_type": "stream",
          "name": "stdout",
          "text": [
            "El área es: 284.49\n"
          ]
        }
      ]
    },
    {
      "cell_type": "code",
      "source": [
        "Perimetro = (2*x2) + (2*y2)\n",
        "\n",
        "print(\"El perimetro es:\",Perimetro)"
      ],
      "metadata": {
        "colab": {
          "base_uri": "https://localhost:8080/"
        },
        "id": "laE7xrkmGka2",
        "outputId": "2ec86598-c17d-4597-b570-282d6d90bd4e"
      },
      "execution_count": 73,
      "outputs": [
        {
          "output_type": "stream",
          "name": "stdout",
          "text": [
            "El perimetro es: 100.08\n"
          ]
        }
      ]
    },
    {
      "cell_type": "code",
      "source": [
        "Perimetro = 2*(x2 +y2)\n",
        "\n",
        "print(\"El perimetro es:\",Perimetro)"
      ],
      "metadata": {
        "colab": {
          "base_uri": "https://localhost:8080/"
        },
        "id": "bIxcS1pSGnUA",
        "outputId": "38a8a9ba-b82d-47c2-ba73-c0b0bcffc740"
      },
      "execution_count": 74,
      "outputs": [
        {
          "output_type": "stream",
          "name": "stdout",
          "text": [
            "El perimetro es: 100.08\n"
          ]
        }
      ]
    },
    {
      "cell_type": "markdown",
      "source": [
        "# 2. Área y circunferencia de un círculo\n",
        "- escribir un script de python que calcule el área y la circunferencia de un círculo\n",
        "- el área de un círculo se calcula usando la ecuación: $\\pi r^{2}$\n",
        "- el perímetro de un círculo se calcula usando la ecuación: $2 \\pi r$\n",
        "- puedes usar $\\pi=3.14159$"
      ],
      "metadata": {
        "id": "1u5oO9jwEk5d"
      }
    },
    {
      "cell_type": "code",
      "source": [
        "#Demostración paso a paso\n",
        "#Pasos del algoritmo\n",
        "# 1.solicito el radio del ciculo\n",
        "# 2.convertir la variable en float\n",
        "# 3.Declaro la variable Pi\n",
        "# 4.Aplico la formula del area\n",
        "# 5.Aplico la formula del perimetro"
      ],
      "metadata": {
        "id": "ksn6okNtJWZ3"
      },
      "execution_count": null,
      "outputs": []
    },
    {
      "cell_type": "code",
      "source": [
        "x = input('Introduce el radio =>')\n",
        "x2 = float(x)\n",
        "pi =3.1416"
      ],
      "metadata": {
        "colab": {
          "base_uri": "https://localhost:8080/"
        },
        "id": "cEVhJ90iEmzC",
        "outputId": "ee781712-2400-4cd1-eaca-37b85c67d0cf"
      },
      "execution_count": 92,
      "outputs": [
        {
          "name": "stdout",
          "output_type": "stream",
          "text": [
            "Introduce el radio =>34.5\n"
          ]
        }
      ]
    },
    {
      "cell_type": "code",
      "source": [
        "area = (pi*((x2)**(2)))\n",
        "print ('el area del circulo es:',area )"
      ],
      "metadata": {
        "colab": {
          "base_uri": "https://localhost:8080/"
        },
        "id": "9pcUXKVQEy_l",
        "outputId": "dbf0a501-9947-46a1-e746-997580d3680a"
      },
      "execution_count": 93,
      "outputs": [
        {
          "output_type": "stream",
          "name": "stdout",
          "text": [
            "el area del circulo es: 3739.2894\n"
          ]
        }
      ]
    },
    {
      "cell_type": "code",
      "source": [
        "per =((2*pi)*(x2))\n",
        "print ('El perimetro del circulo es:', per)"
      ],
      "metadata": {
        "colab": {
          "base_uri": "https://localhost:8080/"
        },
        "id": "tB3XwHBuFspm",
        "outputId": "0355db26-0525-4a44-bbb6-bcf3bed52987"
      },
      "execution_count": 94,
      "outputs": [
        {
          "output_type": "stream",
          "name": "stdout",
          "text": [
            "El perimetro del circulo es: 216.7704\n"
          ]
        }
      ]
    }
  ]
}