{
  "nbformat": 4,
  "nbformat_minor": 0,
  "metadata": {
    "colab": {
      "provenance": [],
      "authorship_tag": "ABX9TyMFy/AZyWqS63jp/2gvfW1L",
      "include_colab_link": true
    },
    "kernelspec": {
      "name": "python3",
      "display_name": "Python 3"
    },
    "language_info": {
      "name": "python"
    }
  },
  "cells": [
    {
      "cell_type": "markdown",
      "metadata": {
        "id": "view-in-github",
        "colab_type": "text"
      },
      "source": [
        "<a href=\"https://colab.research.google.com/github/kellySanchezA/cursopy2023/blob/main/CursoRedes.ipynb\" target=\"_parent\"><img src=\"https://colab.research.google.com/assets/colab-badge.svg\" alt=\"Open In Colab\"/></a>"
      ]
    },
    {
      "cell_type": "code",
      "execution_count": null,
      "metadata": {
        "id": "lifw3eCQW_hk"
      },
      "outputs": [],
      "source": [
        "#importamos librerias\n",
        "import tensorflow as tf\n",
        "from tensorflow.keras.models import Sequential\n",
        "from tensorflow.keras.layers import Dense\n"
      ]
    },
    {
      "cell_type": "code",
      "source": [
        "datos_entrenamiento = tf.constant([[0,0],[0,1],[1,0],[1,1]],dtype=tf.float32)\n",
        "etiquetas_entrenamiento = tf.constant([[0],[1],[1],[0]],dtype=tf.float32)"
      ],
      "metadata": {
        "id": "9epeCRA1XrnX"
      },
      "execution_count": null,
      "outputs": []
    },
    {
      "cell_type": "code",
      "source": [
        "#crear un modelo secuencial\n",
        "modelo = Sequential()\n",
        "#Añadir una capa con activacion 'relu' (capa oculta)\n",
        "modelo.add(Dense(units=4, input_dim=2, activation='relu'))\n",
        "#Añadir una capa densa con activacion 'sigmoid'(capa de salida)\n",
        "modelo.add(Dense(units=1, activation='sigmoid'))\n",
        "#compilar modelo\n",
        "modelo.compile(optimizer='adam',loss='binary_crossentropy', metrics=['accuracy'])"
      ],
      "metadata": {
        "id": "NsqMsngQY_Tt"
      },
      "execution_count": null,
      "outputs": []
    },
    {
      "cell_type": "code",
      "source": [
        "modelo.summary()"
      ],
      "metadata": {
        "colab": {
          "base_uri": "https://localhost:8080/"
        },
        "id": "bzLl1k9XcbZb",
        "outputId": "159e159a-b656-4837-ca36-6a9c02d00545"
      },
      "execution_count": null,
      "outputs": [
        {
          "output_type": "stream",
          "name": "stdout",
          "text": [
            "Model: \"sequential\"\n",
            "_________________________________________________________________\n",
            " Layer (type)                Output Shape              Param #   \n",
            "=================================================================\n",
            " dense (Dense)               (None, 4)                 12        \n",
            "                                                                 \n",
            " dense_1 (Dense)             (None, 1)                 5         \n",
            "                                                                 \n",
            "=================================================================\n",
            "Total params: 17 (68.00 Byte)\n",
            "Trainable params: 17 (68.00 Byte)\n",
            "Non-trainable params: 0 (0.00 Byte)\n",
            "_________________________________________________________________\n"
          ]
        }
      ]
    },
    {
      "cell_type": "code",
      "source": [
        "#Entrenamos el modelo\n",
        "modelo.fit(datos_entrenamiento, etiquetas_entrenamiento, epochs=1000, verbose=1)"
      ],
      "metadata": {
        "id": "pXCQ55VMc-C4"
      },
      "execution_count": null,
      "outputs": []
    },
    {
      "cell_type": "code",
      "source": [
        "#Evaluacion de modelo con nuevos datos\n",
        "nuevos_datos = tf.constant([[0,0],[0,1],[1,0],[1,1]],dtype=tf.float32)\n",
        "resultados =modelo.predict(nuevos_datos)\n",
        "#Imprimir resultados\n",
        "for i, resultado in enumerate(resultados):\n",
        "  print(f'Entrada :{nuevos_datos[i].numpy()}, Prediccion: {resultado[0]:.4f}')"
      ],
      "metadata": {
        "colab": {
          "base_uri": "https://localhost:8080/"
        },
        "id": "6Ovfq4rMgEiQ",
        "outputId": "8df3b292-2cca-4ea6-83ad-7f208f3b116d"
      },
      "execution_count": null,
      "outputs": [
        {
          "output_type": "stream",
          "name": "stdout",
          "text": [
            "1/1 [==============================] - 0s 36ms/step\n",
            "Entrada :[0. 0.], Prediccion: 0.4011\n",
            "Entrada :[0. 1.], Prediccion: 0.5730\n",
            "Entrada :[1. 0.], Prediccion: 0.6673\n",
            "Entrada :[1. 1.], Prediccion: 0.3532\n"
          ]
        }
      ]
    }
  ]
}