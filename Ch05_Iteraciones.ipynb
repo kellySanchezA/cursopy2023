{
  "cells": [
    {
      "cell_type": "markdown",
      "metadata": {
        "id": "view-in-github",
        "colab_type": "text"
      },
      "source": [
        "<a href=\"https://colab.research.google.com/github/kellySanchezA/cursopy2023/blob/main/Ch05_Iteraciones.ipynb\" target=\"_parent\"><img src=\"https://colab.research.google.com/assets/colab-badge.svg\" alt=\"Open In Colab\"/></a>"
      ]
    },
    {
      "cell_type": "markdown",
      "metadata": {
        "id": "DsDwNO4qv_37"
      },
      "source": [
        "# 5 Iteraciones\n",
        "<a href=\"https://colab.research.google.com/github/rambasnet/FDSPython-Notebooks/blob/master/Ch05-Iterations.ipynb\" target=\"_parent\"><img src=\"https://colab.research.google.com/assets/colab-badge.svg\" alt=\"Open In Colab\"/></a>\n",
        "\n",
        "- http://openbookproject.net/thinkcs/python/english3e/iteration.html\n",
        "\n",
        "## Temas\n",
        "- ¿Qué es iteración/bucle y por qué lo necesitamos?\n",
        "- tipos de bucles y sus sintaxis\n",
        "- varias palabras clave utilizadas con bucles\n",
        "- aplicaciones rápidas\n",
        "\n",
        "## 5.1 Iteraciones / Bucles\n",
        "- las iteraciones también se llaman bucles\n",
        "- la vida está llena de bucles; rutinas diarias como ir a la universidad, cocinar, cortar verduras, etc.\n",
        "- los bucles hacen que la computadora ejecute repetidamente algún bloque de código\n",
        "- trabajar con bucle tiene trabajo de preparación para iniciarlo y alguna condición para finalizarlo\n",
        "- dos tipos de bucles: **for** y **while**\n",
        "     - algunas palabras clave que pueden aparecer en bucles:\n",
        "      **for, while, break, continue, in, for... else, while... else**\n",
        "  \n",
        "### Rebana una zanahoria\n",
        "1. Consigue una tabla de cortar\n",
        "2. Consigue un cuchillo\n",
        "3. Consigue una zanahoria\n",
        "4. Coloque la zanahoria en la tabla de cortar\n",
        "5. Levante el cuchillo\n",
        "6. Corta la zanahoria\n",
        "7. Genera una rodaja de zanahoria\n",
        "8. Si solo ve su dedo, salga\n",
        "9. De lo contrario, vaya al paso 4\n",
        "    \n",
        "    \n",
        "- ¡Los pasos 4-8 forman un bucle!\n",
        "- pasos 1-3 preparación\n",
        "- el paso 8 verifica la condición para finalizar el ciclo\n",
        "- los pasos 4-7 son tareas que necesitan ser iteradas\n"
      ]
    },
    {
      "cell_type": "markdown",
      "metadata": {
        "id": "Cn2_GVWvv_38"
      },
      "source": [
        "## 5.2 for loop\n",
        "- Usa un rango de valores\n",
        "- Sintaxis\n",
        "```python\n",
        "for val in rangeofValues:\n",
        "    # loop body\n",
        "```\n",
        "- Útil cuando sabe exactamente cuántas veces se debe ejecutar el ciclo\n",
        "- Se usa comúnmente con la función de  **range( )**\n",
        "- Normalmente las variables **i**, **j**, etc. se utilizan como contadores de bucle"
      ]
    },
    {
      "cell_type": "code",
      "execution_count": null,
      "metadata": {
        "colab": {
          "base_uri": "https://localhost:8080/"
        },
        "id": "Hwv8KhoGv_39",
        "outputId": "45f5ff5f-0c7a-4999-dfc6-5770cf22d1de"
      },
      "outputs": [
        {
          "output_type": "stream",
          "name": "stdout",
          "text": [
            "Help on class range in module builtins:\n",
            "\n",
            "class range(object)\n",
            " |  range(stop) -> range object\n",
            " |  range(start, stop[, step]) -> range object\n",
            " |  \n",
            " |  Return an object that produces a sequence of integers from start (inclusive)\n",
            " |  to stop (exclusive) by step.  range(i, j) produces i, i+1, i+2, ..., j-1.\n",
            " |  start defaults to 0, and stop is omitted!  range(4) produces 0, 1, 2, 3.\n",
            " |  These are exactly the valid indices for a list of 4 elements.\n",
            " |  When step is given, it specifies the increment (or decrement).\n",
            " |  \n",
            " |  Methods defined here:\n",
            " |  \n",
            " |  __bool__(self, /)\n",
            " |      True if self else False\n",
            " |  \n",
            " |  __contains__(self, key, /)\n",
            " |      Return key in self.\n",
            " |  \n",
            " |  __eq__(self, value, /)\n",
            " |      Return self==value.\n",
            " |  \n",
            " |  __ge__(self, value, /)\n",
            " |      Return self>=value.\n",
            " |  \n",
            " |  __getattribute__(self, name, /)\n",
            " |      Return getattr(self, name).\n",
            " |  \n",
            " |  __getitem__(self, key, /)\n",
            " |      Return self[key].\n",
            " |  \n",
            " |  __gt__(self, value, /)\n",
            " |      Return self>value.\n",
            " |  \n",
            " |  __hash__(self, /)\n",
            " |      Return hash(self).\n",
            " |  \n",
            " |  __iter__(self, /)\n",
            " |      Implement iter(self).\n",
            " |  \n",
            " |  __le__(self, value, /)\n",
            " |      Return self<=value.\n",
            " |  \n",
            " |  __len__(self, /)\n",
            " |      Return len(self).\n",
            " |  \n",
            " |  __lt__(self, value, /)\n",
            " |      Return self<value.\n",
            " |  \n",
            " |  __ne__(self, value, /)\n",
            " |      Return self!=value.\n",
            " |  \n",
            " |  __reduce__(...)\n",
            " |      Helper for pickle.\n",
            " |  \n",
            " |  __repr__(self, /)\n",
            " |      Return repr(self).\n",
            " |  \n",
            " |  __reversed__(...)\n",
            " |      Return a reverse iterator.\n",
            " |  \n",
            " |  count(...)\n",
            " |      rangeobject.count(value) -> integer -- return number of occurrences of value\n",
            " |  \n",
            " |  index(...)\n",
            " |      rangeobject.index(value) -> integer -- return index of value.\n",
            " |      Raise ValueError if the value is not present.\n",
            " |  \n",
            " |  ----------------------------------------------------------------------\n",
            " |  Static methods defined here:\n",
            " |  \n",
            " |  __new__(*args, **kwargs) from builtins.type\n",
            " |      Create and return a new object.  See help(type) for accurate signature.\n",
            " |  \n",
            " |  ----------------------------------------------------------------------\n",
            " |  Data descriptors defined here:\n",
            " |  \n",
            " |  start\n",
            " |  \n",
            " |  step\n",
            " |  \n",
            " |  stop\n",
            "\n"
          ]
        }
      ],
      "source": [
        "# aprendiendo acerca de range()\n",
        "help(range)"
      ]
    },
    {
      "cell_type": "code",
      "execution_count": null,
      "metadata": {
        "colab": {
          "base_uri": "https://localhost:8080/"
        },
        "id": "Ra7ICpAKv_39",
        "outputId": "da54f0e3-49bf-4b3c-952e-5d8a99b69fd9"
      },
      "outputs": [
        {
          "output_type": "execute_result",
          "data": {
            "text/plain": [
              "[0, 1, 2, 3, 4, 5, 6, 7, 8, 9]"
            ]
          },
          "metadata": {},
          "execution_count": 5
        }
      ],
      "source": [
        "# convierte en un rango, una lista de valores\n",
        "# se aprenderá sobre las listas en la clase siguiente\n",
        "list(range(10))"
      ]
    },
    {
      "cell_type": "code",
      "execution_count": null,
      "metadata": {
        "colab": {
          "base_uri": "https://localhost:8080/"
        },
        "id": "kUiIqTfuv_3-",
        "outputId": "e1990099-8361-4591-f195-d1fc6de22f8b"
      },
      "outputs": [
        {
          "output_type": "execute_result",
          "data": {
            "text/plain": [
              "[1, 2, 3, 4, 5, 6, 7, 8, 9, 10]"
            ]
          },
          "metadata": {},
          "execution_count": 6
        }
      ],
      "source": [
        "list(range(1, 11))"
      ]
    },
    {
      "cell_type": "code",
      "execution_count": null,
      "metadata": {
        "colab": {
          "base_uri": "https://localhost:8080/"
        },
        "id": "6GDyDAXYv_3-",
        "outputId": "7db937c6-81b9-4d2d-ea94-8f8264416461"
      },
      "outputs": [
        {
          "output_type": "execute_result",
          "data": {
            "text/plain": [
              "[1, 3, 5, 7, 9]"
            ]
          },
          "metadata": {},
          "execution_count": 7
        }
      ],
      "source": [
        "# Generar el avance de 2 en 2 a partir del elemento 1\n",
        "list(range(1, 11, 2))"
      ]
    },
    {
      "cell_type": "code",
      "execution_count": 1,
      "metadata": {
        "id": "iqdwKYbAv_3-",
        "colab": {
          "base_uri": "https://localhost:8080/"
        },
        "outputId": "f7cb469c-957d-47ab-a8cb-84f1a368edce"
      },
      "outputs": [
        {
          "output_type": "stream",
          "name": "stdout",
          "text": [
            "1 hello world\n",
            "2 hello world\n",
            "3 hello world\n",
            "4 hello world\n",
            "5 hello world\n",
            "6 hello world\n",
            "7 hello world\n",
            "8 hello world\n",
            "9 hello world\n",
            "10 hello world\n"
          ]
        }
      ],
      "source": [
        "# Imprimir hello world n cantidad de veces!\n",
        "for i in range(1, 11):\n",
        "    print(i, 'hello world')"
      ]
    },
    {
      "cell_type": "markdown",
      "metadata": {
        "id": "bpxXuEGzv_3-"
      },
      "source": [
        "### [Visualize with PythonTutor.com](http://pythontutor.com/visualize.html#code=for%20i%20in%20range%281,%205%29%3A%0A%20%20%20%20print%28i,%20'hello%20world'%29&cumulative=false&curInstr=0&heapPrimitives=false&mode=display&origin=opt-frontend.js&py=3&rawInputLstJSON=%5B%5D&textReferences=false)"
      ]
    },
    {
      "cell_type": "code",
      "execution_count": 3,
      "metadata": {
        "colab": {
          "base_uri": "https://localhost:8080/"
        },
        "id": "oF_W3qn0v_3-",
        "outputId": "8c5baa03-c3e8-4643-f9ca-541d9db1df4d"
      },
      "outputs": [
        {
          "output_type": "stream",
          "name": "stdout",
          "text": [
            "1\n",
            "2\n",
            "3\n",
            "4\n",
            "5\n",
            "6\n",
            "done\n"
          ]
        }
      ],
      "source": [
        "for num in range(1,7):\n",
        "    print(num)\n",
        "\n",
        "\n",
        "print('done')"
      ]
    },
    {
      "cell_type": "markdown",
      "metadata": {
        "id": "0rUpAipGv_3-"
      },
      "source": [
        "### continue loop\n",
        "- La instrucción **continue**  salta el resto del ciclo actual cuando se ejecuta continuar"
      ]
    },
    {
      "cell_type": "code",
      "execution_count": null,
      "metadata": {
        "id": "fuYMOld5v_3-",
        "colab": {
          "base_uri": "https://localhost:8080/"
        },
        "outputId": "a91abe29-63f8-40c0-a2d1-bb886b217ab5"
      },
      "outputs": [
        {
          "output_type": "stream",
          "name": "stdout",
          "text": [
            "1\n",
            "3\n",
            "5\n",
            "7\n",
            "9\n"
          ]
        }
      ],
      "source": [
        "# for loop example - continue\n",
        "for i in range(1, 11): # range ... 1...10\n",
        "    if i%2 == 0:\n",
        "        continue\n",
        "    print(i)"
      ]
    },
    {
      "cell_type": "markdown",
      "metadata": {
        "id": "FhAxeAVGv_3_"
      },
      "source": [
        "### [Visualize with PythonTutor.com](http://pythontutor.com/visualize.html#code=%23%20for%20loop%20example%20-%20continue%0Afor%20i%20in%20range%281,%2011%29%3A%20%23%20range%20...%201...10%0A%20%20%20%20if%20i%252%20%3D%3D%200%3A%0A%20%20%20%20%20%20%20%20continue%0A%20%20%20%20print%28i%29&cumulative=false&curInstr=0&heapPrimitives=false&mode=display&origin=opt-frontend.js&py=3&rawInputLstJSON=%5B%5D&textReferences=false)\n",
        "\n",
        "### break loop\n",
        "- La instrucción **break** se usa para romper un bucle.\n",
        "- rompe o sale del bucle inmediatamente\n",
        "- ¡El resto del bucle actual y otros bucles no se ejecutarán!"
      ]
    },
    {
      "cell_type": "code",
      "execution_count": 6,
      "metadata": {
        "colab": {
          "base_uri": "https://localhost:8080/"
        },
        "id": "0I6SGk5Iv_3_",
        "outputId": "ab8f4351-2fa8-4c95-ea12-d3418a6862c2"
      },
      "outputs": [
        {
          "output_type": "stream",
          "name": "stdout",
          "text": [
            "0\n",
            "1\n",
            "2\n",
            "3\n",
            "4\n",
            "5\n",
            "6\n",
            "7\n",
            "8\n",
            "9\n",
            "done\n"
          ]
        }
      ],
      "source": [
        "# Ejemplo de for loop  - break\n",
        "for i in range(15):\n",
        "    if i == 10:\n",
        "        break\n",
        "    print(i)\n",
        "\n",
        "print('done')"
      ]
    },
    {
      "cell_type": "markdown",
      "metadata": {
        "id": "-iiTSjsIv_3_"
      },
      "source": [
        "## 5.4 for ... else\n",
        "- puede escribir una declaración else opcional con bucle for\n",
        "- la cláusula else se ejecuta cuando el ciclo se completa normalmente\n",
        "     - esto significa que el ciclo no encontró ninguna instrucción **break**"
      ]
    },
    {
      "cell_type": "code",
      "execution_count": 11,
      "metadata": {
        "colab": {
          "base_uri": "https://localhost:8080/"
        },
        "id": "CyIGdHkTv_3_",
        "outputId": "77d67658-3ca6-42e3-ab3b-55c51df706a9"
      },
      "outputs": [
        {
          "output_type": "stream",
          "name": "stdout",
          "text": [
            "0\n",
            "1\n",
            "3\n",
            "4\n",
            "end!\n"
          ]
        }
      ],
      "source": [
        "for i in range(5):\n",
        "    if i == 2:\n",
        "        continue\n",
        "    print(i)\n",
        "else:\n",
        "  print('end!')"
      ]
    },
    {
      "cell_type": "code",
      "execution_count": null,
      "metadata": {
        "colab": {
          "base_uri": "https://localhost:8080/"
        },
        "id": "lrFk7kwGv_3_",
        "outputId": "fd4d2b12-928c-403f-ebb6-11afd588a2a1"
      },
      "outputs": [
        {
          "output_type": "stream",
          "name": "stdout",
          "text": [
            "0\n",
            "1\n"
          ]
        }
      ],
      "source": [
        "for i in range(5):\n",
        "    if i == 2:\n",
        "        break\n",
        "    print(i)\n",
        "else:\n",
        "    print('end!')"
      ]
    },
    {
      "cell_type": "code",
      "execution_count": null,
      "metadata": {
        "colab": {
          "base_uri": "https://localhost:8080/"
        },
        "id": "IwVAgWdjv_3_",
        "outputId": "9ca20bbd-48f8-4ded-c372-19b2e9be1883"
      },
      "outputs": [
        {
          "output_type": "stream",
          "name": "stdout",
          "text": [
            "97 is prime\n"
          ]
        }
      ],
      "source": [
        "# Ejemplo de for... else\n",
        "# Escribir un programa para probar si un número dado es primo\n",
        "n = 97\n",
        "#isPrime = True\n",
        "for i in range(2, n//2+1):\n",
        "    if n%i == 0:\n",
        "        #isPrime = False\n",
        "        print(n, ' is not prime')\n",
        "        break\n",
        "else:\n",
        "    print(n, 'is prime')"
      ]
    },
    {
      "cell_type": "markdown",
      "metadata": {
        "id": "tjMYKKJiv_3_"
      },
      "source": [
        "## 5.5 Bucle -->while loop\n",
        "- while loop se usa cuando no está seguro de cuántas veces se debe ejecutar el bucle\n",
        "- puede ejecutar 0 o muchas veces!\n",
        "- for loop y while loop se pueden usar indistintamente\n",
        "- sintaxis:\n",
        "``` python\n",
        "while condition:\n",
        "    # loop body\n",
        "```"
      ]
    },
    {
      "cell_type": "code",
      "execution_count": 12,
      "metadata": {
        "colab": {
          "base_uri": "https://localhost:8080/"
        },
        "id": "gbGTmS3cv_3_",
        "outputId": "c80851a5-b2a1-448d-a9a4-0343c06e9b1a"
      },
      "outputs": [
        {
          "output_type": "stream",
          "name": "stdout",
          "text": [
            "hello\n",
            "hello\n",
            "hello\n",
            "hello\n",
            "hello\n",
            "hello\n",
            "hello\n",
            "hello\n",
            "hello\n",
            "hello\n",
            "hello\n",
            "hello\n",
            "hello\n",
            "hello\n",
            "hello\n",
            "hello\n"
          ]
        }
      ],
      "source": [
        "# infinite loop - will never stop\n",
        "while True:\n",
        "    print('hello')\n",
        "    i+=1\n",
        "    if i ==20:\n",
        "      break"
      ]
    },
    {
      "cell_type": "code",
      "execution_count": null,
      "metadata": {
        "id": "KQlJz_Dwv_4A",
        "colab": {
          "base_uri": "https://localhost:8080/"
        },
        "outputId": "d9db5787-edbf-40ad-be88-1117bf5feffb"
      },
      "outputs": [
        {
          "output_type": "stream",
          "name": "stdout",
          "text": [
            "1 Hello World\n",
            "2 Hello World\n",
            "3 Hello World\n",
            "4 Hello World\n",
            "5 Hello World\n"
          ]
        }
      ],
      "source": [
        "i = 1\n",
        "while i <= 5:\n",
        "    print(i, 'Hello World')\n",
        "    i += 1"
      ]
    },
    {
      "cell_type": "markdown",
      "metadata": {
        "id": "AOmYkcfWv_4A"
      },
      "source": [
        "### [Visualize with PythonTutor.com](http://pythontutor.com/visualize.html#code=i%20%3D%201%0Awhile%20i%20%3C%3D%205%3A%0A%20%20%20%20print%28i,%20'Hello%20World'%29%0A%20%20%20%20i%20%2B%3D%201&cumulative=false&curInstr=0&heapPrimitives=false&mode=display&origin=opt-frontend.js&py=3&rawInputLstJSON=%5B%5D&textReferences=false)"
      ]
    },
    {
      "cell_type": "markdown",
      "metadata": {
        "id": "rw9uci8jv_4A"
      },
      "source": [
        "### 5.6 While loop applications\n",
        "- los bucles tienen muchas aplicaciones en la codificación\n",
        "\n",
        "### validación de entrada\n",
        "- los tipos de datos y los valores deben validarse a menudo para obtener resultados correctos\n",
        "- while loop se puede usar para la validación de entrada"
      ]
    },
    {
      "cell_type": "code",
      "execution_count": null,
      "metadata": {
        "id": "pg0gwY7Cv_4A",
        "colab": {
          "base_uri": "https://localhost:8080/"
        },
        "outputId": "ccdfcf0e-443c-41a2-9512-c1c00f4a42af"
      },
      "outputs": [
        {
          "name": "stdout",
          "output_type": "stream",
          "text": [
            "Introduce tu número: t\n",
            "Número no válido!\n",
            "Introduce tu número: yy\n",
            "Número no válido!\n",
            "Introduce tu número: r\n",
            "Número no válido!\n",
            "Introduce tu número: 3\n"
          ]
        }
      ],
      "source": [
        "# si no estoy seguro de cuándo el usuario lo pueda usar correctamente...\n",
        "# al menos 1 intento; podría ser más!!!\n",
        "while True:\n",
        "    number = input('Introduce tu número: ')\n",
        "    if not number.isdigit():\n",
        "        print('Número no válido!')\n",
        "        continue\n",
        "    number = int(number)\n",
        "    break"
      ]
    },
    {
      "cell_type": "code",
      "execution_count": null,
      "metadata": {
        "id": "rgIMU0nCv_4A",
        "colab": {
          "base_uri": "https://localhost:8080/"
        },
        "outputId": "662bf9e1-efea-4a86-877a-3f5bd1fb0c61"
      },
      "outputs": [
        {
          "output_type": "stream",
          "name": "stdout",
          "text": [
            "You entered 3\n"
          ]
        }
      ],
      "source": [
        "print(f'You entered {number}')"
      ]
    },
    {
      "cell_type": "markdown",
      "metadata": {
        "id": "6oYlCqCBv_4A"
      },
      "source": [
        "### countdown\n",
        "- ejecutar la cuenta regresiva como un script\n",
        "- time.sleep(secs)\n",
        "- os.system('clear'); os.name ==  'posix', 'nt', 'mac', 'os2', 'ce', 'java', 'riscos'"
      ]
    },
    {
      "cell_type": "code",
      "execution_count": null,
      "metadata": {
        "id": "pw4SAzBKv_4A",
        "colab": {
          "base_uri": "https://localhost:8080/"
        },
        "outputId": "0d59bcc2-903f-4241-dd9d-6ebfd76eebf2"
      },
      "outputs": [
        {
          "output_type": "stream",
          "name": "stdout",
          "text": [
            "10\n",
            "9\n",
            "8\n",
            "7\n",
            "6\n",
            "5\n",
            "4\n",
            "3\n",
            "2\n",
            "1\n",
            "Feliz año nuevo!\n"
          ]
        }
      ],
      "source": [
        "# while loop - countdown\n",
        "import time\n",
        "import os\n",
        "\n",
        "def clearScreen():\n",
        "    if os.name == 'nt':\n",
        "        os.system('cls')\n",
        "    else:\n",
        "        os.system('clear')\n",
        "\n",
        "i = 10\n",
        "while i >= 1:\n",
        "    print(i)\n",
        "    time.sleep(1) # sleep por 1 segundo\n",
        "    clearScreen()\n",
        "    i -= 1\n",
        "\n",
        "#time.sleep(1)# tambien pausa y dice el print\n",
        "print('Feliz año nuevo!')"
      ]
    },
    {
      "cell_type": "markdown",
      "metadata": {
        "id": "66gLyyn0v_4A"
      },
      "source": [
        "## 5.7 while... else\n",
        "- La cláusula opcional **else** se ejecuta cuando el bucle se ejecuta normalmente.\n",
        "     - esto significa que el ciclo no encontró ninguna instrucción **break**"
      ]
    },
    {
      "cell_type": "code",
      "execution_count": null,
      "metadata": {
        "id": "1M0QW8sQv_4A",
        "colab": {
          "base_uri": "https://localhost:8080/"
        },
        "outputId": "860fe993-df73-440e-fc77-fb7393602b33"
      },
      "outputs": [
        {
          "output_type": "stream",
          "name": "stdout",
          "text": [
            "Hello\n"
          ]
        }
      ],
      "source": [
        "while True:\n",
        "    print('Hello')\n",
        "    break\n",
        "else:\n",
        "    print(\"Look didn't encounter break\")"
      ]
    },
    {
      "cell_type": "code",
      "execution_count": null,
      "metadata": {
        "id": "ZswshKQ8v_4A",
        "colab": {
          "base_uri": "https://localhost:8080/"
        },
        "outputId": "0f9599c3-d0f7-4590-93fc-4d161b1274e0"
      },
      "outputs": [
        {
          "output_type": "stream",
          "name": "stdout",
          "text": [
            "1\n",
            "2\n",
            "3\n",
            "4\n",
            "Look didn't encounter break\n"
          ]
        }
      ],
      "source": [
        "count = 1\n",
        "while count < 5:\n",
        "    print(count)\n",
        "    count += 1\n",
        "else:\n",
        "    print(\"Look didn't encounter break\")"
      ]
    },
    {
      "cell_type": "markdown",
      "metadata": {
        "id": "pQmWIfc2v_4A"
      },
      "source": [
        "## 5.8 Ejercicios\n"
      ]
    },
    {
      "cell_type": "markdown",
      "source": [
        "Ejemplo 1. Imprime cada fruta en una lista de frutas:"
      ],
      "metadata": {
        "id": "NgIOc2nOLWPX"
      }
    },
    {
      "cell_type": "code",
      "source": [
        "fruits = [\"manzana\", \"platano\", \"cereza\"]\n"
      ],
      "metadata": {
        "colab": {
          "base_uri": "https://localhost:8080/"
        },
        "id": "VR5EiTBVLVwv",
        "outputId": "340da41a-ab9a-4ccb-c491-92b16c1dc720"
      },
      "execution_count": null,
      "outputs": [
        {
          "output_type": "stream",
          "name": "stdout",
          "text": [
            "Fruta 1: manzana\n",
            "Fruta 2: platano\n",
            "Fruta 3: cereza\n"
          ]
        }
      ]
    },
    {
      "cell_type": "code",
      "source": [
        "fruits =[\"manzana\", \"platano\", \"cereza\"]\n",
        "contador =0\n",
        "for i in fruits:\n",
        "  contador = contador+1\n",
        "  print (\"Fruta\", contador, \"\", i)\n",
        "  #print(f(\"Fruta \"))"
      ],
      "metadata": {
        "id": "p7OFd-y7MXL5",
        "colab": {
          "base_uri": "https://localhost:8080/"
        },
        "outputId": "1c3fcc2f-7778-4b86-c33d-f337f42d0ed9"
      },
      "execution_count": 17,
      "outputs": [
        {
          "output_type": "stream",
          "name": "stdout",
          "text": [
            "Fruta 1  manzana\n",
            "Fruta 2  platano\n",
            "Fruta 3  cereza\n"
          ]
        }
      ]
    },
    {
      "cell_type": "code",
      "source": [],
      "metadata": {
        "id": "8P6c2YJUfvvk"
      },
      "execution_count": null,
      "outputs": []
    },
    {
      "cell_type": "markdown",
      "source": [
        "Ejercicio: Ajustar el código para que pinte"
      ],
      "metadata": {
        "id": "lqmUY_zuMc-b"
      }
    },
    {
      "cell_type": "code",
      "source": [
        "adj = [\"roja\", \"grande\", \"dulce\"]\n",
        "fruits = [\"manzana\", \"platano\", \"cereza\"]\n",
        "cont =0\n",
        "for i in adj:\n",
        "  cont= cont +1\n",
        "  for j in fruits:\n",
        "    cont  =cont+1\n",
        "    print (i, j)"
      ],
      "metadata": {
        "colab": {
          "base_uri": "https://localhost:8080/"
        },
        "id": "AGmvEWCVMRZY",
        "outputId": "198f105b-8bf2-4048-a24a-7ddf8ff4ed55"
      },
      "execution_count": 27,
      "outputs": [
        {
          "output_type": "stream",
          "name": "stdout",
          "text": [
            "roja manzana\n",
            "roja platano\n",
            "roja cereza\n",
            "grande manzana\n",
            "grande platano\n",
            "grande cereza\n",
            "dulce manzana\n",
            "dulce platano\n",
            "dulce cereza\n"
          ]
        }
      ]
    },
    {
      "cell_type": "code",
      "source": [
        "adj = [\"roja\", \"grande\", \"dulce\"]\n",
        "fruits = [\"manzana\", \"platano\", \"cereza\"]\n",
        "cont =0\n",
        "cont2 =0\n",
        "for i in adj:\n",
        "  cont= cont +1\n",
        "  for j in fruits:\n",
        "    cont2 =cont2+1\n",
        "    if cont2 > 3:\n",
        "      cont2=1\n",
        "    print (\"Fruta\",(cont, cont2),i, j)"
      ],
      "metadata": {
        "colab": {
          "base_uri": "https://localhost:8080/"
        },
        "id": "JkziziTcL0e7",
        "outputId": "1c3f31a9-c7ad-4018-a948-bce26f4f76aa"
      },
      "execution_count": 36,
      "outputs": [
        {
          "output_type": "stream",
          "name": "stdout",
          "text": [
            "Fruta (1, 1) roja manzana\n",
            "Fruta (1, 2) roja platano\n",
            "Fruta (1, 3) roja cereza\n",
            "Fruta (2, 1) grande manzana\n",
            "Fruta (2, 2) grande platano\n",
            "Fruta (2, 3) grande cereza\n",
            "Fruta (3, 1) dulce manzana\n",
            "Fruta (3, 2) dulce platano\n",
            "Fruta (3, 3) dulce cereza\n"
          ]
        }
      ]
    },
    {
      "cell_type": "markdown",
      "source": [
        "Ejercicio A.Escribir un programa que pregunte al usuario su edad y muestre por pantalla todos los años que ha cumplido (desde 1 hasta su edad).\n",
        "\n",
        "¿Cuántos años tienes?  5\n",
        "\n",
        "Has cumplido 1 años\n",
        "\n",
        "Has cumplido 2 años\n",
        "\n",
        "Has cumplido 3 años\n",
        "\n",
        "Has cumplido 4 años\n",
        "\n",
        "Has cumplido 5 años\n"
      ],
      "metadata": {
        "id": "qDN7-8ztSE41"
      }
    },
    {
      "cell_type": "code",
      "source": [
        "edad = int(input(\"¿Cuántos años tienes? \"))\n",
        "\n",
        "for i in range(1, edad+1):\n",
        "  print(\"Ha cumplido\", i ,\"años\")"
      ],
      "metadata": {
        "id": "39l6sSMUST36",
        "colab": {
          "base_uri": "https://localhost:8080/"
        },
        "outputId": "22bbcb0d-473a-415b-c54c-5a1fb055c056"
      },
      "execution_count": 38,
      "outputs": [
        {
          "output_type": "stream",
          "name": "stdout",
          "text": [
            "¿Cuántos años tienes? 3\n",
            "Ha cumplido 1 años\n",
            "Ha cumplido 2 años\n",
            "Ha cumplido 3 años\n"
          ]
        }
      ]
    },
    {
      "cell_type": "code",
      "source": [],
      "metadata": {
        "colab": {
          "base_uri": "https://localhost:8080/"
        },
        "id": "kuA5ixYNIKqp",
        "outputId": "724a7d8a-2ffa-443c-cf0c-81d10a5d97b0"
      },
      "execution_count": null,
      "outputs": [
        {
          "output_type": "stream",
          "name": "stdout",
          "text": [
            "Ingrese su edad: 5\n",
            "Ha cumplido 1 años\n",
            "Ha cumplido 2 años\n",
            "Ha cumplido 3 años\n",
            "Ha cumplido 4 años\n",
            "Ha cumplido 5 años\n"
          ]
        }
      ]
    },
    {
      "cell_type": "markdown",
      "source": [
        "Ejercicio A2. Realiza un programa que solicita al usuario ingresar números hasta que ingrese 0, luego muestra la suma de los números ingresados.\n"
      ],
      "metadata": {
        "id": "IK28e2x_Iid9"
      }
    },
    {
      "cell_type": "code",
      "source": [
        "suma = 0\n",
        "numero1 = None\n",
        "numero2 = None\n",
        "\n",
        "while numero1!=0 :\n",
        "  numero1 =int(input(\"Ingrese el primer número: \"))\n",
        "  numero2 =int(input(\"Ingrese el primer número: \"))\n",
        "  suma = numero1 + numero2\n",
        "  print(\"La suma es: \",suma)"
      ],
      "metadata": {
        "colab": {
          "base_uri": "https://localhost:8080/"
        },
        "id": "yZc7rxJmIhzd",
        "outputId": "10380cd7-766c-4f7f-eafe-70b940f15bc3"
      },
      "execution_count": 44,
      "outputs": [
        {
          "output_type": "stream",
          "name": "stdout",
          "text": [
            "Ingrese el primer número: 6\n",
            "Ingrese el primer número: 5\n",
            "La suma es:  11\n",
            "Ingrese el primer número: 5\n",
            "Ingrese el primer número: 10\n",
            "La suma es:  15\n",
            "Ingrese el primer número: 0\n",
            "Ingrese el primer número: 0\n",
            "La suma es:  0\n"
          ]
        }
      ]
    },
    {
      "cell_type": "markdown",
      "source": [
        "\n",
        "Ejercicio B.\n",
        "Árbol de navidad en Python. Imprime un árbol de navidad formado con * haciendo uso del while y de la multiplicación de un entero por una cadena, cuyo resultado en Python es replicar la cadena."
      ],
      "metadata": {
        "id": "NcVixJ3WSISO"
      }
    },
    {
      "cell_type": "code",
      "source": [
        "z = 7\n",
        "x = 1\n",
        "while x <= z:\n",
        "    esp = z - x\n",
        "    aste = x * 2 - 1\n",
        "    print(\" \" * esp + \"*\" * aste)\n",
        "    x += 1\n",
        ""
      ],
      "metadata": {
        "id": "UjZc9-MCT_jd",
        "colab": {
          "base_uri": "https://localhost:8080/"
        },
        "outputId": "87c679ec-0222-49a3-88e3-338644a17f90"
      },
      "execution_count": 48,
      "outputs": [
        {
          "output_type": "stream",
          "name": "stdout",
          "text": [
            "      *\n",
            "     ***\n",
            "    *****\n",
            "   *******\n",
            "  *********\n",
            " ***********\n",
            "*************\n"
          ]
        }
      ]
    },
    {
      "cell_type": "code",
      "execution_count": null,
      "metadata": {
        "id": "EC_TmbZnv_4A"
      },
      "outputs": [],
      "source": [
        "\n",
        "#      *\n",
        "#     ***\n",
        "#    *****\n",
        "#   *******\n",
        "#  *********\n",
        "# ***********"
      ]
    },
    {
      "cell_type": "code",
      "source": [],
      "metadata": {
        "colab": {
          "base_uri": "https://localhost:8080/"
        },
        "id": "PFZaEWbrTK0c",
        "outputId": "d1bc5ff2-b9f0-467a-a4ee-5472b02ac94a"
      },
      "execution_count": null,
      "outputs": [
        {
          "output_type": "stream",
          "name": "stdout",
          "text": [
            "       *       \n",
            "      ***      \n",
            "     *****     \n",
            "    *******    \n",
            "   *********   \n",
            "  ***********  \n",
            " ************* \n"
          ]
        }
      ]
    },
    {
      "cell_type": "markdown",
      "metadata": {
        "id": "ls4hM0SQv_4B"
      },
      "source": [
        "Ejercicio 2. Escribir un programa para contar el número de dígitos 0 o 5 en un entero positivo."
      ]
    },
    {
      "cell_type": "code",
      "execution_count": null,
      "metadata": {
        "id": "7XLkGJkQv_4B",
        "colab": {
          "base_uri": "https://localhost:8080/"
        },
        "outputId": "000b8071-bdec-45dc-c175-cbdf4f6ff57d"
      },
      "outputs": [
        {
          "output_type": "stream",
          "name": "stdout",
          "text": [
            "There are 1 zero(s) and 3 five(s) digits in 12345505.\n"
          ]
        }
      ],
      "source": [
        "# solución 1\n",
        "# convertir un entero positivo en una cadena y analizar un carácter a la vez\n",
        "n = 12345505\n",
        "n = str(n)\n",
        "count0 = 0\n",
        "count5 = 0\n",
        "for c in n:\n",
        "    if c == '0':\n",
        "        count0 += 1\n",
        "    elif c == '5':\n",
        "        count5 += 1\n",
        "print('There are {} zero(s) and {} five(s) digits in {}.'.format(count0, count5, n))"
      ]
    },
    {
      "cell_type": "code",
      "execution_count": null,
      "metadata": {
        "id": "M8HQ36OOv_4B",
        "colab": {
          "base_uri": "https://localhost:8080/"
        },
        "outputId": "8081da2e-9563-465e-b9d3-b7593fdc7c9f"
      },
      "outputs": [
        {
          "output_type": "stream",
          "name": "stdout",
          "text": [
            "Hay 1 cero(s) y 3  digitos en 12345505.\n"
          ]
        }
      ],
      "source": [
        "# solución 2\n",
        "# repite dividir el entero positivo por 10 contando el valor del resto hasta que el número sea mayor que 0\n",
        "n = 12345505\n",
        "savedN = n\n",
        "count0 = 0\n",
        "count5 = 0\n",
        "while n > 0:\n",
        "    n, rem = divmod(n, 10)\n",
        "    if rem == 0:\n",
        "        count0 += 1\n",
        "    elif rem == 5:\n",
        "        count5 += 1\n",
        "\n",
        "print('Hay {} cero(s) y {}  digitos en {}.'.format(count0, count5, savedN))"
      ]
    },
    {
      "cell_type": "markdown",
      "metadata": {
        "id": "g9qjigL1v_4B"
      },
      "source": [
        "Ejercicio 2.1. Convierta el ejercicio 2 en una función y escriba al menos 2 casos de prueba"
      ]
    },
    {
      "cell_type": "markdown",
      "metadata": {
        "id": "L1dEygl6v_4B"
      },
      "source": [
        "Ejercicio 3. Programa FizzBuzz - Escribe un programa que imprima números entre 1 y 100 con los siguientes requisitos.\n",
        "\n",
        "- Si el número es divisible por 3, imprime 'Fizz'.\n",
        "\n",
        "- Si el número es divisible por 5, imprime 'Buzz'.\n",
        "- Si el número es divisible por 3 y 5, imprime 'FizzBuzz'."
      ]
    },
    {
      "cell_type": "markdown",
      "metadata": {
        "id": "E1FaOkGbv_4B"
      },
      "source": [
        "Ejercicio 3.1. Convierta el ejercicio 3 en una función y escriba al menos 2 tres casos de prueba"
      ]
    },
    {
      "cell_type": "markdown",
      "metadata": {
        "id": "4jpOb3bZv_4B"
      },
      "source": [
        "Ejercicio 4. ¿Cuáles son los resultados de los siguientes fragmentos de código?"
      ]
    },
    {
      "cell_type": "code",
      "execution_count": null,
      "metadata": {
        "id": "MAPfSruSv_4B",
        "colab": {
          "base_uri": "https://localhost:8080/"
        },
        "outputId": "558d4b5e-9eca-4e96-f2ad-57fde7c739fa"
      },
      "outputs": [
        {
          "output_type": "stream",
          "name": "stdout",
          "text": [
            "Done\n"
          ]
        }
      ],
      "source": [
        "a = 11\n",
        "while a < 10:\n",
        "    print(a)\n",
        "    a += 1\n",
        "    #break\n",
        "else:\n",
        "    print('Done')"
      ]
    },
    {
      "cell_type": "code",
      "execution_count": null,
      "metadata": {
        "id": "k0dbEI64v_4C",
        "colab": {
          "base_uri": "https://localhost:8080/"
        },
        "outputId": "d708d655-5cd3-4a6a-d758-3ee7c65bdf59"
      },
      "outputs": [
        {
          "output_type": "stream",
          "name": "stdout",
          "text": [
            "1\n",
            "2\n",
            "3\n",
            "4\n"
          ]
        }
      ],
      "source": [
        "for i in range(1, 10):\n",
        "    if i == 5:\n",
        "        break\n",
        "    print(i)\n",
        "else:\n",
        "    print('done')"
      ]
    },
    {
      "cell_type": "code",
      "execution_count": null,
      "metadata": {
        "id": "FjxQL2z1v_4C",
        "colab": {
          "base_uri": "https://localhost:8080/"
        },
        "outputId": "3b8ffbbe-1af2-4ac7-fdee-46eb5503f0f0"
      },
      "outputs": [
        {
          "output_type": "stream",
          "name": "stdout",
          "text": [
            "h e l l o "
          ]
        }
      ],
      "source": [
        "for c in 'hello':\n",
        "    print(c, end=' ')"
      ]
    },
    {
      "cell_type": "markdown",
      "metadata": {
        "id": "61e_gnWiv_4C"
      },
      "source": [
        "# En general...\n",
        "- ¡casi todos los problemas involucran algún tipo de bucle!"
      ]
    }
  ],
  "metadata": {
    "kernelspec": {
      "display_name": "Python 3",
      "language": "python",
      "name": "python3"
    },
    "language_info": {
      "codemirror_mode": {
        "name": "ipython",
        "version": 3
      },
      "file_extension": ".py",
      "mimetype": "text/x-python",
      "name": "python",
      "nbconvert_exporter": "python",
      "pygments_lexer": "ipython3",
      "version": "3.7.3"
    },
    "colab": {
      "provenance": [],
      "include_colab_link": true
    }
  },
  "nbformat": 4,
  "nbformat_minor": 0
}