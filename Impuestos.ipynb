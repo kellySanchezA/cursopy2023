{
  "nbformat": 4,
  "nbformat_minor": 0,
  "metadata": {
    "colab": {
      "provenance": [],
      "authorship_tag": "ABX9TyOt8Leq5xjgLTviKkPICR11",
      "include_colab_link": true
    },
    "kernelspec": {
      "name": "python3",
      "display_name": "Python 3"
    },
    "language_info": {
      "name": "python"
    }
  },
  "cells": [
    {
      "cell_type": "markdown",
      "metadata": {
        "id": "view-in-github",
        "colab_type": "text"
      },
      "source": [
        "<a href=\"https://colab.research.google.com/github/kellySanchezA/cursopy2023/blob/main/Impuestos.ipynb\" target=\"_parent\"><img src=\"https://colab.research.google.com/assets/colab-badge.svg\" alt=\"Open In Colab\"/></a>"
      ]
    },
    {
      "cell_type": "code",
      "execution_count": 1,
      "metadata": {
        "colab": {
          "base_uri": "https://localhost:8080/"
        },
        "id": "RGsflqDTKIKs",
        "outputId": "f4063c10-53f2-4789-da03-cdaabcd02804"
      },
      "outputs": [
        {
          "output_type": "stream",
          "name": "stdout",
          "text": [
            "Agrega tus ingresos:900\n",
            "Su ingreso es: 900.0\n",
            "Los impuestos que vas a pagar son : 45.0\n"
          ]
        }
      ],
      "source": [
        "ingresos= float (input (\"Agrega tus ingresos:\"))\n",
        "tasa = 0.05\n",
        "resultado = ingresos * tasa\n",
        "if ingresos < 1000:\n",
        "  print(\"Su ingreso es:\", ingresos)\n",
        "elif ingresos > 1000 and ingresos <= 2000:\n",
        "  print(\"Su ingreso es:\", ingresos)\n",
        "elif ingresos > 2000 and ingresos <= 3000:\n",
        "  print(\"Su ingreso es:\", ingresos)\n",
        "elif ingresos >3000:\n",
        "  print(\"Su ingreso es:\", ingresos)\n",
        "else:\n",
        "  pass\n",
        "print(\"Los impuestos que vas a pagar son :\",resultado)"
      ]
    }
  ]
}