{
  "nbformat": 4,
  "nbformat_minor": 0,
  "metadata": {
    "colab": {
      "provenance": [],
      "authorship_tag": "ABX9TyN7NmErxyI4ZwtdT8BlnVBA",
      "include_colab_link": true
    },
    "kernelspec": {
      "name": "python3",
      "display_name": "Python 3"
    },
    "language_info": {
      "name": "python"
    }
  },
  "cells": [
    {
      "cell_type": "markdown",
      "metadata": {
        "id": "view-in-github",
        "colab_type": "text"
      },
      "source": [
        "<a href=\"https://colab.research.google.com/github/kellySanchezA/cursopy2023/blob/main/ListA.ipynb\" target=\"_parent\"><img src=\"https://colab.research.google.com/assets/colab-badge.svg\" alt=\"Open In Colab\"/></a>"
      ]
    },
    {
      "cell_type": "code",
      "execution_count": 1,
      "metadata": {
        "id": "RqQ4pRKIvIn5"
      },
      "outputs": [],
      "source": [
        "mi_lista=[\"Apple\", \"apple\", \"ball\", \"Ball\", \"cat\"]\n",
        "#mi_lista"
      ]
    },
    {
      "cell_type": "code",
      "source": [
        "sorted( mi_lista )"
      ],
      "metadata": {
        "colab": {
          "base_uri": "https://localhost:8080/"
        },
        "id": "9T60dtEXvMbO",
        "outputId": "3f80e416-7653-4190-8ba0-6e67e6e2f58e"
      },
      "execution_count": 2,
      "outputs": [
        {
          "output_type": "execute_result",
          "data": {
            "text/plain": [
              "['Apple', 'Ball', 'apple', 'ball', 'cat']"
            ]
          },
          "metadata": {},
          "execution_count": 2
        }
      ]
    },
    {
      "cell_type": "code",
      "source": [
        "sorted (mi_lista, key =lambda x: x.lower())"
      ],
      "metadata": {
        "colab": {
          "base_uri": "https://localhost:8080/"
        },
        "id": "SIQd4021vPq1",
        "outputId": "b01078ce-1d19-4497-9370-eb2ed63298bf"
      },
      "execution_count": 3,
      "outputs": [
        {
          "output_type": "execute_result",
          "data": {
            "text/plain": [
              "['Apple', 'apple', 'ball', 'Ball', 'cat']"
            ]
          },
          "metadata": {},
          "execution_count": 3
        }
      ]
    },
    {
      "cell_type": "code",
      "source": [
        "numeros_listas = [2,18,9,22,17,24,8,12,27]"
      ],
      "metadata": {
        "id": "rsOcw9LOvStG"
      },
      "execution_count": 4,
      "outputs": []
    },
    {
      "cell_type": "markdown",
      "source": [
        "#Filter"
      ],
      "metadata": {
        "id": "OLCsaXLdwILO"
      }
    },
    {
      "cell_type": "code",
      "source": [
        "list(filter(lambda numeros : numeros % 3==0, numeros_listas))"
      ],
      "metadata": {
        "colab": {
          "base_uri": "https://localhost:8080/"
        },
        "id": "FrH7I5WnvTzW",
        "outputId": "c4757ffd-9906-497b-f4a2-5ab55ba103c3"
      },
      "execution_count": 5,
      "outputs": [
        {
          "output_type": "execute_result",
          "data": {
            "text/plain": [
              "[18, 9, 24, 12, 27]"
            ]
          },
          "metadata": {},
          "execution_count": 5
        }
      ]
    },
    {
      "cell_type": "markdown",
      "source": [
        "#map"
      ],
      "metadata": {
        "id": "239unyj_wMA5"
      }
    },
    {
      "cell_type": "code",
      "source": [
        "numeros_list =list (range (1,11))\n",
        "numeros_list"
      ],
      "metadata": {
        "colab": {
          "base_uri": "https://localhost:8080/"
        },
        "id": "NXhJRm46wCvf",
        "outputId": "a2662394-c452-4599-8b80-32ef5046f5b3"
      },
      "execution_count": 6,
      "outputs": [
        {
          "output_type": "execute_result",
          "data": {
            "text/plain": [
              "[1, 2, 3, 4, 5, 6, 7, 8, 9, 10]"
            ]
          },
          "metadata": {},
          "execution_count": 6
        }
      ]
    },
    {
      "cell_type": "code",
      "source": [
        "list(map (lambda numero:numero **2, numeros_list))"
      ],
      "metadata": {
        "colab": {
          "base_uri": "https://localhost:8080/"
        },
        "id": "50CSAFoQwdSN",
        "outputId": "2c5df435-f62f-4eb2-efe7-da90be524a1c"
      },
      "execution_count": 8,
      "outputs": [
        {
          "output_type": "execute_result",
          "data": {
            "text/plain": [
              "[1, 4, 9, 16, 25, 36, 49, 64, 81, 100]"
            ]
          },
          "metadata": {},
          "execution_count": 8
        }
      ]
    },
    {
      "cell_type": "code",
      "source": [
        "texto =\"Volver al futuro\"\n",
        "#p =palabra\n",
        "list(map(lambda p: (p.upper (), p.lower(),len (p)), texto.split()))"
      ],
      "metadata": {
        "colab": {
          "base_uri": "https://localhost:8080/"
        },
        "id": "VFZcEvGvxELH",
        "outputId": "24764357-9e5a-4904-c931-149c781d9a79"
      },
      "execution_count": 9,
      "outputs": [
        {
          "output_type": "execute_result",
          "data": {
            "text/plain": [
              "[('VOLVER', 'volver', 6), ('AL', 'al', 2), ('FUTURO', 'futuro', 6)]"
            ]
          },
          "metadata": {},
          "execution_count": 9
        }
      ]
    },
    {
      "cell_type": "markdown",
      "source": [
        "#reduce\n",
        "- Hay que importar del módulo functools\n",
        "- Reducir una lista de valores a un solo valor"
      ],
      "metadata": {
        "id": "89KrBgO9yoZl"
      }
    },
    {
      "cell_type": "code",
      "source": [
        "from functools import reduce\n",
        "def sum (a,b):\n",
        "  print (f\"a={a}, b={b}, {a} + {b} ={a+b}\")\n",
        "  return a + b\n",
        "scores = [75,65,80,95,50]\n",
        "total =reduce (sum, scores)\n",
        "print (total)"
      ],
      "metadata": {
        "colab": {
          "base_uri": "https://localhost:8080/"
        },
        "id": "pTienT5zymBF",
        "outputId": "ee857298-4d3a-4d0e-cd4e-6528608eeeb8"
      },
      "execution_count": 10,
      "outputs": [
        {
          "output_type": "stream",
          "name": "stdout",
          "text": [
            "a=75, b=65, 75 + 65 =140\n",
            "a=140, b=80, 140 + 80 =220\n",
            "a=220, b=95, 220 + 95 =315\n",
            "a=315, b=50, 315 + 50 =365\n",
            "365\n"
          ]
        }
      ]
    },
    {
      "cell_type": "code",
      "source": [
        "reduce (lambda a, b :a+b , scores)"
      ],
      "metadata": {
        "colab": {
          "base_uri": "https://localhost:8080/"
        },
        "id": "MQZINueP0gws",
        "outputId": "b9a3f85c-70a6-41a1-a816-03db4b631426"
      },
      "execution_count": 11,
      "outputs": [
        {
          "output_type": "execute_result",
          "data": {
            "text/plain": [
              "365"
            ]
          },
          "metadata": {},
          "execution_count": 11
        }
      ]
    }
  ]
}