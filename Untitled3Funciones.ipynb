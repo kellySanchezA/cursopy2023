{
  "nbformat": 4,
  "nbformat_minor": 0,
  "metadata": {
    "colab": {
      "provenance": [],
      "authorship_tag": "ABX9TyMTySY48wRT+lgHRGxaJm2u",
      "include_colab_link": true
    },
    "kernelspec": {
      "name": "python3",
      "display_name": "Python 3"
    },
    "language_info": {
      "name": "python"
    }
  },
  "cells": [
    {
      "cell_type": "markdown",
      "metadata": {
        "id": "view-in-github",
        "colab_type": "text"
      },
      "source": [
        "<a href=\"https://colab.research.google.com/github/kellySanchezA/cursopy2023/blob/main/Untitled3Funciones.ipynb\" target=\"_parent\"><img src=\"https://colab.research.google.com/assets/colab-badge.svg\" alt=\"Open In Colab\"/></a>"
      ]
    },
    {
      "cell_type": "code",
      "execution_count": null,
      "metadata": {
        "id": "uZTyFa7KLxlx"
      },
      "outputs": [],
      "source": [
        "#para crear una funcion en python\n",
        "#se usa la palabra reservada def\n",
        "def mi_primer_funcion():\n",
        "  print(\"hola, estoy dentro de la función 😎\")"
      ]
    },
    {
      "cell_type": "code",
      "source": [
        "mi_primer_funcion()"
      ],
      "metadata": {
        "colab": {
          "base_uri": "https://localhost:8080/"
        },
        "id": "agIZK6CdMZkh",
        "outputId": "b02b388a-f1f1-4965-df61-b2f3ed22f11c"
      },
      "execution_count": null,
      "outputs": [
        {
          "output_type": "stream",
          "name": "stdout",
          "text": [
            "hola, estoy dentro de la función 😎\n"
          ]
        }
      ]
    },
    {
      "cell_type": "code",
      "source": [
        "#Esta funcion regresa un tipo de dato\n",
        "#de tipo NoneType\n",
        "mi_variable = mi_primer_funcion()"
      ],
      "metadata": {
        "colab": {
          "base_uri": "https://localhost:8080/"
        },
        "id": "8057vLxvMiq3",
        "outputId": "21978852-aa4c-41ca-f0ea-300f84627cb9"
      },
      "execution_count": null,
      "outputs": [
        {
          "output_type": "stream",
          "name": "stdout",
          "text": [
            "hola, estoy dentro de la función 😎\n"
          ]
        }
      ]
    },
    {
      "cell_type": "code",
      "source": [
        "print (mi_variable)"
      ],
      "metadata": {
        "colab": {
          "base_uri": "https://localhost:8080/"
        },
        "id": "OR6wIwR7MvYH",
        "outputId": "5d3fbc15-44a6-458b-ff6e-988970685d8b"
      },
      "execution_count": null,
      "outputs": [
        {
          "output_type": "stream",
          "name": "stdout",
          "text": [
            "None\n"
          ]
        }
      ]
    },
    {
      "cell_type": "code",
      "source": [
        "type(mi_variable)"
      ],
      "metadata": {
        "colab": {
          "base_uri": "https://localhost:8080/"
        },
        "id": "1w5px25iMzqv",
        "outputId": "1b31078e-ce2c-4514-84e9-63a4e82acaa0"
      },
      "execution_count": null,
      "outputs": [
        {
          "output_type": "execute_result",
          "data": {
            "text/plain": [
              "NoneType"
            ]
          },
          "metadata": {},
          "execution_count": 6
        }
      ]
    },
    {
      "cell_type": "code",
      "source": [
        "def mi_segunda_funci():\n",
        "  print(\"HOLA MUNDO2\")\n",
        "mi_segunda_funci()"
      ],
      "metadata": {
        "colab": {
          "base_uri": "https://localhost:8080/"
        },
        "id": "FB9wFmVOM3iH",
        "outputId": "00944b4d-d237-494e-c1d2-370be597eadc"
      },
      "execution_count": null,
      "outputs": [
        {
          "output_type": "stream",
          "name": "stdout",
          "text": [
            "HOLA MUNDO2\n"
          ]
        }
      ]
    },
    {
      "cell_type": "code",
      "source": [
        "def mi_seg_funcion(nombre):\n",
        "  print ('hola '+ nombre +\", estamos dentron de una funcion\")"
      ],
      "metadata": {
        "id": "OIR6lnu-6w9s"
      },
      "execution_count": 1,
      "outputs": []
    },
    {
      "cell_type": "code",
      "source": [
        "mi_seg_funcion(\"kelly\")"
      ],
      "metadata": {
        "colab": {
          "base_uri": "https://localhost:8080/"
        },
        "id": "dkgD-4EO7Chj",
        "outputId": "a4079ac1-486c-4c4b-9434-1d3f9801a092"
      },
      "execution_count": 3,
      "outputs": [
        {
          "output_type": "stream",
          "name": "stdout",
          "text": [
            "hola kelly, estamos dentron de una funcion\n"
          ]
        }
      ]
    },
    {
      "cell_type": "code",
      "source": [
        "mi_seg_funcion(nombre=\"mexico\")"
      ],
      "metadata": {
        "colab": {
          "base_uri": "https://localhost:8080/"
        },
        "id": "5wlWPNsK7Pic",
        "outputId": "a23416f5-e15c-4334-98d6-6184cc03a23d"
      },
      "execution_count": 6,
      "outputs": [
        {
          "output_type": "stream",
          "name": "stdout",
          "text": [
            "hola mexico, estamos dentron de una funcion\n"
          ]
        }
      ]
    },
    {
      "cell_type": "code",
      "source": [
        "def funcion_sin_arg():\n",
        "  print('soy una funcion sin argumentos')"
      ],
      "metadata": {
        "id": "FoNUn_Lp7vBj"
      },
      "execution_count": 7,
      "outputs": []
    },
    {
      "cell_type": "markdown",
      "source": [
        "#FUNCIONES\n",
        "Con argumentos\n",
        "\n",
        "crear una funcion parqa obtener el area de un cuadrado"
      ],
      "metadata": {
        "id": "t_zCqk2g_nSE"
      }
    },
    {
      "cell_type": "code",
      "source": [
        "def area_cuadrado(Lado):\n",
        "  \"\"\"Calcula el area de un cuadrado\"\"\"\n",
        "  area = Lado * Lado\n",
        "  return area\n"
      ],
      "metadata": {
        "id": "p1LlsJo18mBs"
      },
      "execution_count": 15,
      "outputs": []
    },
    {
      "cell_type": "code",
      "source": [
        "area_cuadrado(4)"
      ],
      "metadata": {
        "colab": {
          "base_uri": "https://localhost:8080/"
        },
        "id": "NjVGfOXtBRwF",
        "outputId": "c1de7124-bb9b-4190-96e2-16260c2d436d"
      },
      "execution_count": 16,
      "outputs": [
        {
          "output_type": "execute_result",
          "data": {
            "text/plain": [
              "16"
            ]
          },
          "metadata": {},
          "execution_count": 16
        }
      ]
    },
    {
      "cell_type": "code",
      "source": [
        "from typing import Union"
      ],
      "metadata": {
        "id": "_JFVsHjECaoE"
      },
      "execution_count": 17,
      "outputs": []
    },
    {
      "cell_type": "code",
      "source": [
        "def area_cuadrado(lado: Union[int, float])-> Union [int,float]:\n",
        "  \"\"\"Calcula el area de un cuadrado\"\"\"\n",
        "  area = lado * lado\n",
        "  return area\n"
      ],
      "metadata": {
        "id": "MtM2ZjbMBpsl"
      },
      "execution_count": 18,
      "outputs": []
    },
    {
      "cell_type": "code",
      "source": [
        "area_cuadrado(4.0)"
      ],
      "metadata": {
        "colab": {
          "base_uri": "https://localhost:8080/"
        },
        "id": "ytX6cZ8YCiAN",
        "outputId": "29021dd6-4aef-4475-9775-7c5cb59b033e"
      },
      "execution_count": 19,
      "outputs": [
        {
          "output_type": "execute_result",
          "data": {
            "text/plain": [
              "16.0"
            ]
          },
          "metadata": {},
          "execution_count": 19
        }
      ]
    },
    {
      "cell_type": "code",
      "source": [
        "#ayuda a indicar el resultado y lo que recibe\n",
        "help(area_cuadrado)\n",
        "#area_cuadrado(3)"
      ],
      "metadata": {
        "colab": {
          "base_uri": "https://localhost:8080/"
        },
        "id": "yqWztHlFAhUG",
        "outputId": "055b40f8-af7c-480c-9ca7-5235336ddf3f"
      },
      "execution_count": 13,
      "outputs": [
        {
          "output_type": "stream",
          "name": "stdout",
          "text": [
            "Help on function area_cuadrado in module __main__:\n",
            "\n",
            "area_cuadrado(Lado)\n",
            "    Calcula el area de un cuadrado\n",
            "\n"
          ]
        }
      ]
    },
    {
      "cell_type": "markdown",
      "source": [
        "#ACTIVIDAD\n",
        "Area y perimetro de un rectangulo"
      ],
      "metadata": {
        "id": "vOtChgNHC9ZN"
      }
    },
    {
      "cell_type": "code",
      "source": [
        "def areaper_rectangulo(Lado1, Lado2):\n",
        "  \"\"\"Calcula el area y perimetro de un rectangulo\"\"\"\n",
        "  area = Lado1 * Lado2\n",
        "  perimetro =(2*Lado1)+ (2*Lado2)\n",
        "  return area, perimetro\n"
      ],
      "metadata": {
        "id": "Lk-GKZD2C86V"
      },
      "execution_count": 21,
      "outputs": []
    },
    {
      "cell_type": "code",
      "source": [
        "areaper_rectangulo(4,6)"
      ],
      "metadata": {
        "colab": {
          "base_uri": "https://localhost:8080/"
        },
        "id": "5UOLv61GD8_m",
        "outputId": "81dba3a4-8974-4536-9698-9d47dffee2a6"
      },
      "execution_count": 22,
      "outputs": [
        {
          "output_type": "execute_result",
          "data": {
            "text/plain": [
              "(24, 20)"
            ]
          },
          "metadata": {},
          "execution_count": 22
        }
      ]
    },
    {
      "cell_type": "markdown",
      "source": [
        "#ACTIVIDAD\n",
        "Area y perimetro de un Circulo"
      ],
      "metadata": {
        "id": "UaNM41vQEVxt"
      }
    },
    {
      "cell_type": "code",
      "source": [
        "pi=3.1416\n",
        "def areaper_Circulo(Radio):\n",
        "  \"\"\"Calcula el area y perimetro de un Circulo\"\"\"\n",
        "  area = pi *(Radio**2)\n",
        "  perimetro =2*pi*Radio\n",
        "  return area, perimetro\n",
        "\n"
      ],
      "metadata": {
        "id": "-oX2vnSBETPt"
      },
      "execution_count": 27,
      "outputs": []
    },
    {
      "cell_type": "code",
      "source": [
        "areaper_Circulo(4)"
      ],
      "metadata": {
        "colab": {
          "base_uri": "https://localhost:8080/"
        },
        "id": "W1O8FtUYE6wF",
        "outputId": "32367e4b-e141-45c0-b75b-fbd156a9321f"
      },
      "execution_count": 25,
      "outputs": [
        {
          "output_type": "execute_result",
          "data": {
            "text/plain": [
              "(50.2656, 25.1328)"
            ]
          },
          "metadata": {},
          "execution_count": 25
        }
      ]
    },
    {
      "cell_type": "markdown",
      "source": [
        "#Operadores\n",
        "a)asigne el valor 10 a la variable \"diez\"\n",
        "\n",
        "b)Asigna el valor 20 a la variable \"veinte\n",
        "\n",
        "c)usa el operador mayor igual que, e imprime el resultado:false"
      ],
      "metadata": {
        "id": "pPvC1_9UPbLx"
      }
    },
    {
      "cell_type": "code",
      "source": [
        "diez =10"
      ],
      "metadata": {
        "id": "YGFhWloZPfIs"
      },
      "execution_count": 30,
      "outputs": []
    },
    {
      "cell_type": "code",
      "source": [
        "veinte =20"
      ],
      "metadata": {
        "id": "qH20GR_9QNSd"
      },
      "execution_count": 31,
      "outputs": []
    },
    {
      "cell_type": "code",
      "source": [
        "print (diez >= veinte)"
      ],
      "metadata": {
        "id": "FEeRy1WoQRld",
        "outputId": "33bea3d9-a136-4dbc-f898-0cb862bf8c54",
        "colab": {
          "base_uri": "https://localhost:8080/"
        }
      },
      "execution_count": 32,
      "outputs": [
        {
          "output_type": "stream",
          "name": "stdout",
          "text": [
            "False\n"
          ]
        }
      ]
    },
    {
      "cell_type": "markdown",
      "source": [
        "#2.Convierte a codigo la siguiente expresion\n"
      ],
      "metadata": {
        "id": "G3u713l0QdPF"
      }
    },
    {
      "cell_type": "code",
      "source": [
        "a=20\n",
        "a=int\n",
        "b =20.0001\n",
        "b=str"
      ],
      "metadata": {
        "id": "uHeSUQeCRgjl"
      },
      "execution_count": 46,
      "outputs": []
    },
    {
      "cell_type": "markdown",
      "source": [
        "4.Compara si el texto 1 es igual que el dos"
      ],
      "metadata": {
        "id": "KcbvgX1pQrxo"
      }
    },
    {
      "cell_type": "code",
      "source": [
        "texto_1 = 'Marty! Tienes que venir conmigo, de regreso al futuro!'\n",
        "texto_2 = 'Marty! Tienes que venir conmigo, de regreso a1 futuro!'"
      ],
      "metadata": {
        "id": "iO9L-0OXQyUB"
      },
      "execution_count": 33,
      "outputs": []
    },
    {
      "cell_type": "code",
      "source": [
        "print (texto_1==texto_2)"
      ],
      "metadata": {
        "id": "0EB9KfuRQ1ke",
        "outputId": "5454e2e7-941e-48f0-e09b-575f5e30cbee",
        "colab": {
          "base_uri": "https://localhost:8080/"
        }
      },
      "execution_count": 35,
      "outputs": [
        {
          "output_type": "stream",
          "name": "stdout",
          "text": [
            "False\n"
          ]
        }
      ]
    },
    {
      "cell_type": "markdown",
      "source": [
        "5.compara si la frase 1 es diferente a la frase 2"
      ],
      "metadata": {
        "id": "0IzlC0SUQ_Y9"
      }
    },
    {
      "cell_type": "code",
      "source": [
        "frase_1 = 'Marty, lo siento, pero la única fuente de poder capaz de generar 1.21 giga watts de potencia eléctrica es un rayo'\n",
        "frase_2 = 'Marty, lo siento, pero la única fuente de poder capaz de generar 1.21 giga watts de potencia e1éctrica es un rayo'"
      ],
      "metadata": {
        "id": "ZQzpjHIgRHdf"
      },
      "execution_count": 36,
      "outputs": []
    },
    {
      "cell_type": "code",
      "source": [
        "print (frase_1  != frase_2)"
      ],
      "metadata": {
        "id": "hCJOZd1mRKfP",
        "outputId": "b42edf30-f2d0-4288-8aad-e12c3dc5625d",
        "colab": {
          "base_uri": "https://localhost:8080/"
        }
      },
      "execution_count": 37,
      "outputs": [
        {
          "output_type": "stream",
          "name": "stdout",
          "text": [
            "True\n"
          ]
        }
      ]
    },
    {
      "cell_type": "markdown",
      "source": [
        "#Condicionales"
      ],
      "metadata": {
        "id": "HGITLBUJWhsT"
      }
    },
    {
      "cell_type": "markdown",
      "source": [
        "#Act 1\n",
        "No voy a trabajar"
      ],
      "metadata": {
        "id": "8al_NIfIWv7N"
      }
    },
    {
      "cell_type": "code",
      "source": [
        "dia ='martes'\n",
        "if dia == 'lunes':\n",
        "  print(\"No voa tabajá!\")\n",
        "elif dia=='martes':\n",
        "  print(\"Ni te cases ni te embarques Pa que voy a arriesgarme No voy a trabajar!\")\n",
        "elif dia=='miercoles':\n",
        "  print(\"Se casa la patrona\")\n",
        "elif dia=='jueves':\n",
        "  print(\"Estoy muy desvelado\")\n",
        "elif dia== 'viernes':\n",
        "  print(\"Que muere jesucristo!Donde se ha visto?\")\n",
        "elif dia == 'sabado':\n",
        "  print(\"Trabajo medio día\")\n",
        "elif dia == 'domingo':\n",
        "  print(\"Día de descanso\")\n",
        "else :\n",
        "  print(\"SOLO SE PUEDE LOS DIAS DE LA SEMANA!!!\")\n",
        "\n"
      ],
      "metadata": {
        "id": "R5j3aw2TWk97",
        "outputId": "731018a3-4fdd-40d6-bf02-604e8970d587",
        "colab": {
          "base_uri": "https://localhost:8080/"
        }
      },
      "execution_count": 64,
      "outputs": [
        {
          "output_type": "stream",
          "name": "stdout",
          "text": [
            "Ni te cases ni te embarques Pa que voy a arriesgarme No voy a trabajar!\n"
          ]
        }
      ]
    }
  ]
}